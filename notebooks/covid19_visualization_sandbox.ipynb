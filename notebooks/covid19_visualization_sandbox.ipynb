{
  "nbformat": 4,
  "nbformat_minor": 0,
  "metadata": {
    "colab": {
      "name": "covid19_visualization_sandbox.ipynb",
      "provenance": [],
      "collapsed_sections": [
        "cvTLKCc0vwqD",
        "wYEW-Mbzw8FH",
        "awTYyMtBw4sU",
        "Ub51YpUGuku1",
        "6NsUYIbgjNyW",
        "tjCAMTAFuyIk",
        "B4hRaFs6vUJy",
        "xIiyCZZB79tp"
      ]
    },
    "kernelspec": {
      "name": "python3",
      "display_name": "Python 3"
    }
  },
  "cells": [
    {
      "cell_type": "markdown",
      "metadata": {
        "id": "agODes2GCmoc",
        "colab_type": "text"
      },
      "source": [
        "# Get data from Johns Hopkins github repository\n",
        "https://github.com/CSSEGISandData/COVID-19.\n"
      ]
    },
    {
      "cell_type": "code",
      "metadata": {
        "id": "rm5yUHbQCCub",
        "colab_type": "code",
        "outputId": "6e07d764-d083-4655-caaf-05cd5fc2c372",
        "colab": {
          "base_uri": "https://localhost:8080/",
          "height": 148
        }
      },
      "source": [
        "!git clone https://github.com/CSSEGISandData/COVID-19.git"
      ],
      "execution_count": 1,
      "outputs": [
        {
          "output_type": "stream",
          "text": [
            "Cloning into 'COVID-19'...\n",
            "remote: Enumerating objects: 21, done.\u001b[K\n",
            "remote: Counting objects: 100% (21/21), done.\u001b[K\n",
            "remote: Compressing objects: 100% (12/12), done.\u001b[K\n",
            "remote: Total 20834 (delta 10), reused 16 (delta 9), pack-reused 20813\u001b[K\n",
            "Receiving objects: 100% (20834/20834), 86.63 MiB | 28.99 MiB/s, done.\n",
            "Resolving deltas: 100% (11029/11029), done.\n"
          ],
          "name": "stdout"
        }
      ]
    },
    {
      "cell_type": "code",
      "metadata": {
        "id": "bVaWgnDSCeFB",
        "colab_type": "code",
        "outputId": "c65fc60c-b088-4bb0-8f01-190ed6bcc05f",
        "colab": {
          "base_uri": "https://localhost:8080/",
          "height": 54
        }
      },
      "source": [
        "%cd COVID-19\n",
        "!ls"
      ],
      "execution_count": 2,
      "outputs": [
        {
          "output_type": "stream",
          "text": [
            "/content/COVID-19\n",
            "archived_data  csse_covid_19_data  README.md  who_covid_19_situation_reports\n"
          ],
          "name": "stdout"
        }
      ]
    },
    {
      "cell_type": "markdown",
      "metadata": {
        "id": "QdMzoPGdGgVa",
        "colab_type": "text"
      },
      "source": [
        "# Pascal's COVID-19 scripts"
      ]
    },
    {
      "cell_type": "code",
      "metadata": {
        "id": "_BmwdIpfuwkN",
        "colab_type": "code",
        "outputId": "75bce16c-6b29-46ba-fada-a0e9b4ddb975",
        "colab": {
          "base_uri": "https://localhost:8080/",
          "height": 56
        }
      },
      "source": [
        "#@title\n",
        "\"\"\"Plot COVID-19 time series data from Johns Hopkins University.\n",
        "\n",
        "This script makes a few plots of COVID-19 cases from the data in Johns Hopkins'\n",
        "github repo https://github.com/CSSEGISandData/COVID-19.\n",
        "\n",
        "\n",
        "How to use this script:\n",
        "\n",
        "0. Install matplotlib, numpy, pandas.\n",
        "\n",
        "1. Clone the github repo to download the repo\n",
        "\n",
        "  git clone https://github.com/CSSEGISandData/COVID-19.git\n",
        "\n",
        "Later you can `git pull` to update the data. The repo updates about twice a day.\n",
        "\n",
        "2. Put this script inside the repo's root COVID-19 directory.\n",
        "\n",
        "3. Run the script\n",
        "\n",
        "  python3 plot_covid_19.py\n",
        "\n",
        "\n",
        "Pascal Getreuer 2020\n",
        "\"\"\"\n",
        "\n"
      ],
      "execution_count": 3,
      "outputs": [
        {
          "output_type": "execute_result",
          "data": {
            "text/plain": [
              "\"Plot COVID-19 time series data from Johns Hopkins University.\\n\\nThis script makes a few plots of COVID-19 cases from the data in Johns Hopkins'\\ngithub repo https://github.com/CSSEGISandData/COVID-19.\\n\\n\\nHow to use this script:\\n\\n0. Install matplotlib, numpy, pandas.\\n\\n1. Clone the github repo to download the repo\\n\\n  git clone https://github.com/CSSEGISandData/COVID-19.git\\n\\nLater you can `git pull` to update the data. The repo updates about twice a day.\\n\\n2. Put this script inside the repo's root COVID-19 directory.\\n\\n3. Run the script\\n\\n  python3 plot_covid_19.py\\n\\n\\nPascal Getreuer 2020\\n\""
            ]
          },
          "metadata": {
            "tags": []
          },
          "execution_count": 3
        }
      ]
    },
    {
      "cell_type": "markdown",
      "metadata": {
        "id": "6NsUYIbgjNyW",
        "colab_type": "text"
      },
      "source": [
        "## Imports"
      ]
    },
    {
      "cell_type": "code",
      "metadata": {
        "id": "C-l9TycYj6Yx",
        "colab_type": "code",
        "colab": {}
      },
      "source": [
        "from datetime import datetime\n",
        "import glob\n",
        "import os.path\n",
        "import matplotlib.dates\n",
        "import matplotlib.pyplot as plt\n",
        "import numpy as np\n",
        "import pandas as pd"
      ],
      "execution_count": 0,
      "outputs": []
    },
    {
      "cell_type": "markdown",
      "metadata": {
        "id": "tjCAMTAFuyIk",
        "colab_type": "text"
      },
      "source": [
        "## Constants and definitions"
      ]
    },
    {
      "cell_type": "code",
      "metadata": {
        "id": "gDCikggYu1mv",
        "colab_type": "code",
        "colab": {}
      },
      "source": [
        "# Glob of daily report CSV files.\n",
        "COVID19_CSV_GLOB = 'csse_covid_19_data/csse_covid_19_daily_reports/*.csv'\n",
        "\n",
        "# Map from US state code to state name.\n",
        "# Used for normalizing some naming inconsistencies.\n",
        "US_STATE_CODE_TO_NAME = {\n",
        "  'AL': 'Alabama',\n",
        "  'AK': 'Alaska',\n",
        "  'AZ': 'Arizona',\n",
        "  'AR': 'Arkansas', \n",
        "  'CA': 'California',\n",
        "  'CO': 'Colorado',\n",
        "  'CT': 'Connecticut',\n",
        "  'DE': 'Delaware',\n",
        "  'DC': 'D.C.',\n",
        "  'FL': 'Florida',\n",
        "  'GA': 'Georgia',\n",
        "  'HI': 'Hawaii',\n",
        "  'ID': 'Idaho',\n",
        "  'IL': 'Illinois',\n",
        "  'IN': 'Indiana',\n",
        "  'IA': 'Iowa',\n",
        "  'KS': 'Kansas',\n",
        "  'KY': 'Kentucky',\n",
        "  'LA': 'Louisiana',\n",
        "  'ME': 'Maine',\n",
        "  'MD': 'Maryland',\n",
        "  'MA': 'Massachusetts',\n",
        "  'MI': 'Michigan',\n",
        "  'MN': 'Minnesota',\n",
        "  'MS': 'Mississippi',\n",
        "  'MO': 'Missouri',\n",
        "  'MT': 'Montana',\n",
        "  'NE': 'Nebraska',\n",
        "  'NV': 'Nevada',\n",
        "  'NH': 'New Hampshire',\n",
        "  'NJ': 'New Jersey',\n",
        "  'NM': 'New Mexico',\n",
        "  'NY': 'New York',\n",
        "  'NC': 'North Carolina',\n",
        "  'ND': 'North Dakota',\n",
        "  'OH': 'Ohio',\n",
        "  'OK': 'Oklahoma',\n",
        "  'OR': 'Oregon',\n",
        "  'PA': 'Pennsylvania',\n",
        "  'RI': 'Rhode Island',\n",
        "  'SC': 'South Carolina',\n",
        "  'SD': 'South Dakota',\n",
        "  'TN': 'Tennessee',\n",
        "  'TX': 'Texas',\n",
        "  'UT': 'Utah',\n",
        "  'VT': 'Vermont',\n",
        "  'VA': 'Virginia',\n",
        "  'WA': 'Washington',\n",
        "  'WV': 'West Virginia',\n",
        "  'WI': 'Wisconsin',\n",
        "  'WY': 'Wyoming',\n",
        "}\n",
        "\n",
        "# Country population estimates for a few countries as of July 1, 2019, from\n",
        "# https://en.wikipedia.org/wiki/List_of_countries_by_population_(United_Nations)\n",
        "COUNTRY_POPULATION = {\n",
        "  'China': 1433783686,\n",
        "  'India': 1366417754,\n",
        "  'US': 329064917,\n",
        "  'Indonesia': 270625568,\n",
        "  'Pakistan': 216565318,\n",
        "  'Brazil': 211049527,\n",
        "  'Nigeria': 200963599,\n",
        "  'Bangladesh': 163046161,\n",
        "  'Russia': 145872256,\n",
        "  'Mexico': 127575529,\n",
        "  'Japan': 126860301,\n",
        "  'Ethiopia': 112078730,\n",
        "  'Philippines': 108116615,\n",
        "  'Egypt': 100388073,\n",
        "  'Germany': 83517045,\n",
        "  'United Kingdom': 67530172,\n",
        "  'France': 65129728,\n",
        "  'Iran': 82913906,\n",
        "  'Italy': 60550075,\n",
        "  'South Korea': 51225308,\n",
        "  'Spain': 46736776,\n",
        "  'Netherlands': 17097130,\n",
        "  'Switzerland': 8591365,\n",
        "}\n",
        "\n",
        "# US state population estimates for a few states as of July 1, 2019, from\n",
        "# https://simple.wikipedia.org/wiki/List_of_U.S._states_by_population\n",
        "US_STATE_POPULATION = {\n",
        "  'California': 39512223,\n",
        "  'Texas': 28995881,\n",
        "  'Florida': 21477737,\n",
        "  'New York': 19453561,\n",
        "  'Pennsylvania': 12801989,\n",
        "  'New Jersey': 8882190,\n",
        "  'Virginia': 8535519,\n",
        "  'Washington': 7614893,\n",
        "  'Georgia': 10617423,\n",
        "  'Illinois': 12671821,\n",
        "  'Michigan': 9986857,\n",
        "  'Alabama': 4903185,\n",
        "  'Louisiana': 4648794,\n",
        "}\n",
        "\n",
        "PLOT_COLORS = plt.rcParams['axes.prop_cycle'].by_key()['color']"
      ],
      "execution_count": 0,
      "outputs": []
    },
    {
      "cell_type": "markdown",
      "metadata": {
        "id": "FWZHwfp_u_Q8",
        "colab_type": "text"
      },
      "source": [
        "## Classes"
      ]
    },
    {
      "cell_type": "code",
      "metadata": {
        "id": "6FBboESVvGuK",
        "colab_type": "code",
        "colab": {}
      },
      "source": [
        "class Dataset(object):\n",
        "  \"\"\"Wrapper around DataFrame with some convience methods.\"\"\"\n",
        "\n",
        "  def __init__(self):\n",
        "    \"\"\"Constructor. Loads COVID-19 data from JHU's daily report CSV files.\"\"\"\n",
        "    dfs, keys = [], []\n",
        "    \n",
        "    for csv_file in glob.glob(COVID19_CSV_GLOB):\n",
        "      try:\n",
        "        # Column names changed after March 23 2020.\n",
        "        if os.path.basename(csv_file) >= '03-22-2020.csv':\n",
        "          index_col = ['Country_Region', 'Province_State']\n",
        "        else:\n",
        "          index_col = ['Country/Region', 'Province/State']\n",
        "        use_cols = set(index_col + ['Confirmed', 'Deaths', 'Recovered'])\n",
        "        \n",
        "        # Each CSV file represents one day.\n",
        "        dfs.append(pd.read_csv(csv_file,\n",
        "          index_col=index_col,\n",
        "          usecols=lambda x: x in use_cols))\n",
        "        date = os.path.splitext(os.path.basename(csv_file))[0]\n",
        "        keys.append(date)\n",
        "      except ValueError as e:\n",
        "        raise ValueError('%s: %s' % (csv_file, e))\n",
        "      \n",
        "    keys = pd.to_datetime(keys)\n",
        "    self.df = pd.concat(dfs, keys=keys)  # Concat days to make time series.\n",
        "\n",
        "    def _normalize_index(date, country, province):\n",
        "      country = country.strip()\n",
        "      province = province.strip() if isinstance(province, str) else province\n",
        "      # Normalize for some inconsistencies in naming.\n",
        "      if country == 'Mainland China':\n",
        "        country = 'China'\n",
        "      elif country in ('Korea, South', 'Republic of Korea'):\n",
        "        country = 'South Korea'\n",
        "      elif country == 'Iran (Islamic Republic of)':\n",
        "        country = 'Iran'\n",
        "    \n",
        "      if country == 'US':\n",
        "        if ', ' in province: # Strip city or county name if present.\n",
        "          state_code = province.rsplit(', ', 1)[-1][:2]\n",
        "          if state_code in US_STATE_CODE_TO_NAME:\n",
        "            province = US_STATE_CODE_TO_NAME[state_code]\n",
        "\n",
        "      return country, province, date\n",
        "\n",
        "    self.df.index = pd.MultiIndex.from_tuples([\n",
        "        _normalize_index(*x) for x in self.df.index],\n",
        "        names=('Country', 'Province', 'Date'))\n",
        "    self.df.sort_index(inplace=True)\n",
        "    self.df.fillna(value=0, inplace=True)  # Replace missing with zero.\n",
        "    # Cast case counts to integer.\n",
        "    for col in self.df.columns:\n",
        "      self.df[col] = self.df[col].astype(int)\n",
        "    \n",
        "    self.df['Active'] = (\n",
        "        self.df['Confirmed'] - self.df['Deaths'] - self.df['Recovered'])\n",
        "    # self.df is a DataFrame with 3-level index ('Country', 'Province', 'Date')\n",
        "    # and columns ('Confirmed', 'Deaths', 'Recovered', 'Active').\n",
        "    \n",
        "    # Get time series of country totals by summing up provinces.\n",
        "    # self.df_countries has a 2-level index ('Country', 'Date').\n",
        "    self.df_countries = self.df.groupby(level=(0, 2)).sum()\n",
        "    # Get time series of US state totals.\n",
        "    # self.df_us_states has a 2-level index ('Province', 'Date').\n",
        "    self.df_us_states = self.df.loc['US'].groupby(level=(0, 1)).sum()\n",
        "    \n",
        "  def get_country(self, country):\n",
        "    \"\"\"Gets time series of total cases in `country`.\"\"\"\n",
        "    df_country = self.df_countries.loc[country]\n",
        "    df_country.df_name = country\n",
        "    return df_country\n",
        "    \n",
        "  def get_province(self, province, country):\n",
        "    \"\"\"Gets time series of total cases in `province`.\"\"\"\n",
        "    df_province = self.df.loc[(country, province)].groupby(level=0).sum()\n",
        "    df_province.df_name = '%s, %s' % (province, country)\n",
        "    return df_province"
      ],
      "execution_count": 0,
      "outputs": []
    },
    {
      "cell_type": "markdown",
      "metadata": {
        "id": "B4hRaFs6vUJy",
        "colab_type": "text"
      },
      "source": [
        "## Global methods"
      ]
    },
    {
      "cell_type": "code",
      "metadata": {
        "id": "2xcwpFBACytH",
        "colab_type": "code",
        "cellView": "both",
        "colab": {
          "base_uri": "https://localhost:8080/",
          "height": 404
        },
        "outputId": "ba89d894-3248-4e32-b7ca-440d8209efe4"
      },
      "source": [
        "# Make a global Dataset object `d` for convenience.\n",
        "d = Dataset()\n",
        "\n",
        "def print_data_summaries(n_countries = -1, n_us_states = -1):\n",
        "  # Print some summary info.\n",
        "  data_date = d.get_country('US').index[-1].date()\n",
        "  print('Data last updated on %s' % data_date)\n",
        "\n",
        "  # Get latest data for the countries with the most current active cases.\n",
        "\n",
        "  if n_countries == -1:\n",
        "    world_summary = d.df_countries.xs(data_date, level=1)#.nlargest(7, 'Active')\n",
        "  else:\n",
        "    world_summary = d.df_countries.xs(data_date, level=1).nlargest(n_countries, 'Active')    \n",
        "\n",
        "  active_per_million = []\n",
        "  for country, active in world_summary['Active'].iteritems():\n",
        "    if country in COUNTRY_POPULATION:\n",
        "      active_per_million.append(active * 1e6 / COUNTRY_POPULATION[country])\n",
        "    else:\n",
        "      active_per_million.append(None)\n",
        "  world_summary['Active per 1M people'] = active_per_million\n",
        "\n",
        "  print('\\nMost affected countries:')\n",
        "  print(world_summary)\n",
        "  \n",
        "  # Get latest data for the US states with the most current active cases.\n",
        "  if n_us_states == -1:\n",
        "    us_summary = d.df_us_states.xs(data_date, level=1)#.nlargest(7, 'Active')\n",
        "  else:\n",
        "    us_summary = d.df_us_states.xs(data_date, level=1).nlargest(n_us_states, 'Active')\n",
        "\n",
        "  active_per_million = []\n",
        "  for country, active in us_summary['Active'].iteritems():\n",
        "    if country in US_STATE_POPULATION:\n",
        "      active_per_million.append(active * 1e6 / US_STATE_POPULATION[country])\n",
        "    else:\n",
        "      active_per_million.append(None)\n",
        "  us_summary['Active per 1M people'] = active_per_million\n",
        "\n",
        "  print('\\nMost affected US states:')\n",
        "  print(us_summary)\n",
        "\n",
        "  \n",
        "def date_to_plot_coords(x):\n",
        "  \"\"\"Map datetime64 values to plotting coordinates.\"\"\"\n",
        "  if isinstance(x, pd.Series):\n",
        "    x = x.index.values\n",
        "  return x.astype(float) / (1e9 * 24 * 60 * 60)\n",
        "  \n",
        "  \n",
        "def predict_growth(series):\n",
        "  \"\"\"Given a series, extrapolate the next 3 days based on last 7 days.\"\"\"\n",
        "  last_week = series[-7:]\n",
        "  delta_days = np.arange(4)\n",
        "\n",
        "  p = np.polyfit(np.arange(-6, 1),\n",
        "                 np.log(np.maximum(1e-8, last_week.values)), 1)\n",
        "  c = np.exp(p[1])\n",
        "  T = 0\n",
        "  if p[0] > 0:\n",
        "    T = 1/(np.log2(np.e) * p[0])\n",
        "    note = ' (doubles in %.1f days)' % T\n",
        "  else:\n",
        "    note = ''\n",
        "  \n",
        "  prediction = pd.Series(\n",
        "      np.exp(np.polyval(p, delta_days)),\n",
        "      index=[last_week.index[-1] + np.timedelta64(d, 'D')\n",
        "          for d in delta_days])\n",
        "  # Return the predicted series, a text note, and model parameters (c, T).\n",
        "  return prediction, note, (c, T)\n",
        "  \n",
        "\n",
        "def make_plot_with_predictions(df, ax=None, logy=False):\n",
        "  \"\"\"Make a plot including 3-day predictions as dotted lines.\n",
        "  \n",
        "  Each column of `df` is plotted as a line. Rows of `df` should be dates.\n",
        "  \"\"\"\n",
        "  if ax is None:\n",
        "    ax = plt.gca()\n",
        "    \n",
        "  markers = ['+', '.', '']\n",
        "  \n",
        "  for pred in (False, True):\n",
        "    for i, country in enumerate(df.columns):\n",
        "      series = df[country]\n",
        "      prediction, note, _ = predict_growth(series)\n",
        "      series = series.rename(index=(country + note))\n",
        "      if not pred:\n",
        "        series.plot(style='-', marker=markers[i % len(markers)],\n",
        "                    color=PLOT_COLORS[i], ax=ax, logy=logy)\n",
        "      else:\n",
        "        plot_fun = ax.semilogy if logy else ax.plot\n",
        "        plot_fun(date_to_plot_coords(prediction),\n",
        "            prediction.values, ':', color=PLOT_COLORS[i])\n",
        "    \n",
        "  plt.legend()\n",
        "  x_min = date_to_plot_coords(series)[0]\n",
        "  x_max = date_to_plot_coords(prediction)[-1]\n",
        "  plt.xlim(x_min, x_max)\n",
        "  plt.grid(True)\n",
        "  \n",
        "\n",
        "def get_active_ts_for_countries(countries, per_million=False):\n",
        "  df = d.df_countries['Active'].unstack(level=0)[countries].fillna(value=0)\n",
        "  if per_million:\n",
        "    for country in countries:\n",
        "      df[country] *= 1e6 / COUNTRY_POPULATION[country]\n",
        "  return df\n",
        "  \n",
        "  \n",
        "def get_active_ts_for_us_states(states, per_million=False):\n",
        "  df = d.df_us_states['Active'].unstack(level=0)[states].fillna(value=0)\n",
        "  if per_million:\n",
        "    for state in states:\n",
        "      df[state] *= 1e6 / US_STATE_POPULATION[state]\n",
        "  return df\n",
        "\n"
      ],
      "execution_count": 29,
      "outputs": [
        {
          "output_type": "error",
          "ename": "ValueError",
          "evalue": "ignored",
          "traceback": [
            "\u001b[0;31m---------------------------------------------------------------------------\u001b[0m",
            "\u001b[0;31mValueError\u001b[0m                                Traceback (most recent call last)",
            "\u001b[0;32m<ipython-input-29-265639bbf233>\u001b[0m in \u001b[0;36m<module>\u001b[0;34m()\u001b[0m\n\u001b[0;32m----> 1\u001b[0;31m \u001b[0md\u001b[0m \u001b[0;34m=\u001b[0m \u001b[0mDataset\u001b[0m\u001b[0;34m(\u001b[0m\u001b[0;34m)\u001b[0m\u001b[0;34m\u001b[0m\u001b[0;34m\u001b[0m\u001b[0m\n\u001b[0m\u001b[1;32m      2\u001b[0m \u001b[0;34m\u001b[0m\u001b[0m\n\u001b[1;32m      3\u001b[0m \u001b[0;32mdef\u001b[0m \u001b[0mprint_data_summaries\u001b[0m\u001b[0;34m(\u001b[0m\u001b[0mn_countries\u001b[0m \u001b[0;34m=\u001b[0m \u001b[0;34m-\u001b[0m\u001b[0;36m1\u001b[0m\u001b[0;34m,\u001b[0m \u001b[0mn_us_states\u001b[0m \u001b[0;34m=\u001b[0m \u001b[0;34m-\u001b[0m\u001b[0;36m1\u001b[0m\u001b[0;34m)\u001b[0m\u001b[0;34m:\u001b[0m\u001b[0;34m\u001b[0m\u001b[0;34m\u001b[0m\u001b[0m\n\u001b[1;32m      4\u001b[0m   \u001b[0;31m# Print some summary info.\u001b[0m\u001b[0;34m\u001b[0m\u001b[0;34m\u001b[0m\u001b[0;34m\u001b[0m\u001b[0m\n\u001b[1;32m      5\u001b[0m   \u001b[0mdata_date\u001b[0m \u001b[0;34m=\u001b[0m \u001b[0md\u001b[0m\u001b[0;34m.\u001b[0m\u001b[0mget_country\u001b[0m\u001b[0;34m(\u001b[0m\u001b[0;34m'US'\u001b[0m\u001b[0;34m)\u001b[0m\u001b[0;34m.\u001b[0m\u001b[0mindex\u001b[0m\u001b[0;34m[\u001b[0m\u001b[0;34m-\u001b[0m\u001b[0;36m1\u001b[0m\u001b[0;34m]\u001b[0m\u001b[0;34m.\u001b[0m\u001b[0mdate\u001b[0m\u001b[0;34m(\u001b[0m\u001b[0;34m)\u001b[0m\u001b[0;34m\u001b[0m\u001b[0;34m\u001b[0m\u001b[0m\n",
            "\u001b[0;32m<ipython-input-28-45535443fb82>\u001b[0m in \u001b[0;36m__init__\u001b[0;34m(self)\u001b[0m\n\u001b[1;32m     56\u001b[0m \u001b[0;34m\u001b[0m\u001b[0m\n\u001b[1;32m     57\u001b[0m     self.df['Active'] = (\n\u001b[0;32m---> 58\u001b[0;31m         max(0, self.df['Confirmed'] - self.df['Deaths'] - self.df['Recovered']))\n\u001b[0m\u001b[1;32m     59\u001b[0m     \u001b[0;31m# self.df is a DataFrame with 3-level index ('Country', 'Province', 'Date')\u001b[0m\u001b[0;34m\u001b[0m\u001b[0;34m\u001b[0m\u001b[0;34m\u001b[0m\u001b[0m\n\u001b[1;32m     60\u001b[0m     \u001b[0;31m# and columns ('Confirmed', 'Deaths', 'Recovered', 'Active').\u001b[0m\u001b[0;34m\u001b[0m\u001b[0;34m\u001b[0m\u001b[0;34m\u001b[0m\u001b[0m\n",
            "\u001b[0;32m/usr/local/lib/python3.6/dist-packages/pandas/core/generic.py\u001b[0m in \u001b[0;36m__nonzero__\u001b[0;34m(self)\u001b[0m\n\u001b[1;32m   1477\u001b[0m     \u001b[0;32mdef\u001b[0m \u001b[0m__nonzero__\u001b[0m\u001b[0;34m(\u001b[0m\u001b[0mself\u001b[0m\u001b[0;34m)\u001b[0m\u001b[0;34m:\u001b[0m\u001b[0;34m\u001b[0m\u001b[0;34m\u001b[0m\u001b[0m\n\u001b[1;32m   1478\u001b[0m         raise ValueError(\n\u001b[0;32m-> 1479\u001b[0;31m             \u001b[0;34mf\"The truth value of a {type(self).__name__} is ambiguous. \"\u001b[0m\u001b[0;34m\u001b[0m\u001b[0;34m\u001b[0m\u001b[0m\n\u001b[0m\u001b[1;32m   1480\u001b[0m             \u001b[0;34m\"Use a.empty, a.bool(), a.item(), a.any() or a.all().\"\u001b[0m\u001b[0;34m\u001b[0m\u001b[0;34m\u001b[0m\u001b[0m\n\u001b[1;32m   1481\u001b[0m         )\n",
            "\u001b[0;31mValueError\u001b[0m: The truth value of a Series is ambiguous. Use a.empty, a.bool(), a.item(), a.any() or a.all()."
          ]
        }
      ]
    },
    {
      "cell_type": "code",
      "metadata": {
        "id": "q4AsfwGVzKb9",
        "colab_type": "code",
        "colab": {}
      },
      "source": [
        "# most_affected_countries"
      ],
      "execution_count": 0,
      "outputs": []
    },
    {
      "cell_type": "markdown",
      "metadata": {
        "id": "6_K4gpAF2r4C",
        "colab_type": "text"
      },
      "source": [
        "# Alex's Altair Visualizations\n"
      ]
    },
    {
      "cell_type": "code",
      "metadata": {
        "id": "xv_fRi_F2uzo",
        "colab_type": "code",
        "colab": {}
      },
      "source": [
        "import altair as alt\n",
        "import pandas as pd\n",
        "\n",
        "def getCountriesNLargest(n = 10, criteria = 'Confirmed'):\n",
        "\n",
        "  # find the countries with the currently n largest cases\n",
        "  data_date = d.get_country('US').index[-1].date()\n",
        "  print('Data last updated on %s' % data_date)\n",
        "  # Will return PD with index = 'Country' but data is only from data_date\n",
        "  n_active = d.df_countries.xs(data_date, level=1).nlargest(n, criteria)\n",
        "  # Use the country indices to obtain all the data\n",
        "  n_countries = d.df_countries.loc[n_active.index]\n",
        "\n",
        "  return n_countries\n",
        "\n",
        "def getCountriesNordic():\n",
        "  nordic_countries = d.df_countries.loc[['Denmark', 'Finland', 'Iceland', 'Norway', 'Sweden' ]]\n",
        "  return nordic_countries\n"
      ],
      "execution_count": 0,
      "outputs": []
    },
    {
      "cell_type": "markdown",
      "metadata": {
        "id": "qdRE5lcGYjiv",
        "colab_type": "text"
      },
      "source": [
        "\n",
        "## Comparing curves for single country"
      ]
    },
    {
      "cell_type": "code",
      "metadata": {
        "id": "vS3A3T53FuwI",
        "colab_type": "code",
        "colab": {}
      },
      "source": [
        "def getCountryPlots(countries, index = 0):\n",
        "\n",
        "  # Use reset_index() to convert 'date' index to column, since Altair\n",
        "  # ignores index values: https://github.com/altair-viz/altair/issues/271\n",
        "  data_country = countries.reset_index()\n",
        "\n",
        "  #data_country = data_country.melt('Date', var_name=\"Type\", value_name = \"Count\")\n",
        "\n",
        "  countries = list(data_country['Country'].unique())\n",
        "\n",
        "  input_dropdown = alt.binding_select(options=countries)\n",
        "  selection = alt.selection_single(fields=['Country'], bind=input_dropdown, name='Select', init={'Country': countries[index]})\n",
        "\n",
        "  country_chart = alt.Chart(data_country).transform_fold(\n",
        "            ['Recovered', 'Active', 'Deaths', 'Confirmed'],\n",
        "            as_= ['Type', 'Count']\n",
        "          ).mark_line().encode( \n",
        "  #        y = alt.Y('Count:Q', axis=alt.Axis(format=',.2d', title=None)),\n",
        "          y = alt.Y('Count:Q', ),\n",
        "\n",
        "          x=alt.X('Date', axis=alt.Axis(format='%b %d')), #https://github.com/d3/d3-time-format#locale_format\n",
        "          color='Type:N',\n",
        "          opacity=alt.value(0.7)\n",
        "          ).add_selection(\n",
        "            selection\n",
        "          ).transform_filter(\n",
        "            selection          \n",
        "          ).configure_axis(\n",
        "              grid=False,\n",
        "              ticks=False,\n",
        "              title=None,\n",
        "              domainColor='lightgray',\n",
        "              labelFont = 'Roboto Condensed',\n",
        "              \n",
        "        ).configure_axisY(\n",
        "              grid=True,\n",
        "              ).configure_view(\n",
        "              strokeWidth=0\n",
        "          ).configure_area(\n",
        "          ).configure_legend(\n",
        "              labelFont = 'Roboto Condensed',\n",
        "              title = None \n",
        "          ).interactive() \n",
        "\n",
        "  return country_chart\n",
        "\n",
        "# getCountryPlots()"
      ],
      "execution_count": 0,
      "outputs": []
    },
    {
      "cell_type": "markdown",
      "metadata": {
        "id": "2yZedZyQSyRL",
        "colab_type": "text"
      },
      "source": [
        "## Multi-plot, comparing countries"
      ]
    },
    {
      "cell_type": "code",
      "metadata": {
        "id": "XBJDSySdp_s2",
        "colab_type": "code",
        "colab": {}
      },
      "source": [
        "def getMultiPlots(countries):\n",
        "\n",
        "  WIDTH = 600\n",
        "  HEIGHT = WIDTH\n",
        "  N_SUBCHARTS = 3\n",
        "  WS = WIDTH/N_SUBCHARTS\n",
        "  HS = HEIGHT/N_SUBCHARTS\n",
        "\n",
        "  # Use reset_index() to convert 'date' index to column, since Altair\n",
        "  # ignores index values: https://github.com/altair-viz/altair/issues/271\n",
        "  data_country = countries.reset_index()\n",
        "  selection = alt.selection_multi(fields=['Country'], bind='legend')\n",
        "\n",
        "  # Create the base chart\n",
        "  base = alt.Chart(data_country).mark_line().encode( \n",
        "          color='Country',\n",
        "          opacity=alt.condition(selection, alt.value(1), alt.value(0.2)),\n",
        "          tooltip = ['Date', 'Country', 'Active', 'Recovered', 'Deaths'],\n",
        "\n",
        "          ).add_selection(\n",
        "            selection\n",
        "          ).interactive().properties(width = WS, height = HS)\n",
        "\n",
        "  multi_chart = alt.vconcat(data=data_country)\n",
        "\n",
        "  row = alt.hconcat()\n",
        "  row |= base.encode(y=alt.Y('Recovered', scale = alt.Scale(type='linear')), x='Deaths').properties(title='Recovered vs. Deaths', width=WIDTH/2, height=HEIGHT/2)\n",
        "  row |= base.encode(y='Confirmed', x='Deaths').properties(title='Confirmed vs. Deaths', width=WIDTH/2, height=HEIGHT/2)\n",
        "  multi_chart &= row\n",
        "\n",
        "  row = alt.hconcat()\n",
        "  row |= base.encode(opacity=alt.condition(selection, alt.value(1), alt.value(0.2)), y=alt.Y('Confirmed', axis=alt.Axis(title='')), x=alt.X('Date', axis=alt.Axis(title=''))).properties(title='Confirmed')\n",
        "#  row |= base.encode(opacity=alt.condition(selection, alt.value(1), alt.value(0.2)), y=alt.Y('Active', axis=alt.Axis(title='')), x=alt.X('Date', axis=alt.Axis(title=''))).properties(title='Active')\n",
        "  row |= base.encode(y=alt.Y('Deaths', axis=alt.Axis(title='')), x=alt.X('Date', axis=alt.Axis(title=''))).properties(title='Deaths')\n",
        "  row |= base.encode(y=alt.Y('Recovered', axis=alt.Axis(title='')), x=alt.X('Date', axis=alt.Axis(title=''))).properties(title='Recovered')\n",
        "  multi_chart &= row\n",
        "\n",
        "\n",
        "  #does work\n",
        "  multi_chart = multi_chart.configure_view(\n",
        "      strokeWidth=0\n",
        "  ).configure_axis(\n",
        "    grid=False,\n",
        "    ticks=False,\n",
        "    # title=None,\n",
        "    domainColor='lightgray',\n",
        "    labelFont = 'Roboto Condensed',\n",
        "    titleFont = 'Roboto Condensed',\n",
        "    titleFontWeight = 'normal',\n",
        "  ).configure_axisY(\n",
        "    grid=True,\n",
        "  ).configure_title(\n",
        "    font = 'Roboto Condensed',\n",
        "    fontWeight = 'normal'\n",
        "  ).configure_legend(\n",
        "              labelFont = 'Roboto Condensed',\n",
        "              title = None \n",
        "  )\n",
        "\n",
        "  return multi_chart\n",
        "\n",
        "# nordic = getMultiPlots(getCountriesNordic())\n",
        "# nLargest = getMultiPlots(getCountriesNLargest())\n",
        "# nordic\n",
        " \n"
      ],
      "execution_count": 0,
      "outputs": []
    },
    {
      "cell_type": "markdown",
      "metadata": {
        "id": "9UJ7MLxXmfWr",
        "colab_type": "text"
      },
      "source": [
        "## Plot charts"
      ]
    },
    {
      "cell_type": "code",
      "metadata": {
        "id": "q26PAwUGmc4o",
        "colab_type": "code",
        "outputId": "c4c6125a-ef60-44e7-f4ef-c90125736b85",
        "colab": {
          "base_uri": "https://localhost:8080/",
          "height": 754
        }
      },
      "source": [
        "nordic = getMultiPlots(getCountriesNordic())\n",
        "nLargest = getMultiPlots(getCountriesNLargest())\n",
        "\n",
        "nordic = getCountryPlots(getCountriesNordic(), 4)\n",
        "nLargest = getCountryPlots(getCountriesNLargest())\n",
        "\n",
        "nordic.display()\n",
        "nLargest.display()"
      ],
      "execution_count": 58,
      "outputs": [
        {
          "output_type": "stream",
          "text": [
            "Data last updated on 2020-04-17\n",
            "Data last updated on 2020-04-17\n"
          ],
          "name": "stdout"
        },
        {
          "output_type": "display_data",
          "data": {
            "text/plain": [
              "alt.Chart(...)"
            ],
            "text/html": [
              "\n",
              "<div id=\"altair-viz-4c3b4b71a9804eb2b05c31aabf923f87\"></div>\n",
              "<script type=\"text/javascript\">\n",
              "  (function(spec, embedOpt){\n",
              "    let outputDiv = document.currentScript.previousElementSibling;\n",
              "    if (outputDiv.id !== \"altair-viz-4c3b4b71a9804eb2b05c31aabf923f87\") {\n",
              "      outputDiv = document.getElementById(\"altair-viz-4c3b4b71a9804eb2b05c31aabf923f87\");\n",
              "    }\n",
              "    const paths = {\n",
              "      \"vega\": \"https://cdn.jsdelivr.net/npm//vega@5?noext\",\n",
              "      \"vega-lib\": \"https://cdn.jsdelivr.net/npm//vega-lib?noext\",\n",
              "      \"vega-lite\": \"https://cdn.jsdelivr.net/npm//vega-lite@4.8.1?noext\",\n",
              "      \"vega-embed\": \"https://cdn.jsdelivr.net/npm//vega-embed@6?noext\",\n",
              "    };\n",
              "\n",
              "    function loadScript(lib) {\n",
              "      return new Promise(function(resolve, reject) {\n",
              "        var s = document.createElement('script');\n",
              "        s.src = paths[lib];\n",
              "        s.async = true;\n",
              "        s.onload = () => resolve(paths[lib]);\n",
              "        s.onerror = () => reject(`Error loading script: ${paths[lib]}`);\n",
              "        document.getElementsByTagName(\"head\")[0].appendChild(s);\n",
              "      });\n",
              "    }\n",
              "\n",
              "    function showError(err) {\n",
              "      outputDiv.innerHTML = `<div class=\"error\" style=\"color:red;\">${err}</div>`;\n",
              "      throw err;\n",
              "    }\n",
              "\n",
              "    function displayChart(vegaEmbed) {\n",
              "      vegaEmbed(outputDiv, spec, embedOpt)\n",
              "        .catch(err => showError(`Javascript Error: ${err.message}<br>This usually means there's a typo in your chart specification. See the javascript console for the full traceback.`));\n",
              "    }\n",
              "\n",
              "    if(typeof define === \"function\" && define.amd) {\n",
              "      requirejs.config({paths});\n",
              "      require([\"vega-embed\"], displayChart, err => showError(`Error loading script: ${err.message}`));\n",
              "    } else if (typeof vegaEmbed === \"function\") {\n",
              "      displayChart(vegaEmbed);\n",
              "    } else {\n",
              "      loadScript(\"vega\")\n",
              "        .then(() => loadScript(\"vega-lite\"))\n",
              "        .then(() => loadScript(\"vega-embed\"))\n",
              "        .catch(showError)\n",
              "        .then(() => displayChart(vegaEmbed));\n",
              "    }\n",
              "  })({\"config\": {\"view\": {\"continuousWidth\": 400, \"continuousHeight\": 300, \"strokeWidth\": 0}, \"area\": {}, \"axis\": {\"domainColor\": \"lightgray\", \"grid\": false, \"labelFont\": \"Roboto Condensed\", \"ticks\": false, \"title\": null}, \"axisY\": {\"grid\": true}, \"legend\": {\"labelFont\": \"Roboto Condensed\", \"title\": null}}, \"data\": {\"name\": \"data-2e6b9eaaedb70d18ccf8a259a7b0c1b7\"}, \"mark\": \"line\", \"encoding\": {\"color\": {\"type\": \"nominal\", \"field\": \"Type\"}, \"opacity\": {\"value\": 0.7}, \"x\": {\"type\": \"temporal\", \"axis\": {\"format\": \"%b %d\"}, \"field\": \"Date\"}, \"y\": {\"type\": \"quantitative\", \"field\": \"Count\"}}, \"selection\": {\"Select\": {\"type\": \"single\", \"fields\": [\"Country\"], \"bind\": {\"input\": \"select\", \"options\": [\"Denmark\", \"Finland\", \"Iceland\", \"Norway\", \"Sweden\"]}, \"init\": {\"Country\": \"Sweden\"}}, \"selector093\": {\"type\": \"interval\", \"bind\": \"scales\", \"encodings\": [\"x\", \"y\"]}}, \"transform\": [{\"fold\": [\"Recovered\", \"Active\", \"Deaths\", \"Confirmed\"], \"as\": [\"Type\", \"Count\"]}, {\"filter\": {\"selection\": \"Select\"}}], \"$schema\": \"https://vega.github.io/schema/vega-lite/v4.8.1.json\", \"datasets\": {\"data-2e6b9eaaedb70d18ccf8a259a7b0c1b7\": [{\"Country\": \"Denmark\", \"Date\": \"2020-02-27T00:00:00\", \"Confirmed\": 1, \"Deaths\": 0, \"Recovered\": 0, \"Active\": 1}, {\"Country\": \"Denmark\", \"Date\": \"2020-02-28T00:00:00\", \"Confirmed\": 1, \"Deaths\": 0, \"Recovered\": 0, \"Active\": 1}, {\"Country\": \"Denmark\", \"Date\": \"2020-02-29T00:00:00\", \"Confirmed\": 3, \"Deaths\": 0, \"Recovered\": 0, \"Active\": 3}, {\"Country\": \"Denmark\", \"Date\": \"2020-03-01T00:00:00\", \"Confirmed\": 4, \"Deaths\": 0, \"Recovered\": 0, \"Active\": 4}, {\"Country\": \"Denmark\", \"Date\": \"2020-03-02T00:00:00\", \"Confirmed\": 4, \"Deaths\": 0, \"Recovered\": 0, \"Active\": 4}, {\"Country\": \"Denmark\", \"Date\": \"2020-03-03T00:00:00\", \"Confirmed\": 6, \"Deaths\": 0, \"Recovered\": 0, \"Active\": 6}, {\"Country\": \"Denmark\", \"Date\": \"2020-03-04T00:00:00\", \"Confirmed\": 10, \"Deaths\": 0, \"Recovered\": 0, \"Active\": 10}, {\"Country\": \"Denmark\", \"Date\": \"2020-03-05T00:00:00\", \"Confirmed\": 10, \"Deaths\": 0, \"Recovered\": 0, \"Active\": 10}, {\"Country\": \"Denmark\", \"Date\": \"2020-03-06T00:00:00\", \"Confirmed\": 23, \"Deaths\": 0, \"Recovered\": 1, \"Active\": 22}, {\"Country\": \"Denmark\", \"Date\": \"2020-03-07T00:00:00\", \"Confirmed\": 23, \"Deaths\": 0, \"Recovered\": 1, \"Active\": 22}, {\"Country\": \"Denmark\", \"Date\": \"2020-03-08T00:00:00\", \"Confirmed\": 35, \"Deaths\": 0, \"Recovered\": 1, \"Active\": 34}, {\"Country\": \"Denmark\", \"Date\": \"2020-03-09T00:00:00\", \"Confirmed\": 90, \"Deaths\": 0, \"Recovered\": 1, \"Active\": 89}, {\"Country\": \"Denmark\", \"Date\": \"2020-03-10T00:00:00\", \"Confirmed\": 262, \"Deaths\": 0, \"Recovered\": 1, \"Active\": 261}, {\"Country\": \"Denmark\", \"Date\": \"2020-03-11T00:00:00\", \"Confirmed\": 444, \"Deaths\": 0, \"Recovered\": 1, \"Active\": 443}, {\"Country\": \"Denmark\", \"Date\": \"2020-03-12T00:00:00\", \"Confirmed\": 617, \"Deaths\": 0, \"Recovered\": 1, \"Active\": 616}, {\"Country\": \"Denmark\", \"Date\": \"2020-03-13T00:00:00\", \"Confirmed\": 804, \"Deaths\": 0, \"Recovered\": 1, \"Active\": 803}, {\"Country\": \"Denmark\", \"Date\": \"2020-03-14T00:00:00\", \"Confirmed\": 836, \"Deaths\": 1, \"Recovered\": 1, \"Active\": 834}, {\"Country\": \"Denmark\", \"Date\": \"2020-03-15T00:00:00\", \"Confirmed\": 875, \"Deaths\": 2, \"Recovered\": 1, \"Active\": 872}, {\"Country\": \"Denmark\", \"Date\": \"2020-03-16T00:00:00\", \"Confirmed\": 932, \"Deaths\": 3, \"Recovered\": 1, \"Active\": 928}, {\"Country\": \"Denmark\", \"Date\": \"2020-03-17T00:00:00\", \"Confirmed\": 1024, \"Deaths\": 4, \"Recovered\": 1, \"Active\": 1019}, {\"Country\": \"Denmark\", \"Date\": \"2020-03-18T00:00:00\", \"Confirmed\": 1115, \"Deaths\": 4, \"Recovered\": 1, \"Active\": 1110}, {\"Country\": \"Denmark\", \"Date\": \"2020-03-19T00:00:00\", \"Confirmed\": 1225, \"Deaths\": 6, \"Recovered\": 1, \"Active\": 1218}, {\"Country\": \"Denmark\", \"Date\": \"2020-03-20T00:00:00\", \"Confirmed\": 1337, \"Deaths\": 9, \"Recovered\": 1, \"Active\": 1327}, {\"Country\": \"Denmark\", \"Date\": \"2020-03-21T00:00:00\", \"Confirmed\": 1420, \"Deaths\": 13, \"Recovered\": 1, \"Active\": 1406}, {\"Country\": \"Denmark\", \"Date\": \"2020-03-22T00:00:00\", \"Confirmed\": 1514, \"Deaths\": 13, \"Recovered\": 4, \"Active\": 1497}, {\"Country\": \"Denmark\", \"Date\": \"2020-03-23T00:00:00\", \"Confirmed\": 1572, \"Deaths\": 24, \"Recovered\": 24, \"Active\": 1524}, {\"Country\": \"Denmark\", \"Date\": \"2020-03-24T00:00:00\", \"Confirmed\": 1718, \"Deaths\": 32, \"Recovered\": 36, \"Active\": 1650}, {\"Country\": \"Denmark\", \"Date\": \"2020-03-25T00:00:00\", \"Confirmed\": 1862, \"Deaths\": 34, \"Recovered\": 41, \"Active\": 1787}, {\"Country\": \"Denmark\", \"Date\": \"2020-03-26T00:00:00\", \"Confirmed\": 2023, \"Deaths\": 41, \"Recovered\": 50, \"Active\": 1932}, {\"Country\": \"Denmark\", \"Date\": \"2020-03-27T00:00:00\", \"Confirmed\": 2200, \"Deaths\": 52, \"Recovered\": 57, \"Active\": 2091}, {\"Country\": \"Denmark\", \"Date\": \"2020-03-28T00:00:00\", \"Confirmed\": 2366, \"Deaths\": 65, \"Recovered\": 57, \"Active\": 2244}, {\"Country\": \"Denmark\", \"Date\": \"2020-03-29T00:00:00\", \"Confirmed\": 2564, \"Deaths\": 72, \"Recovered\": 73, \"Active\": 2419}, {\"Country\": \"Denmark\", \"Date\": \"2020-03-30T00:00:00\", \"Confirmed\": 2755, \"Deaths\": 77, \"Recovered\": 73, \"Active\": 2605}, {\"Country\": \"Denmark\", \"Date\": \"2020-03-31T00:00:00\", \"Confirmed\": 3039, \"Deaths\": 90, \"Recovered\": 77, \"Active\": 2872}, {\"Country\": \"Denmark\", \"Date\": \"2020-04-01T00:00:00\", \"Confirmed\": 3290, \"Deaths\": 104, \"Recovered\": 971, \"Active\": 2215}, {\"Country\": \"Denmark\", \"Date\": \"2020-04-02T00:00:00\", \"Confirmed\": 3573, \"Deaths\": 123, \"Recovered\": 1172, \"Active\": 2278}, {\"Country\": \"Denmark\", \"Date\": \"2020-04-03T00:00:00\", \"Confirmed\": 3946, \"Deaths\": 139, \"Recovered\": 1287, \"Active\": 2520}, {\"Country\": \"Denmark\", \"Date\": \"2020-04-04T00:00:00\", \"Confirmed\": 4269, \"Deaths\": 161, \"Recovered\": 1379, \"Active\": 2729}, {\"Country\": \"Denmark\", \"Date\": \"2020-04-05T00:00:00\", \"Confirmed\": 4561, \"Deaths\": 179, \"Recovered\": 1429, \"Active\": 2953}, {\"Country\": \"Denmark\", \"Date\": \"2020-04-06T00:00:00\", \"Confirmed\": 4875, \"Deaths\": 187, \"Recovered\": 1489, \"Active\": 3199}, {\"Country\": \"Denmark\", \"Date\": \"2020-04-07T00:00:00\", \"Confirmed\": 5266, \"Deaths\": 203, \"Recovered\": 1621, \"Active\": 3442}, {\"Country\": \"Denmark\", \"Date\": \"2020-04-08T00:00:00\", \"Confirmed\": 5597, \"Deaths\": 218, \"Recovered\": 1763, \"Active\": 3616}, {\"Country\": \"Denmark\", \"Date\": \"2020-04-09T00:00:00\", \"Confirmed\": 5830, \"Deaths\": 237, \"Recovered\": 1883, \"Active\": 3710}, {\"Country\": \"Denmark\", \"Date\": \"2020-04-10T00:00:00\", \"Confirmed\": 6014, \"Deaths\": 247, \"Recovered\": 1929, \"Active\": 3838}, {\"Country\": \"Denmark\", \"Date\": \"2020-04-11T00:00:00\", \"Confirmed\": 6191, \"Deaths\": 260, \"Recovered\": 2111, \"Active\": 3820}, {\"Country\": \"Denmark\", \"Date\": \"2020-04-12T00:00:00\", \"Confirmed\": 6369, \"Deaths\": 273, \"Recovered\": 2291, \"Active\": 3805}, {\"Country\": \"Denmark\", \"Date\": \"2020-04-13T00:00:00\", \"Confirmed\": 6513, \"Deaths\": 285, \"Recovered\": 2403, \"Active\": 3825}, {\"Country\": \"Denmark\", \"Date\": \"2020-04-14T00:00:00\", \"Confirmed\": 6706, \"Deaths\": 299, \"Recovered\": 2689, \"Active\": 3718}, {\"Country\": \"Denmark\", \"Date\": \"2020-04-15T00:00:00\", \"Confirmed\": 6876, \"Deaths\": 309, \"Recovered\": 2925, \"Active\": 3642}, {\"Country\": \"Denmark\", \"Date\": \"2020-04-16T00:00:00\", \"Confirmed\": 7074, \"Deaths\": 321, \"Recovered\": 3203, \"Active\": 3550}, {\"Country\": \"Denmark\", \"Date\": \"2020-04-17T00:00:00\", \"Confirmed\": 7268, \"Deaths\": 336, \"Recovered\": 3571, \"Active\": 3361}, {\"Country\": \"Finland\", \"Date\": \"2020-01-29T00:00:00\", \"Confirmed\": 1, \"Deaths\": 0, \"Recovered\": 0, \"Active\": 1}, {\"Country\": \"Finland\", \"Date\": \"2020-01-30T00:00:00\", \"Confirmed\": 1, \"Deaths\": 0, \"Recovered\": 0, \"Active\": 1}, {\"Country\": \"Finland\", \"Date\": \"2020-01-31T00:00:00\", \"Confirmed\": 1, \"Deaths\": 0, \"Recovered\": 0, \"Active\": 1}, {\"Country\": \"Finland\", \"Date\": \"2020-02-01T00:00:00\", \"Confirmed\": 1, \"Deaths\": 0, \"Recovered\": 0, \"Active\": 1}, {\"Country\": \"Finland\", \"Date\": \"2020-02-02T00:00:00\", \"Confirmed\": 1, \"Deaths\": 0, \"Recovered\": 0, \"Active\": 1}, {\"Country\": \"Finland\", \"Date\": \"2020-02-03T00:00:00\", \"Confirmed\": 1, \"Deaths\": 0, \"Recovered\": 0, \"Active\": 1}, {\"Country\": \"Finland\", \"Date\": \"2020-02-04T00:00:00\", \"Confirmed\": 1, \"Deaths\": 0, \"Recovered\": 0, \"Active\": 1}, {\"Country\": \"Finland\", \"Date\": \"2020-02-05T00:00:00\", \"Confirmed\": 1, \"Deaths\": 0, \"Recovered\": 0, \"Active\": 1}, {\"Country\": \"Finland\", \"Date\": \"2020-02-06T00:00:00\", \"Confirmed\": 1, \"Deaths\": 0, \"Recovered\": 0, \"Active\": 1}, {\"Country\": \"Finland\", \"Date\": \"2020-02-07T00:00:00\", \"Confirmed\": 1, \"Deaths\": 0, \"Recovered\": 0, \"Active\": 1}, {\"Country\": \"Finland\", \"Date\": \"2020-02-08T00:00:00\", \"Confirmed\": 1, \"Deaths\": 0, \"Recovered\": 0, \"Active\": 1}, {\"Country\": \"Finland\", \"Date\": \"2020-02-09T00:00:00\", \"Confirmed\": 1, \"Deaths\": 0, \"Recovered\": 0, \"Active\": 1}, {\"Country\": \"Finland\", \"Date\": \"2020-02-10T00:00:00\", \"Confirmed\": 1, \"Deaths\": 0, \"Recovered\": 0, \"Active\": 1}, {\"Country\": \"Finland\", \"Date\": \"2020-02-11T00:00:00\", \"Confirmed\": 1, \"Deaths\": 0, \"Recovered\": 0, \"Active\": 1}, {\"Country\": \"Finland\", \"Date\": \"2020-02-12T00:00:00\", \"Confirmed\": 1, \"Deaths\": 0, \"Recovered\": 1, \"Active\": 0}, {\"Country\": \"Finland\", \"Date\": \"2020-02-13T00:00:00\", \"Confirmed\": 1, \"Deaths\": 0, \"Recovered\": 1, \"Active\": 0}, {\"Country\": \"Finland\", \"Date\": \"2020-02-14T00:00:00\", \"Confirmed\": 1, \"Deaths\": 0, \"Recovered\": 1, \"Active\": 0}, {\"Country\": \"Finland\", \"Date\": \"2020-02-15T00:00:00\", \"Confirmed\": 1, \"Deaths\": 0, \"Recovered\": 1, \"Active\": 0}, {\"Country\": \"Finland\", \"Date\": \"2020-02-16T00:00:00\", \"Confirmed\": 1, \"Deaths\": 0, \"Recovered\": 1, \"Active\": 0}, {\"Country\": \"Finland\", \"Date\": \"2020-02-17T00:00:00\", \"Confirmed\": 1, \"Deaths\": 0, \"Recovered\": 1, \"Active\": 0}, {\"Country\": \"Finland\", \"Date\": \"2020-02-18T00:00:00\", \"Confirmed\": 1, \"Deaths\": 0, \"Recovered\": 1, \"Active\": 0}, {\"Country\": \"Finland\", \"Date\": \"2020-02-19T00:00:00\", \"Confirmed\": 1, \"Deaths\": 0, \"Recovered\": 1, \"Active\": 0}, {\"Country\": \"Finland\", \"Date\": \"2020-02-20T00:00:00\", \"Confirmed\": 1, \"Deaths\": 0, \"Recovered\": 1, \"Active\": 0}, {\"Country\": \"Finland\", \"Date\": \"2020-02-21T00:00:00\", \"Confirmed\": 1, \"Deaths\": 0, \"Recovered\": 1, \"Active\": 0}, {\"Country\": \"Finland\", \"Date\": \"2020-02-22T00:00:00\", \"Confirmed\": 1, \"Deaths\": 0, \"Recovered\": 1, \"Active\": 0}, {\"Country\": \"Finland\", \"Date\": \"2020-02-23T00:00:00\", \"Confirmed\": 1, \"Deaths\": 0, \"Recovered\": 1, \"Active\": 0}, {\"Country\": \"Finland\", \"Date\": \"2020-02-24T00:00:00\", \"Confirmed\": 1, \"Deaths\": 0, \"Recovered\": 1, \"Active\": 0}, {\"Country\": \"Finland\", \"Date\": \"2020-02-25T00:00:00\", \"Confirmed\": 1, \"Deaths\": 0, \"Recovered\": 1, \"Active\": 0}, {\"Country\": \"Finland\", \"Date\": \"2020-02-26T00:00:00\", \"Confirmed\": 2, \"Deaths\": 0, \"Recovered\": 1, \"Active\": 1}, {\"Country\": \"Finland\", \"Date\": \"2020-02-27T00:00:00\", \"Confirmed\": 2, \"Deaths\": 0, \"Recovered\": 1, \"Active\": 1}, {\"Country\": \"Finland\", \"Date\": \"2020-02-28T00:00:00\", \"Confirmed\": 2, \"Deaths\": 0, \"Recovered\": 1, \"Active\": 1}, {\"Country\": \"Finland\", \"Date\": \"2020-02-29T00:00:00\", \"Confirmed\": 3, \"Deaths\": 0, \"Recovered\": 1, \"Active\": 2}, {\"Country\": \"Finland\", \"Date\": \"2020-03-01T00:00:00\", \"Confirmed\": 6, \"Deaths\": 0, \"Recovered\": 1, \"Active\": 5}, {\"Country\": \"Finland\", \"Date\": \"2020-03-02T00:00:00\", \"Confirmed\": 6, \"Deaths\": 0, \"Recovered\": 1, \"Active\": 5}, {\"Country\": \"Finland\", \"Date\": \"2020-03-03T00:00:00\", \"Confirmed\": 6, \"Deaths\": 0, \"Recovered\": 1, \"Active\": 5}, {\"Country\": \"Finland\", \"Date\": \"2020-03-04T00:00:00\", \"Confirmed\": 6, \"Deaths\": 0, \"Recovered\": 1, \"Active\": 5}, {\"Country\": \"Finland\", \"Date\": \"2020-03-05T00:00:00\", \"Confirmed\": 12, \"Deaths\": 0, \"Recovered\": 1, \"Active\": 11}, {\"Country\": \"Finland\", \"Date\": \"2020-03-06T00:00:00\", \"Confirmed\": 15, \"Deaths\": 0, \"Recovered\": 1, \"Active\": 14}, {\"Country\": \"Finland\", \"Date\": \"2020-03-07T00:00:00\", \"Confirmed\": 15, \"Deaths\": 0, \"Recovered\": 1, \"Active\": 14}, {\"Country\": \"Finland\", \"Date\": \"2020-03-08T00:00:00\", \"Confirmed\": 23, \"Deaths\": 0, \"Recovered\": 1, \"Active\": 22}, {\"Country\": \"Finland\", \"Date\": \"2020-03-09T00:00:00\", \"Confirmed\": 30, \"Deaths\": 0, \"Recovered\": 1, \"Active\": 29}, {\"Country\": \"Finland\", \"Date\": \"2020-03-10T00:00:00\", \"Confirmed\": 40, \"Deaths\": 0, \"Recovered\": 1, \"Active\": 39}, {\"Country\": \"Finland\", \"Date\": \"2020-03-11T00:00:00\", \"Confirmed\": 59, \"Deaths\": 0, \"Recovered\": 1, \"Active\": 58}, {\"Country\": \"Finland\", \"Date\": \"2020-03-12T00:00:00\", \"Confirmed\": 59, \"Deaths\": 0, \"Recovered\": 1, \"Active\": 58}, {\"Country\": \"Finland\", \"Date\": \"2020-03-13T00:00:00\", \"Confirmed\": 155, \"Deaths\": 0, \"Recovered\": 1, \"Active\": 154}, {\"Country\": \"Finland\", \"Date\": \"2020-03-14T00:00:00\", \"Confirmed\": 225, \"Deaths\": 0, \"Recovered\": 1, \"Active\": 224}, {\"Country\": \"Finland\", \"Date\": \"2020-03-15T00:00:00\", \"Confirmed\": 244, \"Deaths\": 0, \"Recovered\": 10, \"Active\": 234}, {\"Country\": \"Finland\", \"Date\": \"2020-03-16T00:00:00\", \"Confirmed\": 277, \"Deaths\": 0, \"Recovered\": 10, \"Active\": 267}, {\"Country\": \"Finland\", \"Date\": \"2020-03-17T00:00:00\", \"Confirmed\": 321, \"Deaths\": 0, \"Recovered\": 10, \"Active\": 311}, {\"Country\": \"Finland\", \"Date\": \"2020-03-18T00:00:00\", \"Confirmed\": 336, \"Deaths\": 0, \"Recovered\": 10, \"Active\": 326}, {\"Country\": \"Finland\", \"Date\": \"2020-03-19T00:00:00\", \"Confirmed\": 400, \"Deaths\": 0, \"Recovered\": 10, \"Active\": 390}, {\"Country\": \"Finland\", \"Date\": \"2020-03-20T00:00:00\", \"Confirmed\": 450, \"Deaths\": 0, \"Recovered\": 10, \"Active\": 440}, {\"Country\": \"Finland\", \"Date\": \"2020-03-21T00:00:00\", \"Confirmed\": 523, \"Deaths\": 1, \"Recovered\": 10, \"Active\": 512}, {\"Country\": \"Finland\", \"Date\": \"2020-03-22T00:00:00\", \"Confirmed\": 626, \"Deaths\": 1, \"Recovered\": 10, \"Active\": 615}, {\"Country\": \"Finland\", \"Date\": \"2020-03-23T00:00:00\", \"Confirmed\": 700, \"Deaths\": 1, \"Recovered\": 10, \"Active\": 689}, {\"Country\": \"Finland\", \"Date\": \"2020-03-24T00:00:00\", \"Confirmed\": 792, \"Deaths\": 1, \"Recovered\": 10, \"Active\": 781}, {\"Country\": \"Finland\", \"Date\": \"2020-03-25T00:00:00\", \"Confirmed\": 880, \"Deaths\": 3, \"Recovered\": 10, \"Active\": 867}, {\"Country\": \"Finland\", \"Date\": \"2020-03-26T00:00:00\", \"Confirmed\": 958, \"Deaths\": 5, \"Recovered\": 10, \"Active\": 943}, {\"Country\": \"Finland\", \"Date\": \"2020-03-27T00:00:00\", \"Confirmed\": 1041, \"Deaths\": 7, \"Recovered\": 10, \"Active\": 1024}, {\"Country\": \"Finland\", \"Date\": \"2020-03-28T00:00:00\", \"Confirmed\": 1167, \"Deaths\": 9, \"Recovered\": 10, \"Active\": 1148}, {\"Country\": \"Finland\", \"Date\": \"2020-03-29T00:00:00\", \"Confirmed\": 1240, \"Deaths\": 11, \"Recovered\": 10, \"Active\": 1219}, {\"Country\": \"Finland\", \"Date\": \"2020-03-30T00:00:00\", \"Confirmed\": 1352, \"Deaths\": 13, \"Recovered\": 10, \"Active\": 1329}, {\"Country\": \"Finland\", \"Date\": \"2020-03-31T00:00:00\", \"Confirmed\": 1418, \"Deaths\": 17, \"Recovered\": 10, \"Active\": 1391}, {\"Country\": \"Finland\", \"Date\": \"2020-04-01T00:00:00\", \"Confirmed\": 1446, \"Deaths\": 17, \"Recovered\": 10, \"Active\": 1419}, {\"Country\": \"Finland\", \"Date\": \"2020-04-02T00:00:00\", \"Confirmed\": 1518, \"Deaths\": 19, \"Recovered\": 300, \"Active\": 1199}, {\"Country\": \"Finland\", \"Date\": \"2020-04-03T00:00:00\", \"Confirmed\": 1615, \"Deaths\": 20, \"Recovered\": 300, \"Active\": 1295}, {\"Country\": \"Finland\", \"Date\": \"2020-04-04T00:00:00\", \"Confirmed\": 1882, \"Deaths\": 25, \"Recovered\": 300, \"Active\": 1557}, {\"Country\": \"Finland\", \"Date\": \"2020-04-05T00:00:00\", \"Confirmed\": 1927, \"Deaths\": 28, \"Recovered\": 300, \"Active\": 1599}, {\"Country\": \"Finland\", \"Date\": \"2020-04-06T00:00:00\", \"Confirmed\": 2176, \"Deaths\": 27, \"Recovered\": 300, \"Active\": 1849}, {\"Country\": \"Finland\", \"Date\": \"2020-04-07T00:00:00\", \"Confirmed\": 2308, \"Deaths\": 34, \"Recovered\": 300, \"Active\": 1974}, {\"Country\": \"Finland\", \"Date\": \"2020-04-08T00:00:00\", \"Confirmed\": 2487, \"Deaths\": 40, \"Recovered\": 300, \"Active\": 2147}, {\"Country\": \"Finland\", \"Date\": \"2020-04-09T00:00:00\", \"Confirmed\": 2605, \"Deaths\": 42, \"Recovered\": 300, \"Active\": 2263}, {\"Country\": \"Finland\", \"Date\": \"2020-04-10T00:00:00\", \"Confirmed\": 2769, \"Deaths\": 48, \"Recovered\": 300, \"Active\": 2421}, {\"Country\": \"Finland\", \"Date\": \"2020-04-11T00:00:00\", \"Confirmed\": 2905, \"Deaths\": 49, \"Recovered\": 300, \"Active\": 2556}, {\"Country\": \"Finland\", \"Date\": \"2020-04-12T00:00:00\", \"Confirmed\": 2974, \"Deaths\": 56, \"Recovered\": 300, \"Active\": 2618}, {\"Country\": \"Finland\", \"Date\": \"2020-04-13T00:00:00\", \"Confirmed\": 3064, \"Deaths\": 59, \"Recovered\": 300, \"Active\": 2705}, {\"Country\": \"Finland\", \"Date\": \"2020-04-14T00:00:00\", \"Confirmed\": 3161, \"Deaths\": 64, \"Recovered\": 300, \"Active\": 2797}, {\"Country\": \"Finland\", \"Date\": \"2020-04-15T00:00:00\", \"Confirmed\": 3237, \"Deaths\": 72, \"Recovered\": 300, \"Active\": 2865}, {\"Country\": \"Finland\", \"Date\": \"2020-04-16T00:00:00\", \"Confirmed\": 3369, \"Deaths\": 75, \"Recovered\": 1700, \"Active\": 1594}, {\"Country\": \"Finland\", \"Date\": \"2020-04-17T00:00:00\", \"Confirmed\": 3489, \"Deaths\": 82, \"Recovered\": 1700, \"Active\": 1707}, {\"Country\": \"Iceland\", \"Date\": \"2020-02-28T00:00:00\", \"Confirmed\": 1, \"Deaths\": 0, \"Recovered\": 0, \"Active\": 1}, {\"Country\": \"Iceland\", \"Date\": \"2020-02-29T00:00:00\", \"Confirmed\": 1, \"Deaths\": 0, \"Recovered\": 0, \"Active\": 1}, {\"Country\": \"Iceland\", \"Date\": \"2020-03-01T00:00:00\", \"Confirmed\": 3, \"Deaths\": 0, \"Recovered\": 0, \"Active\": 3}, {\"Country\": \"Iceland\", \"Date\": \"2020-03-02T00:00:00\", \"Confirmed\": 6, \"Deaths\": 0, \"Recovered\": 0, \"Active\": 6}, {\"Country\": \"Iceland\", \"Date\": \"2020-03-03T00:00:00\", \"Confirmed\": 11, \"Deaths\": 0, \"Recovered\": 0, \"Active\": 11}, {\"Country\": \"Iceland\", \"Date\": \"2020-03-04T00:00:00\", \"Confirmed\": 26, \"Deaths\": 0, \"Recovered\": 0, \"Active\": 26}, {\"Country\": \"Iceland\", \"Date\": \"2020-03-05T00:00:00\", \"Confirmed\": 34, \"Deaths\": 0, \"Recovered\": 0, \"Active\": 34}, {\"Country\": \"Iceland\", \"Date\": \"2020-03-06T00:00:00\", \"Confirmed\": 43, \"Deaths\": 0, \"Recovered\": 0, \"Active\": 43}, {\"Country\": \"Iceland\", \"Date\": \"2020-03-07T00:00:00\", \"Confirmed\": 50, \"Deaths\": 0, \"Recovered\": 0, \"Active\": 50}, {\"Country\": \"Iceland\", \"Date\": \"2020-03-08T00:00:00\", \"Confirmed\": 50, \"Deaths\": 0, \"Recovered\": 0, \"Active\": 50}, {\"Country\": \"Iceland\", \"Date\": \"2020-03-09T00:00:00\", \"Confirmed\": 58, \"Deaths\": 0, \"Recovered\": 0, \"Active\": 58}, {\"Country\": \"Iceland\", \"Date\": \"2020-03-10T00:00:00\", \"Confirmed\": 69, \"Deaths\": 0, \"Recovered\": 1, \"Active\": 68}, {\"Country\": \"Iceland\", \"Date\": \"2020-03-11T00:00:00\", \"Confirmed\": 85, \"Deaths\": 0, \"Recovered\": 1, \"Active\": 84}, {\"Country\": \"Iceland\", \"Date\": \"2020-03-12T00:00:00\", \"Confirmed\": 103, \"Deaths\": 0, \"Recovered\": 1, \"Active\": 102}, {\"Country\": \"Iceland\", \"Date\": \"2020-03-13T00:00:00\", \"Confirmed\": 134, \"Deaths\": 0, \"Recovered\": 1, \"Active\": 133}, {\"Country\": \"Iceland\", \"Date\": \"2020-03-14T00:00:00\", \"Confirmed\": 156, \"Deaths\": 0, \"Recovered\": 1, \"Active\": 155}, {\"Country\": \"Iceland\", \"Date\": \"2020-03-15T00:00:00\", \"Confirmed\": 171, \"Deaths\": 5, \"Recovered\": 8, \"Active\": 158}, {\"Country\": \"Iceland\", \"Date\": \"2020-03-16T00:00:00\", \"Confirmed\": 180, \"Deaths\": 0, \"Recovered\": 0, \"Active\": 180}, {\"Country\": \"Iceland\", \"Date\": \"2020-03-17T00:00:00\", \"Confirmed\": 220, \"Deaths\": 1, \"Recovered\": 0, \"Active\": 219}, {\"Country\": \"Iceland\", \"Date\": \"2020-03-18T00:00:00\", \"Confirmed\": 250, \"Deaths\": 1, \"Recovered\": 5, \"Active\": 244}, {\"Country\": \"Iceland\", \"Date\": \"2020-03-19T00:00:00\", \"Confirmed\": 330, \"Deaths\": 1, \"Recovered\": 5, \"Active\": 324}, {\"Country\": \"Iceland\", \"Date\": \"2020-03-20T00:00:00\", \"Confirmed\": 409, \"Deaths\": 0, \"Recovered\": 5, \"Active\": 404}, {\"Country\": \"Iceland\", \"Date\": \"2020-03-21T00:00:00\", \"Confirmed\": 473, \"Deaths\": 1, \"Recovered\": 22, \"Active\": 450}, {\"Country\": \"Iceland\", \"Date\": \"2020-03-22T00:00:00\", \"Confirmed\": 568, \"Deaths\": 1, \"Recovered\": 5, \"Active\": 562}, {\"Country\": \"Iceland\", \"Date\": \"2020-03-23T00:00:00\", \"Confirmed\": 588, \"Deaths\": 1, \"Recovered\": 51, \"Active\": 536}, {\"Country\": \"Iceland\", \"Date\": \"2020-03-24T00:00:00\", \"Confirmed\": 648, \"Deaths\": 2, \"Recovered\": 51, \"Active\": 595}, {\"Country\": \"Iceland\", \"Date\": \"2020-03-25T00:00:00\", \"Confirmed\": 737, \"Deaths\": 2, \"Recovered\": 56, \"Active\": 679}, {\"Country\": \"Iceland\", \"Date\": \"2020-03-26T00:00:00\", \"Confirmed\": 802, \"Deaths\": 2, \"Recovered\": 82, \"Active\": 718}, {\"Country\": \"Iceland\", \"Date\": \"2020-03-27T00:00:00\", \"Confirmed\": 890, \"Deaths\": 2, \"Recovered\": 97, \"Active\": 791}, {\"Country\": \"Iceland\", \"Date\": \"2020-03-28T00:00:00\", \"Confirmed\": 963, \"Deaths\": 2, \"Recovered\": 114, \"Active\": 847}, {\"Country\": \"Iceland\", \"Date\": \"2020-03-29T00:00:00\", \"Confirmed\": 1020, \"Deaths\": 2, \"Recovered\": 135, \"Active\": 883}, {\"Country\": \"Iceland\", \"Date\": \"2020-03-30T00:00:00\", \"Confirmed\": 1086, \"Deaths\": 2, \"Recovered\": 157, \"Active\": 927}, {\"Country\": \"Iceland\", \"Date\": \"2020-03-31T00:00:00\", \"Confirmed\": 1135, \"Deaths\": 2, \"Recovered\": 198, \"Active\": 935}, {\"Country\": \"Iceland\", \"Date\": \"2020-04-01T00:00:00\", \"Confirmed\": 1220, \"Deaths\": 2, \"Recovered\": 225, \"Active\": 993}, {\"Country\": \"Iceland\", \"Date\": \"2020-04-02T00:00:00\", \"Confirmed\": 1319, \"Deaths\": 4, \"Recovered\": 284, \"Active\": 1031}, {\"Country\": \"Iceland\", \"Date\": \"2020-04-03T00:00:00\", \"Confirmed\": 1364, \"Deaths\": 4, \"Recovered\": 309, \"Active\": 1051}, {\"Country\": \"Iceland\", \"Date\": \"2020-04-04T00:00:00\", \"Confirmed\": 1417, \"Deaths\": 4, \"Recovered\": 396, \"Active\": 1017}, {\"Country\": \"Iceland\", \"Date\": \"2020-04-05T00:00:00\", \"Confirmed\": 1486, \"Deaths\": 4, \"Recovered\": 428, \"Active\": 1054}, {\"Country\": \"Iceland\", \"Date\": \"2020-04-06T00:00:00\", \"Confirmed\": 1562, \"Deaths\": 6, \"Recovered\": 460, \"Active\": 1096}, {\"Country\": \"Iceland\", \"Date\": \"2020-04-07T00:00:00\", \"Confirmed\": 1586, \"Deaths\": 6, \"Recovered\": 559, \"Active\": 1021}, {\"Country\": \"Iceland\", \"Date\": \"2020-04-08T00:00:00\", \"Confirmed\": 1616, \"Deaths\": 6, \"Recovered\": 633, \"Active\": 977}, {\"Country\": \"Iceland\", \"Date\": \"2020-04-09T00:00:00\", \"Confirmed\": 1648, \"Deaths\": 6, \"Recovered\": 688, \"Active\": 954}, {\"Country\": \"Iceland\", \"Date\": \"2020-04-10T00:00:00\", \"Confirmed\": 1675, \"Deaths\": 7, \"Recovered\": 751, \"Active\": 917}, {\"Country\": \"Iceland\", \"Date\": \"2020-04-11T00:00:00\", \"Confirmed\": 1689, \"Deaths\": 8, \"Recovered\": 841, \"Active\": 840}, {\"Country\": \"Iceland\", \"Date\": \"2020-04-12T00:00:00\", \"Confirmed\": 1701, \"Deaths\": 8, \"Recovered\": 889, \"Active\": 804}, {\"Country\": \"Iceland\", \"Date\": \"2020-04-13T00:00:00\", \"Confirmed\": 1711, \"Deaths\": 8, \"Recovered\": 933, \"Active\": 770}, {\"Country\": \"Iceland\", \"Date\": \"2020-04-14T00:00:00\", \"Confirmed\": 1720, \"Deaths\": 8, \"Recovered\": 989, \"Active\": 723}, {\"Country\": \"Iceland\", \"Date\": \"2020-04-15T00:00:00\", \"Confirmed\": 1727, \"Deaths\": 8, \"Recovered\": 1077, \"Active\": 642}, {\"Country\": \"Iceland\", \"Date\": \"2020-04-16T00:00:00\", \"Confirmed\": 1739, \"Deaths\": 8, \"Recovered\": 1144, \"Active\": 587}, {\"Country\": \"Iceland\", \"Date\": \"2020-04-17T00:00:00\", \"Confirmed\": 1754, \"Deaths\": 9, \"Recovered\": 1224, \"Active\": 521}, {\"Country\": \"Norway\", \"Date\": \"2020-02-26T00:00:00\", \"Confirmed\": 1, \"Deaths\": 0, \"Recovered\": 0, \"Active\": 1}, {\"Country\": \"Norway\", \"Date\": \"2020-02-27T00:00:00\", \"Confirmed\": 1, \"Deaths\": 0, \"Recovered\": 0, \"Active\": 1}, {\"Country\": \"Norway\", \"Date\": \"2020-02-28T00:00:00\", \"Confirmed\": 6, \"Deaths\": 0, \"Recovered\": 0, \"Active\": 6}, {\"Country\": \"Norway\", \"Date\": \"2020-02-29T00:00:00\", \"Confirmed\": 15, \"Deaths\": 0, \"Recovered\": 0, \"Active\": 15}, {\"Country\": \"Norway\", \"Date\": \"2020-03-01T00:00:00\", \"Confirmed\": 19, \"Deaths\": 0, \"Recovered\": 0, \"Active\": 19}, {\"Country\": \"Norway\", \"Date\": \"2020-03-02T00:00:00\", \"Confirmed\": 25, \"Deaths\": 0, \"Recovered\": 0, \"Active\": 25}, {\"Country\": \"Norway\", \"Date\": \"2020-03-03T00:00:00\", \"Confirmed\": 32, \"Deaths\": 0, \"Recovered\": 0, \"Active\": 32}, {\"Country\": \"Norway\", \"Date\": \"2020-03-04T00:00:00\", \"Confirmed\": 56, \"Deaths\": 0, \"Recovered\": 0, \"Active\": 56}, {\"Country\": \"Norway\", \"Date\": \"2020-03-05T00:00:00\", \"Confirmed\": 87, \"Deaths\": 0, \"Recovered\": 0, \"Active\": 87}, {\"Country\": \"Norway\", \"Date\": \"2020-03-06T00:00:00\", \"Confirmed\": 108, \"Deaths\": 0, \"Recovered\": 0, \"Active\": 108}, {\"Country\": \"Norway\", \"Date\": \"2020-03-07T00:00:00\", \"Confirmed\": 147, \"Deaths\": 0, \"Recovered\": 0, \"Active\": 147}, {\"Country\": \"Norway\", \"Date\": \"2020-03-08T00:00:00\", \"Confirmed\": 176, \"Deaths\": 0, \"Recovered\": 0, \"Active\": 176}, {\"Country\": \"Norway\", \"Date\": \"2020-03-09T00:00:00\", \"Confirmed\": 205, \"Deaths\": 0, \"Recovered\": 1, \"Active\": 204}, {\"Country\": \"Norway\", \"Date\": \"2020-03-10T00:00:00\", \"Confirmed\": 400, \"Deaths\": 0, \"Recovered\": 1, \"Active\": 399}, {\"Country\": \"Norway\", \"Date\": \"2020-03-11T00:00:00\", \"Confirmed\": 598, \"Deaths\": 0, \"Recovered\": 1, \"Active\": 597}, {\"Country\": \"Norway\", \"Date\": \"2020-03-12T00:00:00\", \"Confirmed\": 702, \"Deaths\": 0, \"Recovered\": 1, \"Active\": 701}, {\"Country\": \"Norway\", \"Date\": \"2020-03-13T00:00:00\", \"Confirmed\": 996, \"Deaths\": 0, \"Recovered\": 1, \"Active\": 995}, {\"Country\": \"Norway\", \"Date\": \"2020-03-14T00:00:00\", \"Confirmed\": 1090, \"Deaths\": 3, \"Recovered\": 1, \"Active\": 1086}, {\"Country\": \"Norway\", \"Date\": \"2020-03-15T00:00:00\", \"Confirmed\": 1221, \"Deaths\": 3, \"Recovered\": 1, \"Active\": 1217}, {\"Country\": \"Norway\", \"Date\": \"2020-03-16T00:00:00\", \"Confirmed\": 1333, \"Deaths\": 3, \"Recovered\": 1, \"Active\": 1329}, {\"Country\": \"Norway\", \"Date\": \"2020-03-17T00:00:00\", \"Confirmed\": 1463, \"Deaths\": 3, \"Recovered\": 1, \"Active\": 1459}, {\"Country\": \"Norway\", \"Date\": \"2020-03-18T00:00:00\", \"Confirmed\": 1550, \"Deaths\": 6, \"Recovered\": 1, \"Active\": 1543}, {\"Country\": \"Norway\", \"Date\": \"2020-03-19T00:00:00\", \"Confirmed\": 1746, \"Deaths\": 7, \"Recovered\": 1, \"Active\": 1738}, {\"Country\": \"Norway\", \"Date\": \"2020-03-20T00:00:00\", \"Confirmed\": 1914, \"Deaths\": 7, \"Recovered\": 1, \"Active\": 1906}, {\"Country\": \"Norway\", \"Date\": \"2020-03-21T00:00:00\", \"Confirmed\": 2118, \"Deaths\": 7, \"Recovered\": 1, \"Active\": 2110}, {\"Country\": \"Norway\", \"Date\": \"2020-03-22T00:00:00\", \"Confirmed\": 2263, \"Deaths\": 7, \"Recovered\": 6, \"Active\": 2250}, {\"Country\": \"Norway\", \"Date\": \"2020-03-23T00:00:00\", \"Confirmed\": 2621, \"Deaths\": 10, \"Recovered\": 6, \"Active\": 2605}, {\"Country\": \"Norway\", \"Date\": \"2020-03-24T00:00:00\", \"Confirmed\": 2863, \"Deaths\": 12, \"Recovered\": 6, \"Active\": 2845}, {\"Country\": \"Norway\", \"Date\": \"2020-03-25T00:00:00\", \"Confirmed\": 3084, \"Deaths\": 14, \"Recovered\": 6, \"Active\": 3064}, {\"Country\": \"Norway\", \"Date\": \"2020-03-26T00:00:00\", \"Confirmed\": 3369, \"Deaths\": 14, \"Recovered\": 6, \"Active\": 3349}, {\"Country\": \"Norway\", \"Date\": \"2020-03-27T00:00:00\", \"Confirmed\": 3755, \"Deaths\": 19, \"Recovered\": 6, \"Active\": 3730}, {\"Country\": \"Norway\", \"Date\": \"2020-03-28T00:00:00\", \"Confirmed\": 4015, \"Deaths\": 23, \"Recovered\": 7, \"Active\": 3985}, {\"Country\": \"Norway\", \"Date\": \"2020-03-29T00:00:00\", \"Confirmed\": 4284, \"Deaths\": 25, \"Recovered\": 7, \"Active\": 4252}, {\"Country\": \"Norway\", \"Date\": \"2020-03-30T00:00:00\", \"Confirmed\": 4445, \"Deaths\": 32, \"Recovered\": 12, \"Active\": 4401}, {\"Country\": \"Norway\", \"Date\": \"2020-03-31T00:00:00\", \"Confirmed\": 4641, \"Deaths\": 39, \"Recovered\": 13, \"Active\": 4589}, {\"Country\": \"Norway\", \"Date\": \"2020-04-01T00:00:00\", \"Confirmed\": 4863, \"Deaths\": 44, \"Recovered\": 13, \"Active\": 4806}, {\"Country\": \"Norway\", \"Date\": \"2020-04-02T00:00:00\", \"Confirmed\": 5147, \"Deaths\": 50, \"Recovered\": 32, \"Active\": 5065}, {\"Country\": \"Norway\", \"Date\": \"2020-04-03T00:00:00\", \"Confirmed\": 5370, \"Deaths\": 59, \"Recovered\": 32, \"Active\": 5279}, {\"Country\": \"Norway\", \"Date\": \"2020-04-04T00:00:00\", \"Confirmed\": 5550, \"Deaths\": 62, \"Recovered\": 32, \"Active\": 5456}, {\"Country\": \"Norway\", \"Date\": \"2020-04-05T00:00:00\", \"Confirmed\": 5687, \"Deaths\": 71, \"Recovered\": 32, \"Active\": 5584}, {\"Country\": \"Norway\", \"Date\": \"2020-04-06T00:00:00\", \"Confirmed\": 5865, \"Deaths\": 76, \"Recovered\": 32, \"Active\": 5757}, {\"Country\": \"Norway\", \"Date\": \"2020-04-07T00:00:00\", \"Confirmed\": 6086, \"Deaths\": 89, \"Recovered\": 32, \"Active\": 5965}, {\"Country\": \"Norway\", \"Date\": \"2020-04-08T00:00:00\", \"Confirmed\": 6086, \"Deaths\": 101, \"Recovered\": 32, \"Active\": 5953}, {\"Country\": \"Norway\", \"Date\": \"2020-04-09T00:00:00\", \"Confirmed\": 6211, \"Deaths\": 108, \"Recovered\": 32, \"Active\": 6071}, {\"Country\": \"Norway\", \"Date\": \"2020-04-10T00:00:00\", \"Confirmed\": 6314, \"Deaths\": 113, \"Recovered\": 32, \"Active\": 6169}, {\"Country\": \"Norway\", \"Date\": \"2020-04-11T00:00:00\", \"Confirmed\": 6409, \"Deaths\": 119, \"Recovered\": 32, \"Active\": 6258}, {\"Country\": \"Norway\", \"Date\": \"2020-04-12T00:00:00\", \"Confirmed\": 6525, \"Deaths\": 128, \"Recovered\": 32, \"Active\": 6365}, {\"Country\": \"Norway\", \"Date\": \"2020-04-13T00:00:00\", \"Confirmed\": 6603, \"Deaths\": 134, \"Recovered\": 32, \"Active\": 6437}, {\"Country\": \"Norway\", \"Date\": \"2020-04-14T00:00:00\", \"Confirmed\": 6623, \"Deaths\": 139, \"Recovered\": 32, \"Active\": 6452}, {\"Country\": \"Norway\", \"Date\": \"2020-04-15T00:00:00\", \"Confirmed\": 6740, \"Deaths\": 150, \"Recovered\": 32, \"Active\": 6558}, {\"Country\": \"Norway\", \"Date\": \"2020-04-16T00:00:00\", \"Confirmed\": 6896, \"Deaths\": 152, \"Recovered\": 32, \"Active\": 6712}, {\"Country\": \"Norway\", \"Date\": \"2020-04-17T00:00:00\", \"Confirmed\": 6937, \"Deaths\": 161, \"Recovered\": 32, \"Active\": 6744}, {\"Country\": \"Sweden\", \"Date\": \"2020-01-31T00:00:00\", \"Confirmed\": 1, \"Deaths\": 0, \"Recovered\": 0, \"Active\": 1}, {\"Country\": \"Sweden\", \"Date\": \"2020-02-01T00:00:00\", \"Confirmed\": 1, \"Deaths\": 0, \"Recovered\": 0, \"Active\": 1}, {\"Country\": \"Sweden\", \"Date\": \"2020-02-02T00:00:00\", \"Confirmed\": 1, \"Deaths\": 0, \"Recovered\": 0, \"Active\": 1}, {\"Country\": \"Sweden\", \"Date\": \"2020-02-03T00:00:00\", \"Confirmed\": 1, \"Deaths\": 0, \"Recovered\": 0, \"Active\": 1}, {\"Country\": \"Sweden\", \"Date\": \"2020-02-04T00:00:00\", \"Confirmed\": 1, \"Deaths\": 0, \"Recovered\": 0, \"Active\": 1}, {\"Country\": \"Sweden\", \"Date\": \"2020-02-05T00:00:00\", \"Confirmed\": 1, \"Deaths\": 0, \"Recovered\": 0, \"Active\": 1}, {\"Country\": \"Sweden\", \"Date\": \"2020-02-06T00:00:00\", \"Confirmed\": 1, \"Deaths\": 0, \"Recovered\": 0, \"Active\": 1}, {\"Country\": \"Sweden\", \"Date\": \"2020-02-07T00:00:00\", \"Confirmed\": 1, \"Deaths\": 0, \"Recovered\": 0, \"Active\": 1}, {\"Country\": \"Sweden\", \"Date\": \"2020-02-08T00:00:00\", \"Confirmed\": 1, \"Deaths\": 0, \"Recovered\": 0, \"Active\": 1}, {\"Country\": \"Sweden\", \"Date\": \"2020-02-09T00:00:00\", \"Confirmed\": 1, \"Deaths\": 0, \"Recovered\": 0, \"Active\": 1}, {\"Country\": \"Sweden\", \"Date\": \"2020-02-10T00:00:00\", \"Confirmed\": 1, \"Deaths\": 0, \"Recovered\": 0, \"Active\": 1}, {\"Country\": \"Sweden\", \"Date\": \"2020-02-11T00:00:00\", \"Confirmed\": 1, \"Deaths\": 0, \"Recovered\": 0, \"Active\": 1}, {\"Country\": \"Sweden\", \"Date\": \"2020-02-12T00:00:00\", \"Confirmed\": 1, \"Deaths\": 0, \"Recovered\": 0, \"Active\": 1}, {\"Country\": \"Sweden\", \"Date\": \"2020-02-13T00:00:00\", \"Confirmed\": 1, \"Deaths\": 0, \"Recovered\": 0, \"Active\": 1}, {\"Country\": \"Sweden\", \"Date\": \"2020-02-14T00:00:00\", \"Confirmed\": 1, \"Deaths\": 0, \"Recovered\": 0, \"Active\": 1}, {\"Country\": \"Sweden\", \"Date\": \"2020-02-15T00:00:00\", \"Confirmed\": 1, \"Deaths\": 0, \"Recovered\": 0, \"Active\": 1}, {\"Country\": \"Sweden\", \"Date\": \"2020-02-16T00:00:00\", \"Confirmed\": 1, \"Deaths\": 0, \"Recovered\": 0, \"Active\": 1}, {\"Country\": \"Sweden\", \"Date\": \"2020-02-17T00:00:00\", \"Confirmed\": 1, \"Deaths\": 0, \"Recovered\": 0, \"Active\": 1}, {\"Country\": \"Sweden\", \"Date\": \"2020-02-18T00:00:00\", \"Confirmed\": 1, \"Deaths\": 0, \"Recovered\": 0, \"Active\": 1}, {\"Country\": \"Sweden\", \"Date\": \"2020-02-19T00:00:00\", \"Confirmed\": 1, \"Deaths\": 0, \"Recovered\": 0, \"Active\": 1}, {\"Country\": \"Sweden\", \"Date\": \"2020-02-20T00:00:00\", \"Confirmed\": 1, \"Deaths\": 0, \"Recovered\": 0, \"Active\": 1}, {\"Country\": \"Sweden\", \"Date\": \"2020-02-21T00:00:00\", \"Confirmed\": 1, \"Deaths\": 0, \"Recovered\": 0, \"Active\": 1}, {\"Country\": \"Sweden\", \"Date\": \"2020-02-22T00:00:00\", \"Confirmed\": 1, \"Deaths\": 0, \"Recovered\": 0, \"Active\": 1}, {\"Country\": \"Sweden\", \"Date\": \"2020-02-23T00:00:00\", \"Confirmed\": 1, \"Deaths\": 0, \"Recovered\": 0, \"Active\": 1}, {\"Country\": \"Sweden\", \"Date\": \"2020-02-24T00:00:00\", \"Confirmed\": 1, \"Deaths\": 0, \"Recovered\": 0, \"Active\": 1}, {\"Country\": \"Sweden\", \"Date\": \"2020-02-25T00:00:00\", \"Confirmed\": 1, \"Deaths\": 0, \"Recovered\": 0, \"Active\": 1}, {\"Country\": \"Sweden\", \"Date\": \"2020-02-26T00:00:00\", \"Confirmed\": 2, \"Deaths\": 0, \"Recovered\": 0, \"Active\": 2}, {\"Country\": \"Sweden\", \"Date\": \"2020-02-27T00:00:00\", \"Confirmed\": 7, \"Deaths\": 0, \"Recovered\": 0, \"Active\": 7}, {\"Country\": \"Sweden\", \"Date\": \"2020-02-28T00:00:00\", \"Confirmed\": 7, \"Deaths\": 0, \"Recovered\": 0, \"Active\": 7}, {\"Country\": \"Sweden\", \"Date\": \"2020-02-29T00:00:00\", \"Confirmed\": 12, \"Deaths\": 0, \"Recovered\": 0, \"Active\": 12}, {\"Country\": \"Sweden\", \"Date\": \"2020-03-01T00:00:00\", \"Confirmed\": 14, \"Deaths\": 0, \"Recovered\": 0, \"Active\": 14}, {\"Country\": \"Sweden\", \"Date\": \"2020-03-02T00:00:00\", \"Confirmed\": 15, \"Deaths\": 0, \"Recovered\": 0, \"Active\": 15}, {\"Country\": \"Sweden\", \"Date\": \"2020-03-03T00:00:00\", \"Confirmed\": 21, \"Deaths\": 0, \"Recovered\": 0, \"Active\": 21}, {\"Country\": \"Sweden\", \"Date\": \"2020-03-04T00:00:00\", \"Confirmed\": 35, \"Deaths\": 0, \"Recovered\": 0, \"Active\": 35}, {\"Country\": \"Sweden\", \"Date\": \"2020-03-05T00:00:00\", \"Confirmed\": 94, \"Deaths\": 0, \"Recovered\": 0, \"Active\": 94}, {\"Country\": \"Sweden\", \"Date\": \"2020-03-06T00:00:00\", \"Confirmed\": 101, \"Deaths\": 0, \"Recovered\": 0, \"Active\": 101}, {\"Country\": \"Sweden\", \"Date\": \"2020-03-07T00:00:00\", \"Confirmed\": 161, \"Deaths\": 0, \"Recovered\": 0, \"Active\": 161}, {\"Country\": \"Sweden\", \"Date\": \"2020-03-08T00:00:00\", \"Confirmed\": 203, \"Deaths\": 0, \"Recovered\": 0, \"Active\": 203}, {\"Country\": \"Sweden\", \"Date\": \"2020-03-09T00:00:00\", \"Confirmed\": 248, \"Deaths\": 0, \"Recovered\": 1, \"Active\": 247}, {\"Country\": \"Sweden\", \"Date\": \"2020-03-10T00:00:00\", \"Confirmed\": 355, \"Deaths\": 0, \"Recovered\": 1, \"Active\": 354}, {\"Country\": \"Sweden\", \"Date\": \"2020-03-11T00:00:00\", \"Confirmed\": 500, \"Deaths\": 1, \"Recovered\": 1, \"Active\": 498}, {\"Country\": \"Sweden\", \"Date\": \"2020-03-12T00:00:00\", \"Confirmed\": 599, \"Deaths\": 1, \"Recovered\": 1, \"Active\": 597}, {\"Country\": \"Sweden\", \"Date\": \"2020-03-13T00:00:00\", \"Confirmed\": 814, \"Deaths\": 1, \"Recovered\": 1, \"Active\": 812}, {\"Country\": \"Sweden\", \"Date\": \"2020-03-14T00:00:00\", \"Confirmed\": 961, \"Deaths\": 2, \"Recovered\": 1, \"Active\": 958}, {\"Country\": \"Sweden\", \"Date\": \"2020-03-15T00:00:00\", \"Confirmed\": 1022, \"Deaths\": 3, \"Recovered\": 1, \"Active\": 1018}, {\"Country\": \"Sweden\", \"Date\": \"2020-03-16T00:00:00\", \"Confirmed\": 1103, \"Deaths\": 6, \"Recovered\": 1, \"Active\": 1096}, {\"Country\": \"Sweden\", \"Date\": \"2020-03-17T00:00:00\", \"Confirmed\": 1190, \"Deaths\": 7, \"Recovered\": 1, \"Active\": 1182}, {\"Country\": \"Sweden\", \"Date\": \"2020-03-18T00:00:00\", \"Confirmed\": 1279, \"Deaths\": 10, \"Recovered\": 1, \"Active\": 1268}, {\"Country\": \"Sweden\", \"Date\": \"2020-03-19T00:00:00\", \"Confirmed\": 1439, \"Deaths\": 11, \"Recovered\": 16, \"Active\": 1412}, {\"Country\": \"Sweden\", \"Date\": \"2020-03-20T00:00:00\", \"Confirmed\": 1639, \"Deaths\": 16, \"Recovered\": 16, \"Active\": 1607}, {\"Country\": \"Sweden\", \"Date\": \"2020-03-21T00:00:00\", \"Confirmed\": 1763, \"Deaths\": 20, \"Recovered\": 16, \"Active\": 1727}, {\"Country\": \"Sweden\", \"Date\": \"2020-03-22T00:00:00\", \"Confirmed\": 1931, \"Deaths\": 21, \"Recovered\": 16, \"Active\": 1894}, {\"Country\": \"Sweden\", \"Date\": \"2020-03-23T00:00:00\", \"Confirmed\": 2046, \"Deaths\": 25, \"Recovered\": 16, \"Active\": 2005}, {\"Country\": \"Sweden\", \"Date\": \"2020-03-24T00:00:00\", \"Confirmed\": 2286, \"Deaths\": 36, \"Recovered\": 16, \"Active\": 2234}, {\"Country\": \"Sweden\", \"Date\": \"2020-03-25T00:00:00\", \"Confirmed\": 2526, \"Deaths\": 62, \"Recovered\": 16, \"Active\": 2448}, {\"Country\": \"Sweden\", \"Date\": \"2020-03-26T00:00:00\", \"Confirmed\": 2840, \"Deaths\": 77, \"Recovered\": 16, \"Active\": 2747}, {\"Country\": \"Sweden\", \"Date\": \"2020-03-27T00:00:00\", \"Confirmed\": 3069, \"Deaths\": 105, \"Recovered\": 16, \"Active\": 2948}, {\"Country\": \"Sweden\", \"Date\": \"2020-03-28T00:00:00\", \"Confirmed\": 3447, \"Deaths\": 105, \"Recovered\": 16, \"Active\": 3326}, {\"Country\": \"Sweden\", \"Date\": \"2020-03-29T00:00:00\", \"Confirmed\": 3700, \"Deaths\": 110, \"Recovered\": 16, \"Active\": 3574}, {\"Country\": \"Sweden\", \"Date\": \"2020-03-30T00:00:00\", \"Confirmed\": 4028, \"Deaths\": 146, \"Recovered\": 16, \"Active\": 3866}, {\"Country\": \"Sweden\", \"Date\": \"2020-03-31T00:00:00\", \"Confirmed\": 4435, \"Deaths\": 180, \"Recovered\": 16, \"Active\": 4239}, {\"Country\": \"Sweden\", \"Date\": \"2020-04-01T00:00:00\", \"Confirmed\": 4947, \"Deaths\": 239, \"Recovered\": 103, \"Active\": 4605}, {\"Country\": \"Sweden\", \"Date\": \"2020-04-02T00:00:00\", \"Confirmed\": 5568, \"Deaths\": 308, \"Recovered\": 103, \"Active\": 5157}, {\"Country\": \"Sweden\", \"Date\": \"2020-04-03T00:00:00\", \"Confirmed\": 6131, \"Deaths\": 358, \"Recovered\": 205, \"Active\": 5568}, {\"Country\": \"Sweden\", \"Date\": \"2020-04-04T00:00:00\", \"Confirmed\": 6443, \"Deaths\": 373, \"Recovered\": 205, \"Active\": 5865}, {\"Country\": \"Sweden\", \"Date\": \"2020-04-05T00:00:00\", \"Confirmed\": 6830, \"Deaths\": 401, \"Recovered\": 205, \"Active\": 6224}, {\"Country\": \"Sweden\", \"Date\": \"2020-04-06T00:00:00\", \"Confirmed\": 7206, \"Deaths\": 477, \"Recovered\": 205, \"Active\": 6524}, {\"Country\": \"Sweden\", \"Date\": \"2020-04-07T00:00:00\", \"Confirmed\": 7693, \"Deaths\": 591, \"Recovered\": 205, \"Active\": 6897}, {\"Country\": \"Sweden\", \"Date\": \"2020-04-08T00:00:00\", \"Confirmed\": 8419, \"Deaths\": 687, \"Recovered\": 205, \"Active\": 7527}, {\"Country\": \"Sweden\", \"Date\": \"2020-04-09T00:00:00\", \"Confirmed\": 9141, \"Deaths\": 793, \"Recovered\": 205, \"Active\": 8143}, {\"Country\": \"Sweden\", \"Date\": \"2020-04-10T00:00:00\", \"Confirmed\": 9685, \"Deaths\": 870, \"Recovered\": 381, \"Active\": 8434}, {\"Country\": \"Sweden\", \"Date\": \"2020-04-11T00:00:00\", \"Confirmed\": 10151, \"Deaths\": 887, \"Recovered\": 381, \"Active\": 8883}, {\"Country\": \"Sweden\", \"Date\": \"2020-04-12T00:00:00\", \"Confirmed\": 10483, \"Deaths\": 899, \"Recovered\": 381, \"Active\": 9203}, {\"Country\": \"Sweden\", \"Date\": \"2020-04-13T00:00:00\", \"Confirmed\": 10948, \"Deaths\": 919, \"Recovered\": 381, \"Active\": 9648}, {\"Country\": \"Sweden\", \"Date\": \"2020-04-14T00:00:00\", \"Confirmed\": 11445, \"Deaths\": 1033, \"Recovered\": 381, \"Active\": 10031}, {\"Country\": \"Sweden\", \"Date\": \"2020-04-15T00:00:00\", \"Confirmed\": 11927, \"Deaths\": 1203, \"Recovered\": 381, \"Active\": 10343}, {\"Country\": \"Sweden\", \"Date\": \"2020-04-16T00:00:00\", \"Confirmed\": 12540, \"Deaths\": 1333, \"Recovered\": 550, \"Active\": 10657}, {\"Country\": \"Sweden\", \"Date\": \"2020-04-17T00:00:00\", \"Confirmed\": 13216, \"Deaths\": 1400, \"Recovered\": 550, \"Active\": 11266}]}}, {\"mode\": \"vega-lite\"});\n",
              "</script>"
            ]
          },
          "metadata": {
            "tags": []
          }
        },
        {
          "output_type": "display_data",
          "data": {
            "text/plain": [
              "alt.Chart(...)"
            ],
            "text/html": [
              "\n",
              "<div id=\"altair-viz-262477c4fed7477da36e326a18a404b3\"></div>\n",
              "<script type=\"text/javascript\">\n",
              "  (function(spec, embedOpt){\n",
              "    let outputDiv = document.currentScript.previousElementSibling;\n",
              "    if (outputDiv.id !== \"altair-viz-262477c4fed7477da36e326a18a404b3\") {\n",
              "      outputDiv = document.getElementById(\"altair-viz-262477c4fed7477da36e326a18a404b3\");\n",
              "    }\n",
              "    const paths = {\n",
              "      \"vega\": \"https://cdn.jsdelivr.net/npm//vega@5?noext\",\n",
              "      \"vega-lib\": \"https://cdn.jsdelivr.net/npm//vega-lib?noext\",\n",
              "      \"vega-lite\": \"https://cdn.jsdelivr.net/npm//vega-lite@4.8.1?noext\",\n",
              "      \"vega-embed\": \"https://cdn.jsdelivr.net/npm//vega-embed@6?noext\",\n",
              "    };\n",
              "\n",
              "    function loadScript(lib) {\n",
              "      return new Promise(function(resolve, reject) {\n",
              "        var s = document.createElement('script');\n",
              "        s.src = paths[lib];\n",
              "        s.async = true;\n",
              "        s.onload = () => resolve(paths[lib]);\n",
              "        s.onerror = () => reject(`Error loading script: ${paths[lib]}`);\n",
              "        document.getElementsByTagName(\"head\")[0].appendChild(s);\n",
              "      });\n",
              "    }\n",
              "\n",
              "    function showError(err) {\n",
              "      outputDiv.innerHTML = `<div class=\"error\" style=\"color:red;\">${err}</div>`;\n",
              "      throw err;\n",
              "    }\n",
              "\n",
              "    function displayChart(vegaEmbed) {\n",
              "      vegaEmbed(outputDiv, spec, embedOpt)\n",
              "        .catch(err => showError(`Javascript Error: ${err.message}<br>This usually means there's a typo in your chart specification. See the javascript console for the full traceback.`));\n",
              "    }\n",
              "\n",
              "    if(typeof define === \"function\" && define.amd) {\n",
              "      requirejs.config({paths});\n",
              "      require([\"vega-embed\"], displayChart, err => showError(`Error loading script: ${err.message}`));\n",
              "    } else if (typeof vegaEmbed === \"function\") {\n",
              "      displayChart(vegaEmbed);\n",
              "    } else {\n",
              "      loadScript(\"vega\")\n",
              "        .then(() => loadScript(\"vega-lite\"))\n",
              "        .then(() => loadScript(\"vega-embed\"))\n",
              "        .catch(showError)\n",
              "        .then(() => displayChart(vegaEmbed));\n",
              "    }\n",
              "  })({\"config\": {\"view\": {\"continuousWidth\": 400, \"continuousHeight\": 300, \"strokeWidth\": 0}, \"area\": {}, \"axis\": {\"domainColor\": \"lightgray\", \"grid\": false, \"labelFont\": \"Roboto Condensed\", \"ticks\": false, \"title\": null}, \"axisY\": {\"grid\": true}, \"legend\": {\"labelFont\": \"Roboto Condensed\", \"title\": null}}, \"data\": {\"name\": \"data-4cc934fb2d5f0391adc1ac6f200220dd\"}, \"mark\": \"line\", \"encoding\": {\"color\": {\"type\": \"nominal\", \"field\": \"Type\"}, \"opacity\": {\"value\": 0.7}, \"x\": {\"type\": \"temporal\", \"axis\": {\"format\": \"%b %d\"}, \"field\": \"Date\"}, \"y\": {\"type\": \"quantitative\", \"field\": \"Count\"}}, \"selection\": {\"Select\": {\"type\": \"single\", \"fields\": [\"Country\"], \"bind\": {\"input\": \"select\", \"options\": [\"Belgium\", \"China\", \"France\", \"Germany\", \"Iran\", \"Italy\", \"Spain\", \"Turkey\", \"US\", \"United Kingdom\"]}, \"init\": {\"Country\": \"Belgium\"}}, \"selector094\": {\"type\": \"interval\", \"bind\": \"scales\", \"encodings\": [\"x\", \"y\"]}}, \"transform\": [{\"fold\": [\"Recovered\", \"Active\", \"Deaths\", \"Confirmed\"], \"as\": [\"Type\", \"Count\"]}, {\"filter\": {\"selection\": \"Select\"}}], \"$schema\": \"https://vega.github.io/schema/vega-lite/v4.8.1.json\", \"datasets\": {\"data-4cc934fb2d5f0391adc1ac6f200220dd\": [{\"Country\": \"Belgium\", \"Date\": \"2020-02-04T00:00:00\", \"Confirmed\": 1, \"Deaths\": 0, \"Recovered\": 0, \"Active\": 1}, {\"Country\": \"Belgium\", \"Date\": \"2020-02-05T00:00:00\", \"Confirmed\": 1, \"Deaths\": 0, \"Recovered\": 0, \"Active\": 1}, {\"Country\": \"Belgium\", \"Date\": \"2020-02-06T00:00:00\", \"Confirmed\": 1, \"Deaths\": 0, \"Recovered\": 0, \"Active\": 1}, {\"Country\": \"Belgium\", \"Date\": \"2020-02-07T00:00:00\", \"Confirmed\": 1, \"Deaths\": 0, \"Recovered\": 0, \"Active\": 1}, {\"Country\": \"Belgium\", \"Date\": \"2020-02-08T00:00:00\", \"Confirmed\": 1, \"Deaths\": 0, \"Recovered\": 0, \"Active\": 1}, {\"Country\": \"Belgium\", \"Date\": \"2020-02-09T00:00:00\", \"Confirmed\": 1, \"Deaths\": 0, \"Recovered\": 0, \"Active\": 1}, {\"Country\": \"Belgium\", \"Date\": \"2020-02-10T00:00:00\", \"Confirmed\": 1, \"Deaths\": 0, \"Recovered\": 0, \"Active\": 1}, {\"Country\": \"Belgium\", \"Date\": \"2020-02-11T00:00:00\", \"Confirmed\": 1, \"Deaths\": 0, \"Recovered\": 0, \"Active\": 1}, {\"Country\": \"Belgium\", \"Date\": \"2020-02-12T00:00:00\", \"Confirmed\": 1, \"Deaths\": 0, \"Recovered\": 0, \"Active\": 1}, {\"Country\": \"Belgium\", \"Date\": \"2020-02-13T00:00:00\", \"Confirmed\": 1, \"Deaths\": 0, \"Recovered\": 0, \"Active\": 1}, {\"Country\": \"Belgium\", \"Date\": \"2020-02-14T00:00:00\", \"Confirmed\": 1, \"Deaths\": 0, \"Recovered\": 0, \"Active\": 1}, {\"Country\": \"Belgium\", \"Date\": \"2020-02-15T00:00:00\", \"Confirmed\": 1, \"Deaths\": 0, \"Recovered\": 0, \"Active\": 1}, {\"Country\": \"Belgium\", \"Date\": \"2020-02-16T00:00:00\", \"Confirmed\": 1, \"Deaths\": 0, \"Recovered\": 0, \"Active\": 1}, {\"Country\": \"Belgium\", \"Date\": \"2020-02-17T00:00:00\", \"Confirmed\": 1, \"Deaths\": 0, \"Recovered\": 1, \"Active\": 0}, {\"Country\": \"Belgium\", \"Date\": \"2020-02-18T00:00:00\", \"Confirmed\": 1, \"Deaths\": 0, \"Recovered\": 1, \"Active\": 0}, {\"Country\": \"Belgium\", \"Date\": \"2020-02-19T00:00:00\", \"Confirmed\": 1, \"Deaths\": 0, \"Recovered\": 1, \"Active\": 0}, {\"Country\": \"Belgium\", \"Date\": \"2020-02-20T00:00:00\", \"Confirmed\": 1, \"Deaths\": 0, \"Recovered\": 1, \"Active\": 0}, {\"Country\": \"Belgium\", \"Date\": \"2020-02-21T00:00:00\", \"Confirmed\": 1, \"Deaths\": 0, \"Recovered\": 1, \"Active\": 0}, {\"Country\": \"Belgium\", \"Date\": \"2020-02-22T00:00:00\", \"Confirmed\": 1, \"Deaths\": 0, \"Recovered\": 1, \"Active\": 0}, {\"Country\": \"Belgium\", \"Date\": \"2020-02-23T00:00:00\", \"Confirmed\": 1, \"Deaths\": 0, \"Recovered\": 1, \"Active\": 0}, {\"Country\": \"Belgium\", \"Date\": \"2020-02-24T00:00:00\", \"Confirmed\": 1, \"Deaths\": 0, \"Recovered\": 1, \"Active\": 0}, {\"Country\": \"Belgium\", \"Date\": \"2020-02-25T00:00:00\", \"Confirmed\": 1, \"Deaths\": 0, \"Recovered\": 1, \"Active\": 0}, {\"Country\": \"Belgium\", \"Date\": \"2020-02-26T00:00:00\", \"Confirmed\": 1, \"Deaths\": 0, \"Recovered\": 1, \"Active\": 0}, {\"Country\": \"Belgium\", \"Date\": \"2020-02-27T00:00:00\", \"Confirmed\": 1, \"Deaths\": 0, \"Recovered\": 1, \"Active\": 0}, {\"Country\": \"Belgium\", \"Date\": \"2020-02-28T00:00:00\", \"Confirmed\": 1, \"Deaths\": 0, \"Recovered\": 1, \"Active\": 0}, {\"Country\": \"Belgium\", \"Date\": \"2020-02-29T00:00:00\", \"Confirmed\": 1, \"Deaths\": 0, \"Recovered\": 1, \"Active\": 0}, {\"Country\": \"Belgium\", \"Date\": \"2020-03-01T00:00:00\", \"Confirmed\": 2, \"Deaths\": 0, \"Recovered\": 1, \"Active\": 1}, {\"Country\": \"Belgium\", \"Date\": \"2020-03-02T00:00:00\", \"Confirmed\": 8, \"Deaths\": 0, \"Recovered\": 1, \"Active\": 7}, {\"Country\": \"Belgium\", \"Date\": \"2020-03-03T00:00:00\", \"Confirmed\": 13, \"Deaths\": 0, \"Recovered\": 1, \"Active\": 12}, {\"Country\": \"Belgium\", \"Date\": \"2020-03-04T00:00:00\", \"Confirmed\": 23, \"Deaths\": 0, \"Recovered\": 1, \"Active\": 22}, {\"Country\": \"Belgium\", \"Date\": \"2020-03-05T00:00:00\", \"Confirmed\": 50, \"Deaths\": 0, \"Recovered\": 1, \"Active\": 49}, {\"Country\": \"Belgium\", \"Date\": \"2020-03-06T00:00:00\", \"Confirmed\": 109, \"Deaths\": 0, \"Recovered\": 1, \"Active\": 108}, {\"Country\": \"Belgium\", \"Date\": \"2020-03-07T00:00:00\", \"Confirmed\": 169, \"Deaths\": 0, \"Recovered\": 1, \"Active\": 168}, {\"Country\": \"Belgium\", \"Date\": \"2020-03-08T00:00:00\", \"Confirmed\": 200, \"Deaths\": 0, \"Recovered\": 1, \"Active\": 199}, {\"Country\": \"Belgium\", \"Date\": \"2020-03-09T00:00:00\", \"Confirmed\": 239, \"Deaths\": 0, \"Recovered\": 1, \"Active\": 238}, {\"Country\": \"Belgium\", \"Date\": \"2020-03-10T00:00:00\", \"Confirmed\": 267, \"Deaths\": 0, \"Recovered\": 1, \"Active\": 266}, {\"Country\": \"Belgium\", \"Date\": \"2020-03-11T00:00:00\", \"Confirmed\": 314, \"Deaths\": 3, \"Recovered\": 1, \"Active\": 310}, {\"Country\": \"Belgium\", \"Date\": \"2020-03-12T00:00:00\", \"Confirmed\": 314, \"Deaths\": 3, \"Recovered\": 1, \"Active\": 310}, {\"Country\": \"Belgium\", \"Date\": \"2020-03-13T00:00:00\", \"Confirmed\": 559, \"Deaths\": 3, \"Recovered\": 1, \"Active\": 555}, {\"Country\": \"Belgium\", \"Date\": \"2020-03-14T00:00:00\", \"Confirmed\": 689, \"Deaths\": 4, \"Recovered\": 1, \"Active\": 684}, {\"Country\": \"Belgium\", \"Date\": \"2020-03-15T00:00:00\", \"Confirmed\": 886, \"Deaths\": 4, \"Recovered\": 1, \"Active\": 881}, {\"Country\": \"Belgium\", \"Date\": \"2020-03-16T00:00:00\", \"Confirmed\": 1058, \"Deaths\": 5, \"Recovered\": 1, \"Active\": 1052}, {\"Country\": \"Belgium\", \"Date\": \"2020-03-17T00:00:00\", \"Confirmed\": 1243, \"Deaths\": 10, \"Recovered\": 1, \"Active\": 1232}, {\"Country\": \"Belgium\", \"Date\": \"2020-03-18T00:00:00\", \"Confirmed\": 1486, \"Deaths\": 14, \"Recovered\": 31, \"Active\": 1441}, {\"Country\": \"Belgium\", \"Date\": \"2020-03-19T00:00:00\", \"Confirmed\": 1795, \"Deaths\": 21, \"Recovered\": 31, \"Active\": 1743}, {\"Country\": \"Belgium\", \"Date\": \"2020-03-20T00:00:00\", \"Confirmed\": 2257, \"Deaths\": 37, \"Recovered\": 1, \"Active\": 2219}, {\"Country\": \"Belgium\", \"Date\": \"2020-03-21T00:00:00\", \"Confirmed\": 2815, \"Deaths\": 67, \"Recovered\": 263, \"Active\": 2485}, {\"Country\": \"Belgium\", \"Date\": \"2020-03-22T00:00:00\", \"Confirmed\": 3401, \"Deaths\": 75, \"Recovered\": 263, \"Active\": 3063}, {\"Country\": \"Belgium\", \"Date\": \"2020-03-23T00:00:00\", \"Confirmed\": 3743, \"Deaths\": 88, \"Recovered\": 401, \"Active\": 3254}, {\"Country\": \"Belgium\", \"Date\": \"2020-03-24T00:00:00\", \"Confirmed\": 4269, \"Deaths\": 122, \"Recovered\": 461, \"Active\": 3686}, {\"Country\": \"Belgium\", \"Date\": \"2020-03-25T00:00:00\", \"Confirmed\": 4937, \"Deaths\": 178, \"Recovered\": 547, \"Active\": 4212}, {\"Country\": \"Belgium\", \"Date\": \"2020-03-26T00:00:00\", \"Confirmed\": 6235, \"Deaths\": 220, \"Recovered\": 675, \"Active\": 5340}, {\"Country\": \"Belgium\", \"Date\": \"2020-03-27T00:00:00\", \"Confirmed\": 7284, \"Deaths\": 289, \"Recovered\": 858, \"Active\": 6137}, {\"Country\": \"Belgium\", \"Date\": \"2020-03-28T00:00:00\", \"Confirmed\": 9134, \"Deaths\": 353, \"Recovered\": 1063, \"Active\": 7718}, {\"Country\": \"Belgium\", \"Date\": \"2020-03-29T00:00:00\", \"Confirmed\": 10836, \"Deaths\": 431, \"Recovered\": 1359, \"Active\": 9046}, {\"Country\": \"Belgium\", \"Date\": \"2020-03-30T00:00:00\", \"Confirmed\": 11899, \"Deaths\": 513, \"Recovered\": 1527, \"Active\": 9859}, {\"Country\": \"Belgium\", \"Date\": \"2020-03-31T00:00:00\", \"Confirmed\": 12775, \"Deaths\": 705, \"Recovered\": 1696, \"Active\": 10374}, {\"Country\": \"Belgium\", \"Date\": \"2020-04-01T00:00:00\", \"Confirmed\": 13964, \"Deaths\": 828, \"Recovered\": 2132, \"Active\": 11004}, {\"Country\": \"Belgium\", \"Date\": \"2020-04-02T00:00:00\", \"Confirmed\": 15348, \"Deaths\": 1011, \"Recovered\": 2495, \"Active\": 11842}, {\"Country\": \"Belgium\", \"Date\": \"2020-04-03T00:00:00\", \"Confirmed\": 16770, \"Deaths\": 1143, \"Recovered\": 2872, \"Active\": 12755}, {\"Country\": \"Belgium\", \"Date\": \"2020-04-04T00:00:00\", \"Confirmed\": 18431, \"Deaths\": 1283, \"Recovered\": 3247, \"Active\": 13901}, {\"Country\": \"Belgium\", \"Date\": \"2020-04-05T00:00:00\", \"Confirmed\": 19691, \"Deaths\": 1447, \"Recovered\": 3751, \"Active\": 14493}, {\"Country\": \"Belgium\", \"Date\": \"2020-04-06T00:00:00\", \"Confirmed\": 20814, \"Deaths\": 1632, \"Recovered\": 3986, \"Active\": 15196}, {\"Country\": \"Belgium\", \"Date\": \"2020-04-07T00:00:00\", \"Confirmed\": 22194, \"Deaths\": 2035, \"Recovered\": 4157, \"Active\": 16002}, {\"Country\": \"Belgium\", \"Date\": \"2020-04-08T00:00:00\", \"Confirmed\": 23403, \"Deaths\": 2240, \"Recovered\": 4681, \"Active\": 16482}, {\"Country\": \"Belgium\", \"Date\": \"2020-04-09T00:00:00\", \"Confirmed\": 24983, \"Deaths\": 2523, \"Recovered\": 5164, \"Active\": 17296}, {\"Country\": \"Belgium\", \"Date\": \"2020-04-10T00:00:00\", \"Confirmed\": 26667, \"Deaths\": 3019, \"Recovered\": 5568, \"Active\": 18080}, {\"Country\": \"Belgium\", \"Date\": \"2020-04-11T00:00:00\", \"Confirmed\": 28018, \"Deaths\": 3346, \"Recovered\": 5986, \"Active\": 18686}, {\"Country\": \"Belgium\", \"Date\": \"2020-04-12T00:00:00\", \"Confirmed\": 29647, \"Deaths\": 3600, \"Recovered\": 6463, \"Active\": 19584}, {\"Country\": \"Belgium\", \"Date\": \"2020-04-13T00:00:00\", \"Confirmed\": 30589, \"Deaths\": 3903, \"Recovered\": 6707, \"Active\": 19979}, {\"Country\": \"Belgium\", \"Date\": \"2020-04-14T00:00:00\", \"Confirmed\": 31119, \"Deaths\": 4157, \"Recovered\": 6868, \"Active\": 20094}, {\"Country\": \"Belgium\", \"Date\": \"2020-04-15T00:00:00\", \"Confirmed\": 33573, \"Deaths\": 4440, \"Recovered\": 7107, \"Active\": 22026}, {\"Country\": \"Belgium\", \"Date\": \"2020-04-16T00:00:00\", \"Confirmed\": 34809, \"Deaths\": 4857, \"Recovered\": 7562, \"Active\": 22390}, {\"Country\": \"Belgium\", \"Date\": \"2020-04-17T00:00:00\", \"Confirmed\": 36138, \"Deaths\": 5163, \"Recovered\": 7961, \"Active\": 23014}, {\"Country\": \"China\", \"Date\": \"2020-01-22T00:00:00\", \"Confirmed\": 547, \"Deaths\": 17, \"Recovered\": 28, \"Active\": 502}, {\"Country\": \"China\", \"Date\": \"2020-01-23T00:00:00\", \"Confirmed\": 639, \"Deaths\": 18, \"Recovered\": 30, \"Active\": 591}, {\"Country\": \"China\", \"Date\": \"2020-01-24T00:00:00\", \"Confirmed\": 916, \"Deaths\": 26, \"Recovered\": 36, \"Active\": 854}, {\"Country\": \"China\", \"Date\": \"2020-01-25T00:00:00\", \"Confirmed\": 1399, \"Deaths\": 42, \"Recovered\": 39, \"Active\": 1318}, {\"Country\": \"China\", \"Date\": \"2020-01-26T00:00:00\", \"Confirmed\": 2062, \"Deaths\": 56, \"Recovered\": 49, \"Active\": 1957}, {\"Country\": \"China\", \"Date\": \"2020-01-27T00:00:00\", \"Confirmed\": 2863, \"Deaths\": 82, \"Recovered\": 58, \"Active\": 2723}, {\"Country\": \"China\", \"Date\": \"2020-01-28T00:00:00\", \"Confirmed\": 5494, \"Deaths\": 131, \"Recovered\": 101, \"Active\": 5262}, {\"Country\": \"China\", \"Date\": \"2020-01-29T00:00:00\", \"Confirmed\": 6070, \"Deaths\": 133, \"Recovered\": 120, \"Active\": 5817}, {\"Country\": \"China\", \"Date\": \"2020-01-30T00:00:00\", \"Confirmed\": 8124, \"Deaths\": 171, \"Recovered\": 135, \"Active\": 7818}, {\"Country\": \"China\", \"Date\": \"2020-01-31T00:00:00\", \"Confirmed\": 9783, \"Deaths\": 213, \"Recovered\": 214, \"Active\": 9356}, {\"Country\": \"China\", \"Date\": \"2020-02-01T00:00:00\", \"Confirmed\": 11871, \"Deaths\": 259, \"Recovered\": 275, \"Active\": 11337}, {\"Country\": \"China\", \"Date\": \"2020-02-02T00:00:00\", \"Confirmed\": 16607, \"Deaths\": 361, \"Recovered\": 463, \"Active\": 15783}, {\"Country\": \"China\", \"Date\": \"2020-02-03T00:00:00\", \"Confirmed\": 19693, \"Deaths\": 425, \"Recovered\": 614, \"Active\": 18654}, {\"Country\": \"China\", \"Date\": \"2020-02-04T00:00:00\", \"Confirmed\": 23680, \"Deaths\": 490, \"Recovered\": 843, \"Active\": 22347}, {\"Country\": \"China\", \"Date\": \"2020-02-05T00:00:00\", \"Confirmed\": 27409, \"Deaths\": 562, \"Recovered\": 1115, \"Active\": 25732}, {\"Country\": \"China\", \"Date\": \"2020-02-06T00:00:00\", \"Confirmed\": 30553, \"Deaths\": 632, \"Recovered\": 1476, \"Active\": 28445}, {\"Country\": \"China\", \"Date\": \"2020-02-07T00:00:00\", \"Confirmed\": 34075, \"Deaths\": 717, \"Recovered\": 1998, \"Active\": 31360}, {\"Country\": \"China\", \"Date\": \"2020-02-08T00:00:00\", \"Confirmed\": 36778, \"Deaths\": 804, \"Recovered\": 2595, \"Active\": 33379}, {\"Country\": \"China\", \"Date\": \"2020-02-09T00:00:00\", \"Confirmed\": 39790, \"Deaths\": 904, \"Recovered\": 3218, \"Active\": 35668}, {\"Country\": \"China\", \"Date\": \"2020-02-10T00:00:00\", \"Confirmed\": 42306, \"Deaths\": 1011, \"Recovered\": 3917, \"Active\": 37378}, {\"Country\": \"China\", \"Date\": \"2020-02-11T00:00:00\", \"Confirmed\": 44327, \"Deaths\": 1111, \"Recovered\": 4635, \"Active\": 38581}, {\"Country\": \"China\", \"Date\": \"2020-02-12T00:00:00\", \"Confirmed\": 44699, \"Deaths\": 1116, \"Recovered\": 5079, \"Active\": 38504}, {\"Country\": \"China\", \"Date\": \"2020-02-13T00:00:00\", \"Confirmed\": 59832, \"Deaths\": 1368, \"Recovered\": 6213, \"Active\": 52251}, {\"Country\": \"China\", \"Date\": \"2020-02-14T00:00:00\", \"Confirmed\": 66292, \"Deaths\": 1520, \"Recovered\": 7973, \"Active\": 56799}, {\"Country\": \"China\", \"Date\": \"2020-02-15T00:00:00\", \"Confirmed\": 68347, \"Deaths\": 1662, \"Recovered\": 9294, \"Active\": 57391}, {\"Country\": \"China\", \"Date\": \"2020-02-16T00:00:00\", \"Confirmed\": 70446, \"Deaths\": 1765, \"Recovered\": 10748, \"Active\": 57933}, {\"Country\": \"China\", \"Date\": \"2020-02-17T00:00:00\", \"Confirmed\": 72364, \"Deaths\": 1863, \"Recovered\": 12455, \"Active\": 58046}, {\"Country\": \"China\", \"Date\": \"2020-02-18T00:00:00\", \"Confirmed\": 74139, \"Deaths\": 2002, \"Recovered\": 14199, \"Active\": 57938}, {\"Country\": \"China\", \"Date\": \"2020-02-19T00:00:00\", \"Confirmed\": 74546, \"Deaths\": 2114, \"Recovered\": 15952, \"Active\": 56480}, {\"Country\": \"China\", \"Date\": \"2020-02-20T00:00:00\", \"Confirmed\": 74999, \"Deaths\": 2236, \"Recovered\": 18002, \"Active\": 54761}, {\"Country\": \"China\", \"Date\": \"2020-02-21T00:00:00\", \"Confirmed\": 75472, \"Deaths\": 2236, \"Recovered\": 18693, \"Active\": 54543}, {\"Country\": \"China\", \"Date\": \"2020-02-22T00:00:00\", \"Confirmed\": 76922, \"Deaths\": 2441, \"Recovered\": 22687, \"Active\": 51794}, {\"Country\": \"China\", \"Date\": \"2020-02-23T00:00:00\", \"Confirmed\": 76938, \"Deaths\": 2443, \"Recovered\": 23170, \"Active\": 51325}, {\"Country\": \"China\", \"Date\": \"2020-02-24T00:00:00\", \"Confirmed\": 77152, \"Deaths\": 2593, \"Recovered\": 24990, \"Active\": 49569}, {\"Country\": \"China\", \"Date\": \"2020-02-25T00:00:00\", \"Confirmed\": 77660, \"Deaths\": 2663, \"Recovered\": 27650, \"Active\": 47347}, {\"Country\": \"China\", \"Date\": \"2020-02-26T00:00:00\", \"Confirmed\": 78065, \"Deaths\": 2715, \"Recovered\": 30053, \"Active\": 45297}, {\"Country\": \"China\", \"Date\": \"2020-02-27T00:00:00\", \"Confirmed\": 78498, \"Deaths\": 2744, \"Recovered\": 32898, \"Active\": 42856}, {\"Country\": \"China\", \"Date\": \"2020-02-28T00:00:00\", \"Confirmed\": 78824, \"Deaths\": 2788, \"Recovered\": 36291, \"Active\": 39745}, {\"Country\": \"China\", \"Date\": \"2020-02-29T00:00:00\", \"Confirmed\": 79251, \"Deaths\": 2835, \"Recovered\": 39279, \"Active\": 37137}, {\"Country\": \"China\", \"Date\": \"2020-03-01T00:00:00\", \"Confirmed\": 79826, \"Deaths\": 2870, \"Recovered\": 42118, \"Active\": 34838}, {\"Country\": \"China\", \"Date\": \"2020-03-02T00:00:00\", \"Confirmed\": 80026, \"Deaths\": 2912, \"Recovered\": 44810, \"Active\": 32304}, {\"Country\": \"China\", \"Date\": \"2020-03-03T00:00:00\", \"Confirmed\": 80151, \"Deaths\": 2945, \"Recovered\": 47404, \"Active\": 29802}, {\"Country\": \"China\", \"Date\": \"2020-03-04T00:00:00\", \"Confirmed\": 80271, \"Deaths\": 2981, \"Recovered\": 49955, \"Active\": 27335}, {\"Country\": \"China\", \"Date\": \"2020-03-05T00:00:00\", \"Confirmed\": 80422, \"Deaths\": 3013, \"Recovered\": 52240, \"Active\": 25169}, {\"Country\": \"China\", \"Date\": \"2020-03-06T00:00:00\", \"Confirmed\": 80573, \"Deaths\": 3042, \"Recovered\": 53888, \"Active\": 23643}, {\"Country\": \"China\", \"Date\": \"2020-03-07T00:00:00\", \"Confirmed\": 80652, \"Deaths\": 3070, \"Recovered\": 55478, \"Active\": 22104}, {\"Country\": \"China\", \"Date\": \"2020-03-08T00:00:00\", \"Confirmed\": 80699, \"Deaths\": 3097, \"Recovered\": 57320, \"Active\": 20282}, {\"Country\": \"China\", \"Date\": \"2020-03-09T00:00:00\", \"Confirmed\": 80735, \"Deaths\": 3120, \"Recovered\": 58735, \"Active\": 18880}, {\"Country\": \"China\", \"Date\": \"2020-03-10T00:00:00\", \"Confirmed\": 80757, \"Deaths\": 3136, \"Recovered\": 60106, \"Active\": 17515}, {\"Country\": \"China\", \"Date\": \"2020-03-11T00:00:00\", \"Confirmed\": 80921, \"Deaths\": 3161, \"Recovered\": 61644, \"Active\": 16116}, {\"Country\": \"China\", \"Date\": \"2020-03-12T00:00:00\", \"Confirmed\": 80932, \"Deaths\": 3172, \"Recovered\": 62901, \"Active\": 14859}, {\"Country\": \"China\", \"Date\": \"2020-03-13T00:00:00\", \"Confirmed\": 80945, \"Deaths\": 3180, \"Recovered\": 64196, \"Active\": 13569}, {\"Country\": \"China\", \"Date\": \"2020-03-14T00:00:00\", \"Confirmed\": 80977, \"Deaths\": 3193, \"Recovered\": 65660, \"Active\": 12124}, {\"Country\": \"China\", \"Date\": \"2020-03-15T00:00:00\", \"Confirmed\": 81003, \"Deaths\": 3203, \"Recovered\": 67017, \"Active\": 10783}, {\"Country\": \"China\", \"Date\": \"2020-03-16T00:00:00\", \"Confirmed\": 81033, \"Deaths\": 3217, \"Recovered\": 67910, \"Active\": 9906}, {\"Country\": \"China\", \"Date\": \"2020-03-17T00:00:00\", \"Confirmed\": 81058, \"Deaths\": 3230, \"Recovered\": 68798, \"Active\": 9030}, {\"Country\": \"China\", \"Date\": \"2020-03-18T00:00:00\", \"Confirmed\": 81102, \"Deaths\": 3241, \"Recovered\": 69755, \"Active\": 8106}, {\"Country\": \"China\", \"Date\": \"2020-03-19T00:00:00\", \"Confirmed\": 81156, \"Deaths\": 3249, \"Recovered\": 70535, \"Active\": 7372}, {\"Country\": \"China\", \"Date\": \"2020-03-20T00:00:00\", \"Confirmed\": 81250, \"Deaths\": 3253, \"Recovered\": 71266, \"Active\": 6731}, {\"Country\": \"China\", \"Date\": \"2020-03-21T00:00:00\", \"Confirmed\": 81305, \"Deaths\": 3259, \"Recovered\": 71857, \"Active\": 6189}, {\"Country\": \"China\", \"Date\": \"2020-03-22T00:00:00\", \"Confirmed\": 81397, \"Deaths\": 3265, \"Recovered\": 72362, \"Active\": 5770}, {\"Country\": \"China\", \"Date\": \"2020-03-23T00:00:00\", \"Confirmed\": 81496, \"Deaths\": 3274, \"Recovered\": 72819, \"Active\": 5403}, {\"Country\": \"China\", \"Date\": \"2020-03-24T00:00:00\", \"Confirmed\": 81591, \"Deaths\": 3281, \"Recovered\": 73274, \"Active\": 5036}, {\"Country\": \"China\", \"Date\": \"2020-03-25T00:00:00\", \"Confirmed\": 81661, \"Deaths\": 3285, \"Recovered\": 73767, \"Active\": 4609}, {\"Country\": \"China\", \"Date\": \"2020-03-26T00:00:00\", \"Confirmed\": 81782, \"Deaths\": 3291, \"Recovered\": 74175, \"Active\": 4316}, {\"Country\": \"China\", \"Date\": \"2020-03-27T00:00:00\", \"Confirmed\": 81897, \"Deaths\": 3296, \"Recovered\": 74714, \"Active\": 3887}, {\"Country\": \"China\", \"Date\": \"2020-03-28T00:00:00\", \"Confirmed\": 81999, \"Deaths\": 3299, \"Recovered\": 75094, \"Active\": 3606}, {\"Country\": \"China\", \"Date\": \"2020-03-29T00:00:00\", \"Confirmed\": 82122, \"Deaths\": 3304, \"Recovered\": 75576, \"Active\": 3242}, {\"Country\": \"China\", \"Date\": \"2020-03-30T00:00:00\", \"Confirmed\": 82198, \"Deaths\": 3308, \"Recovered\": 75917, \"Active\": 2973}, {\"Country\": \"China\", \"Date\": \"2020-03-31T00:00:00\", \"Confirmed\": 82279, \"Deaths\": 3309, \"Recovered\": 76200, \"Active\": 2770}, {\"Country\": \"China\", \"Date\": \"2020-04-01T00:00:00\", \"Confirmed\": 82361, \"Deaths\": 3316, \"Recovered\": 76399, \"Active\": 2646}, {\"Country\": \"China\", \"Date\": \"2020-04-02T00:00:00\", \"Confirmed\": 82432, \"Deaths\": 3322, \"Recovered\": 76565, \"Active\": 2545}, {\"Country\": \"China\", \"Date\": \"2020-04-03T00:00:00\", \"Confirmed\": 82511, \"Deaths\": 3326, \"Recovered\": 76760, \"Active\": 2425}, {\"Country\": \"China\", \"Date\": \"2020-04-04T00:00:00\", \"Confirmed\": 82543, \"Deaths\": 3330, \"Recovered\": 76946, \"Active\": 2267}, {\"Country\": \"China\", \"Date\": \"2020-04-05T00:00:00\", \"Confirmed\": 82602, \"Deaths\": 3333, \"Recovered\": 77207, \"Active\": 2062}, {\"Country\": \"China\", \"Date\": \"2020-04-06T00:00:00\", \"Confirmed\": 82665, \"Deaths\": 3335, \"Recovered\": 77310, \"Active\": 2020}, {\"Country\": \"China\", \"Date\": \"2020-04-07T00:00:00\", \"Confirmed\": 82718, \"Deaths\": 3335, \"Recovered\": 77410, \"Active\": 1973}, {\"Country\": \"China\", \"Date\": \"2020-04-08T00:00:00\", \"Confirmed\": 82809, \"Deaths\": 3337, \"Recovered\": 77567, \"Active\": 1905}, {\"Country\": \"China\", \"Date\": \"2020-04-09T00:00:00\", \"Confirmed\": 82883, \"Deaths\": 3339, \"Recovered\": 77679, \"Active\": 1865}, {\"Country\": \"China\", \"Date\": \"2020-04-10T00:00:00\", \"Confirmed\": 82941, \"Deaths\": 3340, \"Recovered\": 77791, \"Active\": 1810}, {\"Country\": \"China\", \"Date\": \"2020-04-11T00:00:00\", \"Confirmed\": 83014, \"Deaths\": 3343, \"Recovered\": 77877, \"Active\": 1794}, {\"Country\": \"China\", \"Date\": \"2020-04-12T00:00:00\", \"Confirmed\": 83134, \"Deaths\": 3343, \"Recovered\": 77956, \"Active\": 1835}, {\"Country\": \"China\", \"Date\": \"2020-04-13T00:00:00\", \"Confirmed\": 83213, \"Deaths\": 3345, \"Recovered\": 78039, \"Active\": 1829}, {\"Country\": \"China\", \"Date\": \"2020-04-14T00:00:00\", \"Confirmed\": 83306, \"Deaths\": 3345, \"Recovered\": 78200, \"Active\": 1761}, {\"Country\": \"China\", \"Date\": \"2020-04-15T00:00:00\", \"Confirmed\": 83356, \"Deaths\": 3346, \"Recovered\": 78311, \"Active\": 1699}, {\"Country\": \"China\", \"Date\": \"2020-04-16T00:00:00\", \"Confirmed\": 83403, \"Deaths\": 3346, \"Recovered\": 78401, \"Active\": 1656}, {\"Country\": \"China\", \"Date\": \"2020-04-17T00:00:00\", \"Confirmed\": 83760, \"Deaths\": 4636, \"Recovered\": 77552, \"Active\": 1572}, {\"Country\": \"France\", \"Date\": \"2020-01-24T00:00:00\", \"Confirmed\": 2, \"Deaths\": 0, \"Recovered\": 0, \"Active\": 2}, {\"Country\": \"France\", \"Date\": \"2020-01-25T00:00:00\", \"Confirmed\": 3, \"Deaths\": 0, \"Recovered\": 0, \"Active\": 3}, {\"Country\": \"France\", \"Date\": \"2020-01-26T00:00:00\", \"Confirmed\": 3, \"Deaths\": 0, \"Recovered\": 0, \"Active\": 3}, {\"Country\": \"France\", \"Date\": \"2020-01-27T00:00:00\", \"Confirmed\": 3, \"Deaths\": 0, \"Recovered\": 0, \"Active\": 3}, {\"Country\": \"France\", \"Date\": \"2020-01-28T00:00:00\", \"Confirmed\": 4, \"Deaths\": 0, \"Recovered\": 0, \"Active\": 4}, {\"Country\": \"France\", \"Date\": \"2020-01-29T00:00:00\", \"Confirmed\": 5, \"Deaths\": 0, \"Recovered\": 0, \"Active\": 5}, {\"Country\": \"France\", \"Date\": \"2020-01-30T00:00:00\", \"Confirmed\": 5, \"Deaths\": 0, \"Recovered\": 0, \"Active\": 5}, {\"Country\": \"France\", \"Date\": \"2020-01-31T00:00:00\", \"Confirmed\": 5, \"Deaths\": 0, \"Recovered\": 0, \"Active\": 5}, {\"Country\": \"France\", \"Date\": \"2020-02-01T00:00:00\", \"Confirmed\": 6, \"Deaths\": 0, \"Recovered\": 0, \"Active\": 6}, {\"Country\": \"France\", \"Date\": \"2020-02-02T00:00:00\", \"Confirmed\": 6, \"Deaths\": 0, \"Recovered\": 0, \"Active\": 6}, {\"Country\": \"France\", \"Date\": \"2020-02-03T00:00:00\", \"Confirmed\": 6, \"Deaths\": 0, \"Recovered\": 0, \"Active\": 6}, {\"Country\": \"France\", \"Date\": \"2020-02-04T00:00:00\", \"Confirmed\": 6, \"Deaths\": 0, \"Recovered\": 0, \"Active\": 6}, {\"Country\": \"France\", \"Date\": \"2020-02-05T00:00:00\", \"Confirmed\": 6, \"Deaths\": 0, \"Recovered\": 0, \"Active\": 6}, {\"Country\": \"France\", \"Date\": \"2020-02-06T00:00:00\", \"Confirmed\": 6, \"Deaths\": 0, \"Recovered\": 0, \"Active\": 6}, {\"Country\": \"France\", \"Date\": \"2020-02-07T00:00:00\", \"Confirmed\": 6, \"Deaths\": 0, \"Recovered\": 0, \"Active\": 6}, {\"Country\": \"France\", \"Date\": \"2020-02-08T00:00:00\", \"Confirmed\": 11, \"Deaths\": 0, \"Recovered\": 0, \"Active\": 11}, {\"Country\": \"France\", \"Date\": \"2020-02-09T00:00:00\", \"Confirmed\": 11, \"Deaths\": 0, \"Recovered\": 0, \"Active\": 11}, {\"Country\": \"France\", \"Date\": \"2020-02-10T00:00:00\", \"Confirmed\": 11, \"Deaths\": 0, \"Recovered\": 0, \"Active\": 11}, {\"Country\": \"France\", \"Date\": \"2020-02-11T00:00:00\", \"Confirmed\": 11, \"Deaths\": 0, \"Recovered\": 0, \"Active\": 11}, {\"Country\": \"France\", \"Date\": \"2020-02-12T00:00:00\", \"Confirmed\": 11, \"Deaths\": 0, \"Recovered\": 2, \"Active\": 9}, {\"Country\": \"France\", \"Date\": \"2020-02-13T00:00:00\", \"Confirmed\": 11, \"Deaths\": 0, \"Recovered\": 2, \"Active\": 9}, {\"Country\": \"France\", \"Date\": \"2020-02-14T00:00:00\", \"Confirmed\": 11, \"Deaths\": 0, \"Recovered\": 2, \"Active\": 9}, {\"Country\": \"France\", \"Date\": \"2020-02-15T00:00:00\", \"Confirmed\": 12, \"Deaths\": 1, \"Recovered\": 4, \"Active\": 7}, {\"Country\": \"France\", \"Date\": \"2020-02-16T00:00:00\", \"Confirmed\": 12, \"Deaths\": 1, \"Recovered\": 4, \"Active\": 7}, {\"Country\": \"France\", \"Date\": \"2020-02-17T00:00:00\", \"Confirmed\": 12, \"Deaths\": 1, \"Recovered\": 4, \"Active\": 7}, {\"Country\": \"France\", \"Date\": \"2020-02-18T00:00:00\", \"Confirmed\": 12, \"Deaths\": 1, \"Recovered\": 4, \"Active\": 7}, {\"Country\": \"France\", \"Date\": \"2020-02-19T00:00:00\", \"Confirmed\": 12, \"Deaths\": 1, \"Recovered\": 4, \"Active\": 7}, {\"Country\": \"France\", \"Date\": \"2020-02-20T00:00:00\", \"Confirmed\": 12, \"Deaths\": 1, \"Recovered\": 4, \"Active\": 7}, {\"Country\": \"France\", \"Date\": \"2020-02-21T00:00:00\", \"Confirmed\": 12, \"Deaths\": 1, \"Recovered\": 4, \"Active\": 7}, {\"Country\": \"France\", \"Date\": \"2020-02-22T00:00:00\", \"Confirmed\": 12, \"Deaths\": 1, \"Recovered\": 4, \"Active\": 7}, {\"Country\": \"France\", \"Date\": \"2020-02-23T00:00:00\", \"Confirmed\": 12, \"Deaths\": 1, \"Recovered\": 4, \"Active\": 7}, {\"Country\": \"France\", \"Date\": \"2020-02-24T00:00:00\", \"Confirmed\": 12, \"Deaths\": 1, \"Recovered\": 4, \"Active\": 7}, {\"Country\": \"France\", \"Date\": \"2020-02-25T00:00:00\", \"Confirmed\": 14, \"Deaths\": 1, \"Recovered\": 11, \"Active\": 2}, {\"Country\": \"France\", \"Date\": \"2020-02-26T00:00:00\", \"Confirmed\": 18, \"Deaths\": 2, \"Recovered\": 11, \"Active\": 5}, {\"Country\": \"France\", \"Date\": \"2020-02-27T00:00:00\", \"Confirmed\": 38, \"Deaths\": 2, \"Recovered\": 11, \"Active\": 25}, {\"Country\": \"France\", \"Date\": \"2020-02-28T00:00:00\", \"Confirmed\": 57, \"Deaths\": 2, \"Recovered\": 11, \"Active\": 44}, {\"Country\": \"France\", \"Date\": \"2020-02-29T00:00:00\", \"Confirmed\": 100, \"Deaths\": 2, \"Recovered\": 12, \"Active\": 86}, {\"Country\": \"France\", \"Date\": \"2020-03-01T00:00:00\", \"Confirmed\": 130, \"Deaths\": 2, \"Recovered\": 12, \"Active\": 116}, {\"Country\": \"France\", \"Date\": \"2020-03-02T00:00:00\", \"Confirmed\": 191, \"Deaths\": 3, \"Recovered\": 12, \"Active\": 176}, {\"Country\": \"France\", \"Date\": \"2020-03-03T00:00:00\", \"Confirmed\": 204, \"Deaths\": 4, \"Recovered\": 12, \"Active\": 188}, {\"Country\": \"France\", \"Date\": \"2020-03-04T00:00:00\", \"Confirmed\": 285, \"Deaths\": 4, \"Recovered\": 12, \"Active\": 269}, {\"Country\": \"France\", \"Date\": \"2020-03-05T00:00:00\", \"Confirmed\": 377, \"Deaths\": 6, \"Recovered\": 12, \"Active\": 359}, {\"Country\": \"France\", \"Date\": \"2020-03-06T00:00:00\", \"Confirmed\": 653, \"Deaths\": 9, \"Recovered\": 12, \"Active\": 632}, {\"Country\": \"France\", \"Date\": \"2020-03-07T00:00:00\", \"Confirmed\": 949, \"Deaths\": 11, \"Recovered\": 12, \"Active\": 926}, {\"Country\": \"France\", \"Date\": \"2020-03-08T00:00:00\", \"Confirmed\": 1126, \"Deaths\": 19, \"Recovered\": 12, \"Active\": 1095}, {\"Country\": \"France\", \"Date\": \"2020-03-09T00:00:00\", \"Confirmed\": 1209, \"Deaths\": 19, \"Recovered\": 12, \"Active\": 1178}, {\"Country\": \"France\", \"Date\": \"2020-03-10T00:00:00\", \"Confirmed\": 1784, \"Deaths\": 33, \"Recovered\": 12, \"Active\": 1739}, {\"Country\": \"France\", \"Date\": \"2020-03-11T00:00:00\", \"Confirmed\": 2284, \"Deaths\": 48, \"Recovered\": 12, \"Active\": 2224}, {\"Country\": \"France\", \"Date\": \"2020-03-12T00:00:00\", \"Confirmed\": 2284, \"Deaths\": 48, \"Recovered\": 12, \"Active\": 2224}, {\"Country\": \"France\", \"Date\": \"2020-03-13T00:00:00\", \"Confirmed\": 3667, \"Deaths\": 79, \"Recovered\": 12, \"Active\": 3576}, {\"Country\": \"France\", \"Date\": \"2020-03-14T00:00:00\", \"Confirmed\": 4480, \"Deaths\": 91, \"Recovered\": 12, \"Active\": 4377}, {\"Country\": \"France\", \"Date\": \"2020-03-15T00:00:00\", \"Confirmed\": 4513, \"Deaths\": 91, \"Recovered\": 12, \"Active\": 4410}, {\"Country\": \"France\", \"Date\": \"2020-03-16T00:00:00\", \"Confirmed\": 6650, \"Deaths\": 148, \"Recovered\": 12, \"Active\": 6490}, {\"Country\": \"France\", \"Date\": \"2020-03-17T00:00:00\", \"Confirmed\": 7683, \"Deaths\": 148, \"Recovered\": 12, \"Active\": 7523}, {\"Country\": \"France\", \"Date\": \"2020-03-18T00:00:00\", \"Confirmed\": 9052, \"Deaths\": 148, \"Recovered\": 12, \"Active\": 8892}, {\"Country\": \"France\", \"Date\": \"2020-03-19T00:00:00\", \"Confirmed\": 10886, \"Deaths\": 243, \"Recovered\": 12, \"Active\": 10631}, {\"Country\": \"France\", \"Date\": \"2020-03-20T00:00:00\", \"Confirmed\": 12632, \"Deaths\": 450, \"Recovered\": 12, \"Active\": 12170}, {\"Country\": \"France\", \"Date\": \"2020-03-21T00:00:00\", \"Confirmed\": 14308, \"Deaths\": 562, \"Recovered\": 12, \"Active\": 13734}, {\"Country\": \"France\", \"Date\": \"2020-03-22T00:00:00\", \"Confirmed\": 16214, \"Deaths\": 676, \"Recovered\": 2201, \"Active\": 13337}, {\"Country\": \"France\", \"Date\": \"2020-03-23T00:00:00\", \"Confirmed\": 20123, \"Deaths\": 862, \"Recovered\": 2207, \"Active\": 17054}, {\"Country\": \"France\", \"Date\": \"2020-03-24T00:00:00\", \"Confirmed\": 22622, \"Deaths\": 1102, \"Recovered\": 3288, \"Active\": 18232}, {\"Country\": \"France\", \"Date\": \"2020-03-25T00:00:00\", \"Confirmed\": 25600, \"Deaths\": 1333, \"Recovered\": 3907, \"Active\": 20360}, {\"Country\": \"France\", \"Date\": \"2020-03-26T00:00:00\", \"Confirmed\": 29551, \"Deaths\": 1698, \"Recovered\": 4955, \"Active\": 22898}, {\"Country\": \"France\", \"Date\": \"2020-03-27T00:00:00\", \"Confirmed\": 33402, \"Deaths\": 1997, \"Recovered\": 5707, \"Active\": 25698}, {\"Country\": \"France\", \"Date\": \"2020-03-28T00:00:00\", \"Confirmed\": 38105, \"Deaths\": 2317, \"Recovered\": 5724, \"Active\": 30064}, {\"Country\": \"France\", \"Date\": \"2020-03-29T00:00:00\", \"Confirmed\": 40708, \"Deaths\": 2611, \"Recovered\": 7226, \"Active\": 30871}, {\"Country\": \"France\", \"Date\": \"2020-03-30T00:00:00\", \"Confirmed\": 45170, \"Deaths\": 3030, \"Recovered\": 7964, \"Active\": 34176}, {\"Country\": \"France\", \"Date\": \"2020-03-31T00:00:00\", \"Confirmed\": 52827, \"Deaths\": 3532, \"Recovered\": 9513, \"Active\": 39782}, {\"Country\": \"France\", \"Date\": \"2020-04-01T00:00:00\", \"Confirmed\": 57749, \"Deaths\": 4043, \"Recovered\": 11053, \"Active\": 42653}, {\"Country\": \"France\", \"Date\": \"2020-04-02T00:00:00\", \"Confirmed\": 59929, \"Deaths\": 5398, \"Recovered\": 12548, \"Active\": 41983}, {\"Country\": \"France\", \"Date\": \"2020-04-03T00:00:00\", \"Confirmed\": 65202, \"Deaths\": 6520, \"Recovered\": 14135, \"Active\": 44547}, {\"Country\": \"France\", \"Date\": \"2020-04-04T00:00:00\", \"Confirmed\": 90848, \"Deaths\": 7574, \"Recovered\": 15572, \"Active\": 67702}, {\"Country\": \"France\", \"Date\": \"2020-04-05T00:00:00\", \"Confirmed\": 93773, \"Deaths\": 8093, \"Recovered\": 16349, \"Active\": 69331}, {\"Country\": \"France\", \"Date\": \"2020-04-06T00:00:00\", \"Confirmed\": 98963, \"Deaths\": 8926, \"Recovered\": 17428, \"Active\": 72609}, {\"Country\": \"France\", \"Date\": \"2020-04-07T00:00:00\", \"Confirmed\": 110065, \"Deaths\": 10343, \"Recovered\": 19523, \"Active\": 80199}, {\"Country\": \"France\", \"Date\": \"2020-04-08T00:00:00\", \"Confirmed\": 113959, \"Deaths\": 10887, \"Recovered\": 21452, \"Active\": 81620}, {\"Country\": \"France\", \"Date\": \"2020-04-09T00:00:00\", \"Confirmed\": 118781, \"Deaths\": 12228, \"Recovered\": 23413, \"Active\": 83140}, {\"Country\": \"France\", \"Date\": \"2020-04-10T00:00:00\", \"Confirmed\": 125931, \"Deaths\": 13215, \"Recovered\": 25195, \"Active\": 87521}, {\"Country\": \"France\", \"Date\": \"2020-04-11T00:00:00\", \"Confirmed\": 130727, \"Deaths\": 13851, \"Recovered\": 26663, \"Active\": 90213}, {\"Country\": \"France\", \"Date\": \"2020-04-12T00:00:00\", \"Confirmed\": 133670, \"Deaths\": 14412, \"Recovered\": 27469, \"Active\": 91789}, {\"Country\": \"France\", \"Date\": \"2020-04-13T00:00:00\", \"Confirmed\": 137875, \"Deaths\": 14986, \"Recovered\": 28001, \"Active\": 94888}, {\"Country\": \"France\", \"Date\": \"2020-04-14T00:00:00\", \"Confirmed\": 131361, \"Deaths\": 15748, \"Recovered\": 29098, \"Active\": 86515}, {\"Country\": \"France\", \"Date\": \"2020-04-15T00:00:00\", \"Confirmed\": 134582, \"Deaths\": 17188, \"Recovered\": 31470, \"Active\": 85924}, {\"Country\": \"France\", \"Date\": \"2020-04-16T00:00:00\", \"Confirmed\": 147091, \"Deaths\": 17941, \"Recovered\": 33327, \"Active\": 95823}, {\"Country\": \"France\", \"Date\": \"2020-04-17T00:00:00\", \"Confirmed\": 149130, \"Deaths\": 18703, \"Recovered\": 35006, \"Active\": 95421}, {\"Country\": \"Germany\", \"Date\": \"2020-01-28T00:00:00\", \"Confirmed\": 4, \"Deaths\": 0, \"Recovered\": 0, \"Active\": 4}, {\"Country\": \"Germany\", \"Date\": \"2020-01-29T00:00:00\", \"Confirmed\": 4, \"Deaths\": 0, \"Recovered\": 0, \"Active\": 4}, {\"Country\": \"Germany\", \"Date\": \"2020-01-30T00:00:00\", \"Confirmed\": 4, \"Deaths\": 0, \"Recovered\": 0, \"Active\": 4}, {\"Country\": \"Germany\", \"Date\": \"2020-01-31T00:00:00\", \"Confirmed\": 5, \"Deaths\": 0, \"Recovered\": 0, \"Active\": 5}, {\"Country\": \"Germany\", \"Date\": \"2020-02-01T00:00:00\", \"Confirmed\": 8, \"Deaths\": 0, \"Recovered\": 0, \"Active\": 8}, {\"Country\": \"Germany\", \"Date\": \"2020-02-02T00:00:00\", \"Confirmed\": 10, \"Deaths\": 0, \"Recovered\": 0, \"Active\": 10}, {\"Country\": \"Germany\", \"Date\": \"2020-02-03T00:00:00\", \"Confirmed\": 12, \"Deaths\": 0, \"Recovered\": 0, \"Active\": 12}, {\"Country\": \"Germany\", \"Date\": \"2020-02-04T00:00:00\", \"Confirmed\": 12, \"Deaths\": 0, \"Recovered\": 0, \"Active\": 12}, {\"Country\": \"Germany\", \"Date\": \"2020-02-05T00:00:00\", \"Confirmed\": 12, \"Deaths\": 0, \"Recovered\": 0, \"Active\": 12}, {\"Country\": \"Germany\", \"Date\": \"2020-02-06T00:00:00\", \"Confirmed\": 12, \"Deaths\": 0, \"Recovered\": 0, \"Active\": 12}, {\"Country\": \"Germany\", \"Date\": \"2020-02-07T00:00:00\", \"Confirmed\": 13, \"Deaths\": 0, \"Recovered\": 0, \"Active\": 13}, {\"Country\": \"Germany\", \"Date\": \"2020-02-08T00:00:00\", \"Confirmed\": 13, \"Deaths\": 0, \"Recovered\": 0, \"Active\": 13}, {\"Country\": \"Germany\", \"Date\": \"2020-02-09T00:00:00\", \"Confirmed\": 14, \"Deaths\": 0, \"Recovered\": 0, \"Active\": 14}, {\"Country\": \"Germany\", \"Date\": \"2020-02-10T00:00:00\", \"Confirmed\": 14, \"Deaths\": 0, \"Recovered\": 0, \"Active\": 14}, {\"Country\": \"Germany\", \"Date\": \"2020-02-11T00:00:00\", \"Confirmed\": 16, \"Deaths\": 0, \"Recovered\": 0, \"Active\": 16}, {\"Country\": \"Germany\", \"Date\": \"2020-02-12T00:00:00\", \"Confirmed\": 16, \"Deaths\": 0, \"Recovered\": 0, \"Active\": 16}, {\"Country\": \"Germany\", \"Date\": \"2020-02-13T00:00:00\", \"Confirmed\": 16, \"Deaths\": 0, \"Recovered\": 1, \"Active\": 15}, {\"Country\": \"Germany\", \"Date\": \"2020-02-14T00:00:00\", \"Confirmed\": 16, \"Deaths\": 0, \"Recovered\": 1, \"Active\": 15}, {\"Country\": \"Germany\", \"Date\": \"2020-02-15T00:00:00\", \"Confirmed\": 16, \"Deaths\": 0, \"Recovered\": 1, \"Active\": 15}, {\"Country\": \"Germany\", \"Date\": \"2020-02-16T00:00:00\", \"Confirmed\": 16, \"Deaths\": 0, \"Recovered\": 1, \"Active\": 15}, {\"Country\": \"Germany\", \"Date\": \"2020-02-17T00:00:00\", \"Confirmed\": 16, \"Deaths\": 0, \"Recovered\": 1, \"Active\": 15}, {\"Country\": \"Germany\", \"Date\": \"2020-02-18T00:00:00\", \"Confirmed\": 16, \"Deaths\": 0, \"Recovered\": 12, \"Active\": 4}, {\"Country\": \"Germany\", \"Date\": \"2020-02-19T00:00:00\", \"Confirmed\": 16, \"Deaths\": 0, \"Recovered\": 12, \"Active\": 4}, {\"Country\": \"Germany\", \"Date\": \"2020-02-20T00:00:00\", \"Confirmed\": 16, \"Deaths\": 0, \"Recovered\": 12, \"Active\": 4}, {\"Country\": \"Germany\", \"Date\": \"2020-02-21T00:00:00\", \"Confirmed\": 16, \"Deaths\": 0, \"Recovered\": 14, \"Active\": 2}, {\"Country\": \"Germany\", \"Date\": \"2020-02-22T00:00:00\", \"Confirmed\": 16, \"Deaths\": 0, \"Recovered\": 14, \"Active\": 2}, {\"Country\": \"Germany\", \"Date\": \"2020-02-23T00:00:00\", \"Confirmed\": 16, \"Deaths\": 0, \"Recovered\": 14, \"Active\": 2}, {\"Country\": \"Germany\", \"Date\": \"2020-02-24T00:00:00\", \"Confirmed\": 16, \"Deaths\": 0, \"Recovered\": 14, \"Active\": 2}, {\"Country\": \"Germany\", \"Date\": \"2020-02-25T00:00:00\", \"Confirmed\": 17, \"Deaths\": 0, \"Recovered\": 14, \"Active\": 3}, {\"Country\": \"Germany\", \"Date\": \"2020-02-26T00:00:00\", \"Confirmed\": 27, \"Deaths\": 0, \"Recovered\": 15, \"Active\": 12}, {\"Country\": \"Germany\", \"Date\": \"2020-02-27T00:00:00\", \"Confirmed\": 46, \"Deaths\": 0, \"Recovered\": 16, \"Active\": 30}, {\"Country\": \"Germany\", \"Date\": \"2020-02-28T00:00:00\", \"Confirmed\": 48, \"Deaths\": 0, \"Recovered\": 16, \"Active\": 32}, {\"Country\": \"Germany\", \"Date\": \"2020-02-29T00:00:00\", \"Confirmed\": 79, \"Deaths\": 0, \"Recovered\": 16, \"Active\": 63}, {\"Country\": \"Germany\", \"Date\": \"2020-03-01T00:00:00\", \"Confirmed\": 130, \"Deaths\": 0, \"Recovered\": 16, \"Active\": 114}, {\"Country\": \"Germany\", \"Date\": \"2020-03-02T00:00:00\", \"Confirmed\": 159, \"Deaths\": 0, \"Recovered\": 16, \"Active\": 143}, {\"Country\": \"Germany\", \"Date\": \"2020-03-03T00:00:00\", \"Confirmed\": 196, \"Deaths\": 0, \"Recovered\": 16, \"Active\": 180}, {\"Country\": \"Germany\", \"Date\": \"2020-03-04T00:00:00\", \"Confirmed\": 262, \"Deaths\": 0, \"Recovered\": 16, \"Active\": 246}, {\"Country\": \"Germany\", \"Date\": \"2020-03-05T00:00:00\", \"Confirmed\": 482, \"Deaths\": 0, \"Recovered\": 16, \"Active\": 466}, {\"Country\": \"Germany\", \"Date\": \"2020-03-06T00:00:00\", \"Confirmed\": 670, \"Deaths\": 0, \"Recovered\": 17, \"Active\": 653}, {\"Country\": \"Germany\", \"Date\": \"2020-03-07T00:00:00\", \"Confirmed\": 799, \"Deaths\": 0, \"Recovered\": 18, \"Active\": 781}, {\"Country\": \"Germany\", \"Date\": \"2020-03-08T00:00:00\", \"Confirmed\": 1040, \"Deaths\": 0, \"Recovered\": 18, \"Active\": 1022}, {\"Country\": \"Germany\", \"Date\": \"2020-03-09T00:00:00\", \"Confirmed\": 1176, \"Deaths\": 2, \"Recovered\": 18, \"Active\": 1156}, {\"Country\": \"Germany\", \"Date\": \"2020-03-10T00:00:00\", \"Confirmed\": 1457, \"Deaths\": 2, \"Recovered\": 18, \"Active\": 1437}, {\"Country\": \"Germany\", \"Date\": \"2020-03-11T00:00:00\", \"Confirmed\": 1908, \"Deaths\": 3, \"Recovered\": 25, \"Active\": 1880}, {\"Country\": \"Germany\", \"Date\": \"2020-03-12T00:00:00\", \"Confirmed\": 2078, \"Deaths\": 3, \"Recovered\": 25, \"Active\": 2050}, {\"Country\": \"Germany\", \"Date\": \"2020-03-13T00:00:00\", \"Confirmed\": 3675, \"Deaths\": 7, \"Recovered\": 46, \"Active\": 3622}, {\"Country\": \"Germany\", \"Date\": \"2020-03-14T00:00:00\", \"Confirmed\": 4585, \"Deaths\": 9, \"Recovered\": 46, \"Active\": 4530}, {\"Country\": \"Germany\", \"Date\": \"2020-03-15T00:00:00\", \"Confirmed\": 5795, \"Deaths\": 11, \"Recovered\": 46, \"Active\": 5738}, {\"Country\": \"Germany\", \"Date\": \"2020-03-16T00:00:00\", \"Confirmed\": 7272, \"Deaths\": 17, \"Recovered\": 67, \"Active\": 7188}, {\"Country\": \"Germany\", \"Date\": \"2020-03-17T00:00:00\", \"Confirmed\": 9257, \"Deaths\": 24, \"Recovered\": 67, \"Active\": 9166}, {\"Country\": \"Germany\", \"Date\": \"2020-03-18T00:00:00\", \"Confirmed\": 12327, \"Deaths\": 28, \"Recovered\": 105, \"Active\": 12194}, {\"Country\": \"Germany\", \"Date\": \"2020-03-19T00:00:00\", \"Confirmed\": 15320, \"Deaths\": 44, \"Recovered\": 113, \"Active\": 15163}, {\"Country\": \"Germany\", \"Date\": \"2020-03-20T00:00:00\", \"Confirmed\": 19848, \"Deaths\": 67, \"Recovered\": 180, \"Active\": 19601}, {\"Country\": \"Germany\", \"Date\": \"2020-03-21T00:00:00\", \"Confirmed\": 22213, \"Deaths\": 84, \"Recovered\": 233, \"Active\": 21896}, {\"Country\": \"Germany\", \"Date\": \"2020-03-22T00:00:00\", \"Confirmed\": 24873, \"Deaths\": 94, \"Recovered\": 266, \"Active\": 24513}, {\"Country\": \"Germany\", \"Date\": \"2020-03-23T00:00:00\", \"Confirmed\": 29056, \"Deaths\": 123, \"Recovered\": 453, \"Active\": 28480}, {\"Country\": \"Germany\", \"Date\": \"2020-03-24T00:00:00\", \"Confirmed\": 32986, \"Deaths\": 157, \"Recovered\": 3243, \"Active\": 29586}, {\"Country\": \"Germany\", \"Date\": \"2020-03-25T00:00:00\", \"Confirmed\": 37323, \"Deaths\": 206, \"Recovered\": 3547, \"Active\": 33570}, {\"Country\": \"Germany\", \"Date\": \"2020-03-26T00:00:00\", \"Confirmed\": 43938, \"Deaths\": 267, \"Recovered\": 5673, \"Active\": 37998}, {\"Country\": \"Germany\", \"Date\": \"2020-03-27T00:00:00\", \"Confirmed\": 50871, \"Deaths\": 342, \"Recovered\": 6658, \"Active\": 43871}, {\"Country\": \"Germany\", \"Date\": \"2020-03-28T00:00:00\", \"Confirmed\": 57695, \"Deaths\": 433, \"Recovered\": 8481, \"Active\": 48781}, {\"Country\": \"Germany\", \"Date\": \"2020-03-29T00:00:00\", \"Confirmed\": 62095, \"Deaths\": 533, \"Recovered\": 9211, \"Active\": 52351}, {\"Country\": \"Germany\", \"Date\": \"2020-03-30T00:00:00\", \"Confirmed\": 66885, \"Deaths\": 645, \"Recovered\": 13500, \"Active\": 52740}, {\"Country\": \"Germany\", \"Date\": \"2020-03-31T00:00:00\", \"Confirmed\": 71808, \"Deaths\": 775, \"Recovered\": 16100, \"Active\": 54933}, {\"Country\": \"Germany\", \"Date\": \"2020-04-01T00:00:00\", \"Confirmed\": 77872, \"Deaths\": 920, \"Recovered\": 18700, \"Active\": 58252}, {\"Country\": \"Germany\", \"Date\": \"2020-04-02T00:00:00\", \"Confirmed\": 84794, \"Deaths\": 1107, \"Recovered\": 22440, \"Active\": 61247}, {\"Country\": \"Germany\", \"Date\": \"2020-04-03T00:00:00\", \"Confirmed\": 91159, \"Deaths\": 1275, \"Recovered\": 24575, \"Active\": 65309}, {\"Country\": \"Germany\", \"Date\": \"2020-04-04T00:00:00\", \"Confirmed\": 96092, \"Deaths\": 1444, \"Recovered\": 26400, \"Active\": 68248}, {\"Country\": \"Germany\", \"Date\": \"2020-04-05T00:00:00\", \"Confirmed\": 100123, \"Deaths\": 1584, \"Recovered\": 28700, \"Active\": 69839}, {\"Country\": \"Germany\", \"Date\": \"2020-04-06T00:00:00\", \"Confirmed\": 103374, \"Deaths\": 1810, \"Recovered\": 28700, \"Active\": 72864}, {\"Country\": \"Germany\", \"Date\": \"2020-04-07T00:00:00\", \"Confirmed\": 107663, \"Deaths\": 2016, \"Recovered\": 36081, \"Active\": 69566}, {\"Country\": \"Germany\", \"Date\": \"2020-04-08T00:00:00\", \"Confirmed\": 113296, \"Deaths\": 2349, \"Recovered\": 46300, \"Active\": 64647}, {\"Country\": \"Germany\", \"Date\": \"2020-04-09T00:00:00\", \"Confirmed\": 118181, \"Deaths\": 2607, \"Recovered\": 52407, \"Active\": 63167}, {\"Country\": \"Germany\", \"Date\": \"2020-04-10T00:00:00\", \"Confirmed\": 122171, \"Deaths\": 2767, \"Recovered\": 53913, \"Active\": 65491}, {\"Country\": \"Germany\", \"Date\": \"2020-04-11T00:00:00\", \"Confirmed\": 124908, \"Deaths\": 2736, \"Recovered\": 57400, \"Active\": 64772}, {\"Country\": \"Germany\", \"Date\": \"2020-04-12T00:00:00\", \"Confirmed\": 127854, \"Deaths\": 3022, \"Recovered\": 60300, \"Active\": 64532}, {\"Country\": \"Germany\", \"Date\": \"2020-04-13T00:00:00\", \"Confirmed\": 130072, \"Deaths\": 3194, \"Recovered\": 64300, \"Active\": 62578}, {\"Country\": \"Germany\", \"Date\": \"2020-04-14T00:00:00\", \"Confirmed\": 131359, \"Deaths\": 3294, \"Recovered\": 68200, \"Active\": 59865}, {\"Country\": \"Germany\", \"Date\": \"2020-04-15T00:00:00\", \"Confirmed\": 134753, \"Deaths\": 3804, \"Recovered\": 72600, \"Active\": 58349}, {\"Country\": \"Germany\", \"Date\": \"2020-04-16T00:00:00\", \"Confirmed\": 137698, \"Deaths\": 4052, \"Recovered\": 77000, \"Active\": 56646}, {\"Country\": \"Germany\", \"Date\": \"2020-04-17T00:00:00\", \"Confirmed\": 141397, \"Deaths\": 4352, \"Recovered\": 83114, \"Active\": 53931}, {\"Country\": \"Iran\", \"Date\": \"2020-02-19T00:00:00\", \"Confirmed\": 2, \"Deaths\": 2, \"Recovered\": 0, \"Active\": 0}, {\"Country\": \"Iran\", \"Date\": \"2020-02-20T00:00:00\", \"Confirmed\": 5, \"Deaths\": 2, \"Recovered\": 0, \"Active\": 3}, {\"Country\": \"Iran\", \"Date\": \"2020-02-21T00:00:00\", \"Confirmed\": 18, \"Deaths\": 4, \"Recovered\": 0, \"Active\": 14}, {\"Country\": \"Iran\", \"Date\": \"2020-02-22T00:00:00\", \"Confirmed\": 28, \"Deaths\": 5, \"Recovered\": 0, \"Active\": 23}, {\"Country\": \"Iran\", \"Date\": \"2020-02-23T00:00:00\", \"Confirmed\": 43, \"Deaths\": 8, \"Recovered\": 0, \"Active\": 35}, {\"Country\": \"Iran\", \"Date\": \"2020-02-24T00:00:00\", \"Confirmed\": 61, \"Deaths\": 12, \"Recovered\": 0, \"Active\": 49}, {\"Country\": \"Iran\", \"Date\": \"2020-02-25T00:00:00\", \"Confirmed\": 95, \"Deaths\": 16, \"Recovered\": 0, \"Active\": 79}, {\"Country\": \"Iran\", \"Date\": \"2020-02-26T00:00:00\", \"Confirmed\": 139, \"Deaths\": 19, \"Recovered\": 49, \"Active\": 71}, {\"Country\": \"Iran\", \"Date\": \"2020-02-27T00:00:00\", \"Confirmed\": 245, \"Deaths\": 26, \"Recovered\": 49, \"Active\": 170}, {\"Country\": \"Iran\", \"Date\": \"2020-02-28T00:00:00\", \"Confirmed\": 388, \"Deaths\": 34, \"Recovered\": 73, \"Active\": 281}, {\"Country\": \"Iran\", \"Date\": \"2020-02-29T00:00:00\", \"Confirmed\": 593, \"Deaths\": 43, \"Recovered\": 123, \"Active\": 427}, {\"Country\": \"Iran\", \"Date\": \"2020-03-01T00:00:00\", \"Confirmed\": 978, \"Deaths\": 54, \"Recovered\": 175, \"Active\": 749}, {\"Country\": \"Iran\", \"Date\": \"2020-03-02T00:00:00\", \"Confirmed\": 1501, \"Deaths\": 66, \"Recovered\": 291, \"Active\": 1144}, {\"Country\": \"Iran\", \"Date\": \"2020-03-03T00:00:00\", \"Confirmed\": 2336, \"Deaths\": 77, \"Recovered\": 291, \"Active\": 1968}, {\"Country\": \"Iran\", \"Date\": \"2020-03-04T00:00:00\", \"Confirmed\": 2922, \"Deaths\": 92, \"Recovered\": 552, \"Active\": 2278}, {\"Country\": \"Iran\", \"Date\": \"2020-03-05T00:00:00\", \"Confirmed\": 3513, \"Deaths\": 107, \"Recovered\": 739, \"Active\": 2667}, {\"Country\": \"Iran\", \"Date\": \"2020-03-06T00:00:00\", \"Confirmed\": 4747, \"Deaths\": 124, \"Recovered\": 913, \"Active\": 3710}, {\"Country\": \"Iran\", \"Date\": \"2020-03-07T00:00:00\", \"Confirmed\": 5823, \"Deaths\": 145, \"Recovered\": 1669, \"Active\": 4009}, {\"Country\": \"Iran\", \"Date\": \"2020-03-08T00:00:00\", \"Confirmed\": 6566, \"Deaths\": 194, \"Recovered\": 2134, \"Active\": 4238}, {\"Country\": \"Iran\", \"Date\": \"2020-03-09T00:00:00\", \"Confirmed\": 7161, \"Deaths\": 237, \"Recovered\": 2394, \"Active\": 4530}, {\"Country\": \"Iran\", \"Date\": \"2020-03-10T00:00:00\", \"Confirmed\": 8042, \"Deaths\": 291, \"Recovered\": 2731, \"Active\": 5020}, {\"Country\": \"Iran\", \"Date\": \"2020-03-11T00:00:00\", \"Confirmed\": 9000, \"Deaths\": 354, \"Recovered\": 2959, \"Active\": 5687}, {\"Country\": \"Iran\", \"Date\": \"2020-03-12T00:00:00\", \"Confirmed\": 10075, \"Deaths\": 429, \"Recovered\": 2959, \"Active\": 6687}, {\"Country\": \"Iran\", \"Date\": \"2020-03-13T00:00:00\", \"Confirmed\": 11364, \"Deaths\": 514, \"Recovered\": 2959, \"Active\": 7891}, {\"Country\": \"Iran\", \"Date\": \"2020-03-14T00:00:00\", \"Confirmed\": 12729, \"Deaths\": 611, \"Recovered\": 2959, \"Active\": 9159}, {\"Country\": \"Iran\", \"Date\": \"2020-03-15T00:00:00\", \"Confirmed\": 13938, \"Deaths\": 724, \"Recovered\": 4590, \"Active\": 8624}, {\"Country\": \"Iran\", \"Date\": \"2020-03-16T00:00:00\", \"Confirmed\": 14991, \"Deaths\": 853, \"Recovered\": 4590, \"Active\": 9548}, {\"Country\": \"Iran\", \"Date\": \"2020-03-17T00:00:00\", \"Confirmed\": 16169, \"Deaths\": 988, \"Recovered\": 5389, \"Active\": 9792}, {\"Country\": \"Iran\", \"Date\": \"2020-03-18T00:00:00\", \"Confirmed\": 17361, \"Deaths\": 1135, \"Recovered\": 5389, \"Active\": 10837}, {\"Country\": \"Iran\", \"Date\": \"2020-03-19T00:00:00\", \"Confirmed\": 18407, \"Deaths\": 1284, \"Recovered\": 5710, \"Active\": 11413}, {\"Country\": \"Iran\", \"Date\": \"2020-03-20T00:00:00\", \"Confirmed\": 19644, \"Deaths\": 1433, \"Recovered\": 6745, \"Active\": 11466}, {\"Country\": \"Iran\", \"Date\": \"2020-03-21T00:00:00\", \"Confirmed\": 20610, \"Deaths\": 1556, \"Recovered\": 7635, \"Active\": 11419}, {\"Country\": \"Iran\", \"Date\": \"2020-03-22T00:00:00\", \"Confirmed\": 21638, \"Deaths\": 1685, \"Recovered\": 7635, \"Active\": 12318}, {\"Country\": \"Iran\", \"Date\": \"2020-03-23T00:00:00\", \"Confirmed\": 23049, \"Deaths\": 1812, \"Recovered\": 8376, \"Active\": 12861}, {\"Country\": \"Iran\", \"Date\": \"2020-03-24T00:00:00\", \"Confirmed\": 24811, \"Deaths\": 1934, \"Recovered\": 8913, \"Active\": 13964}, {\"Country\": \"Iran\", \"Date\": \"2020-03-25T00:00:00\", \"Confirmed\": 27017, \"Deaths\": 2077, \"Recovered\": 9625, \"Active\": 15315}, {\"Country\": \"Iran\", \"Date\": \"2020-03-26T00:00:00\", \"Confirmed\": 29406, \"Deaths\": 2234, \"Recovered\": 10457, \"Active\": 16715}, {\"Country\": \"Iran\", \"Date\": \"2020-03-27T00:00:00\", \"Confirmed\": 32332, \"Deaths\": 2378, \"Recovered\": 11133, \"Active\": 18821}, {\"Country\": \"Iran\", \"Date\": \"2020-03-28T00:00:00\", \"Confirmed\": 35408, \"Deaths\": 2517, \"Recovered\": 11679, \"Active\": 21212}, {\"Country\": \"Iran\", \"Date\": \"2020-03-29T00:00:00\", \"Confirmed\": 38309, \"Deaths\": 2640, \"Recovered\": 12391, \"Active\": 23278}, {\"Country\": \"Iran\", \"Date\": \"2020-03-30T00:00:00\", \"Confirmed\": 41495, \"Deaths\": 2757, \"Recovered\": 13911, \"Active\": 24827}, {\"Country\": \"Iran\", \"Date\": \"2020-03-31T00:00:00\", \"Confirmed\": 44605, \"Deaths\": 2898, \"Recovered\": 14656, \"Active\": 27051}, {\"Country\": \"Iran\", \"Date\": \"2020-04-01T00:00:00\", \"Confirmed\": 47593, \"Deaths\": 3036, \"Recovered\": 15473, \"Active\": 29084}, {\"Country\": \"Iran\", \"Date\": \"2020-04-02T00:00:00\", \"Confirmed\": 50468, \"Deaths\": 3160, \"Recovered\": 16711, \"Active\": 30597}, {\"Country\": \"Iran\", \"Date\": \"2020-04-03T00:00:00\", \"Confirmed\": 53183, \"Deaths\": 3294, \"Recovered\": 17935, \"Active\": 31954}, {\"Country\": \"Iran\", \"Date\": \"2020-04-04T00:00:00\", \"Confirmed\": 55743, \"Deaths\": 3452, \"Recovered\": 19736, \"Active\": 32555}, {\"Country\": \"Iran\", \"Date\": \"2020-04-05T00:00:00\", \"Confirmed\": 58226, \"Deaths\": 3603, \"Recovered\": 19736, \"Active\": 34887}, {\"Country\": \"Iran\", \"Date\": \"2020-04-06T00:00:00\", \"Confirmed\": 60500, \"Deaths\": 3739, \"Recovered\": 24236, \"Active\": 32525}, {\"Country\": \"Iran\", \"Date\": \"2020-04-07T00:00:00\", \"Confirmed\": 62589, \"Deaths\": 3872, \"Recovered\": 27039, \"Active\": 31678}, {\"Country\": \"Iran\", \"Date\": \"2020-04-08T00:00:00\", \"Confirmed\": 64586, \"Deaths\": 3993, \"Recovered\": 29812, \"Active\": 30781}, {\"Country\": \"Iran\", \"Date\": \"2020-04-09T00:00:00\", \"Confirmed\": 66220, \"Deaths\": 4110, \"Recovered\": 32309, \"Active\": 29801}, {\"Country\": \"Iran\", \"Date\": \"2020-04-10T00:00:00\", \"Confirmed\": 68192, \"Deaths\": 4232, \"Recovered\": 35465, \"Active\": 28495}, {\"Country\": \"Iran\", \"Date\": \"2020-04-11T00:00:00\", \"Confirmed\": 70029, \"Deaths\": 4357, \"Recovered\": 41947, \"Active\": 23725}, {\"Country\": \"Iran\", \"Date\": \"2020-04-12T00:00:00\", \"Confirmed\": 71686, \"Deaths\": 4474, \"Recovered\": 43894, \"Active\": 23318}, {\"Country\": \"Iran\", \"Date\": \"2020-04-13T00:00:00\", \"Confirmed\": 73303, \"Deaths\": 4585, \"Recovered\": 45983, \"Active\": 22735}, {\"Country\": \"Iran\", \"Date\": \"2020-04-14T00:00:00\", \"Confirmed\": 74877, \"Deaths\": 4683, \"Recovered\": 48129, \"Active\": 22065}, {\"Country\": \"Iran\", \"Date\": \"2020-04-15T00:00:00\", \"Confirmed\": 76389, \"Deaths\": 4777, \"Recovered\": 49933, \"Active\": 21679}, {\"Country\": \"Iran\", \"Date\": \"2020-04-16T00:00:00\", \"Confirmed\": 77995, \"Deaths\": 4869, \"Recovered\": 52229, \"Active\": 20897}, {\"Country\": \"Iran\", \"Date\": \"2020-04-17T00:00:00\", \"Confirmed\": 79494, \"Deaths\": 4958, \"Recovered\": 54064, \"Active\": 20472}, {\"Country\": \"Italy\", \"Date\": \"2020-01-31T00:00:00\", \"Confirmed\": 2, \"Deaths\": 0, \"Recovered\": 0, \"Active\": 2}, {\"Country\": \"Italy\", \"Date\": \"2020-02-01T00:00:00\", \"Confirmed\": 2, \"Deaths\": 0, \"Recovered\": 0, \"Active\": 2}, {\"Country\": \"Italy\", \"Date\": \"2020-02-02T00:00:00\", \"Confirmed\": 2, \"Deaths\": 0, \"Recovered\": 0, \"Active\": 2}, {\"Country\": \"Italy\", \"Date\": \"2020-02-03T00:00:00\", \"Confirmed\": 2, \"Deaths\": 0, \"Recovered\": 0, \"Active\": 2}, {\"Country\": \"Italy\", \"Date\": \"2020-02-04T00:00:00\", \"Confirmed\": 2, \"Deaths\": 0, \"Recovered\": 0, \"Active\": 2}, {\"Country\": \"Italy\", \"Date\": \"2020-02-05T00:00:00\", \"Confirmed\": 2, \"Deaths\": 0, \"Recovered\": 0, \"Active\": 2}, {\"Country\": \"Italy\", \"Date\": \"2020-02-06T00:00:00\", \"Confirmed\": 2, \"Deaths\": 0, \"Recovered\": 0, \"Active\": 2}, {\"Country\": \"Italy\", \"Date\": \"2020-02-07T00:00:00\", \"Confirmed\": 3, \"Deaths\": 0, \"Recovered\": 0, \"Active\": 3}, {\"Country\": \"Italy\", \"Date\": \"2020-02-08T00:00:00\", \"Confirmed\": 3, \"Deaths\": 0, \"Recovered\": 0, \"Active\": 3}, {\"Country\": \"Italy\", \"Date\": \"2020-02-09T00:00:00\", \"Confirmed\": 3, \"Deaths\": 0, \"Recovered\": 0, \"Active\": 3}, {\"Country\": \"Italy\", \"Date\": \"2020-02-10T00:00:00\", \"Confirmed\": 3, \"Deaths\": 0, \"Recovered\": 0, \"Active\": 3}, {\"Country\": \"Italy\", \"Date\": \"2020-02-11T00:00:00\", \"Confirmed\": 3, \"Deaths\": 0, \"Recovered\": 0, \"Active\": 3}, {\"Country\": \"Italy\", \"Date\": \"2020-02-12T00:00:00\", \"Confirmed\": 3, \"Deaths\": 0, \"Recovered\": 0, \"Active\": 3}, {\"Country\": \"Italy\", \"Date\": \"2020-02-13T00:00:00\", \"Confirmed\": 3, \"Deaths\": 0, \"Recovered\": 0, \"Active\": 3}, {\"Country\": \"Italy\", \"Date\": \"2020-02-14T00:00:00\", \"Confirmed\": 3, \"Deaths\": 0, \"Recovered\": 0, \"Active\": 3}, {\"Country\": \"Italy\", \"Date\": \"2020-02-15T00:00:00\", \"Confirmed\": 3, \"Deaths\": 0, \"Recovered\": 0, \"Active\": 3}, {\"Country\": \"Italy\", \"Date\": \"2020-02-16T00:00:00\", \"Confirmed\": 3, \"Deaths\": 0, \"Recovered\": 0, \"Active\": 3}, {\"Country\": \"Italy\", \"Date\": \"2020-02-17T00:00:00\", \"Confirmed\": 3, \"Deaths\": 0, \"Recovered\": 0, \"Active\": 3}, {\"Country\": \"Italy\", \"Date\": \"2020-02-18T00:00:00\", \"Confirmed\": 3, \"Deaths\": 0, \"Recovered\": 0, \"Active\": 3}, {\"Country\": \"Italy\", \"Date\": \"2020-02-19T00:00:00\", \"Confirmed\": 3, \"Deaths\": 0, \"Recovered\": 0, \"Active\": 3}, {\"Country\": \"Italy\", \"Date\": \"2020-02-20T00:00:00\", \"Confirmed\": 3, \"Deaths\": 0, \"Recovered\": 0, \"Active\": 3}, {\"Country\": \"Italy\", \"Date\": \"2020-02-21T00:00:00\", \"Confirmed\": 20, \"Deaths\": 1, \"Recovered\": 0, \"Active\": 19}, {\"Country\": \"Italy\", \"Date\": \"2020-02-22T00:00:00\", \"Confirmed\": 62, \"Deaths\": 2, \"Recovered\": 1, \"Active\": 59}, {\"Country\": \"Italy\", \"Date\": \"2020-02-23T00:00:00\", \"Confirmed\": 155, \"Deaths\": 3, \"Recovered\": 2, \"Active\": 150}, {\"Country\": \"Italy\", \"Date\": \"2020-02-24T00:00:00\", \"Confirmed\": 229, \"Deaths\": 7, \"Recovered\": 1, \"Active\": 221}, {\"Country\": \"Italy\", \"Date\": \"2020-02-25T00:00:00\", \"Confirmed\": 322, \"Deaths\": 10, \"Recovered\": 1, \"Active\": 311}, {\"Country\": \"Italy\", \"Date\": \"2020-02-26T00:00:00\", \"Confirmed\": 453, \"Deaths\": 12, \"Recovered\": 3, \"Active\": 438}, {\"Country\": \"Italy\", \"Date\": \"2020-02-27T00:00:00\", \"Confirmed\": 655, \"Deaths\": 17, \"Recovered\": 45, \"Active\": 593}, {\"Country\": \"Italy\", \"Date\": \"2020-02-28T00:00:00\", \"Confirmed\": 888, \"Deaths\": 21, \"Recovered\": 46, \"Active\": 821}, {\"Country\": \"Italy\", \"Date\": \"2020-02-29T00:00:00\", \"Confirmed\": 1128, \"Deaths\": 29, \"Recovered\": 46, \"Active\": 1053}, {\"Country\": \"Italy\", \"Date\": \"2020-03-01T00:00:00\", \"Confirmed\": 1694, \"Deaths\": 34, \"Recovered\": 83, \"Active\": 1577}, {\"Country\": \"Italy\", \"Date\": \"2020-03-02T00:00:00\", \"Confirmed\": 2036, \"Deaths\": 52, \"Recovered\": 149, \"Active\": 1835}, {\"Country\": \"Italy\", \"Date\": \"2020-03-03T00:00:00\", \"Confirmed\": 2502, \"Deaths\": 79, \"Recovered\": 160, \"Active\": 2263}, {\"Country\": \"Italy\", \"Date\": \"2020-03-04T00:00:00\", \"Confirmed\": 3089, \"Deaths\": 107, \"Recovered\": 276, \"Active\": 2706}, {\"Country\": \"Italy\", \"Date\": \"2020-03-05T00:00:00\", \"Confirmed\": 3858, \"Deaths\": 148, \"Recovered\": 414, \"Active\": 3296}, {\"Country\": \"Italy\", \"Date\": \"2020-03-06T00:00:00\", \"Confirmed\": 4636, \"Deaths\": 197, \"Recovered\": 523, \"Active\": 3916}, {\"Country\": \"Italy\", \"Date\": \"2020-03-07T00:00:00\", \"Confirmed\": 5883, \"Deaths\": 233, \"Recovered\": 589, \"Active\": 5061}, {\"Country\": \"Italy\", \"Date\": \"2020-03-08T00:00:00\", \"Confirmed\": 7375, \"Deaths\": 366, \"Recovered\": 622, \"Active\": 6387}, {\"Country\": \"Italy\", \"Date\": \"2020-03-09T00:00:00\", \"Confirmed\": 9172, \"Deaths\": 463, \"Recovered\": 724, \"Active\": 7985}, {\"Country\": \"Italy\", \"Date\": \"2020-03-10T00:00:00\", \"Confirmed\": 10149, \"Deaths\": 631, \"Recovered\": 724, \"Active\": 8794}, {\"Country\": \"Italy\", \"Date\": \"2020-03-11T00:00:00\", \"Confirmed\": 12462, \"Deaths\": 827, \"Recovered\": 1045, \"Active\": 10590}, {\"Country\": \"Italy\", \"Date\": \"2020-03-12T00:00:00\", \"Confirmed\": 12462, \"Deaths\": 827, \"Recovered\": 1045, \"Active\": 10590}, {\"Country\": \"Italy\", \"Date\": \"2020-03-13T00:00:00\", \"Confirmed\": 17660, \"Deaths\": 1266, \"Recovered\": 1439, \"Active\": 14955}, {\"Country\": \"Italy\", \"Date\": \"2020-03-14T00:00:00\", \"Confirmed\": 21157, \"Deaths\": 1441, \"Recovered\": 1966, \"Active\": 17750}, {\"Country\": \"Italy\", \"Date\": \"2020-03-15T00:00:00\", \"Confirmed\": 24747, \"Deaths\": 1809, \"Recovered\": 2335, \"Active\": 20603}, {\"Country\": \"Italy\", \"Date\": \"2020-03-16T00:00:00\", \"Confirmed\": 27980, \"Deaths\": 2158, \"Recovered\": 2749, \"Active\": 23073}, {\"Country\": \"Italy\", \"Date\": \"2020-03-17T00:00:00\", \"Confirmed\": 31506, \"Deaths\": 2503, \"Recovered\": 2941, \"Active\": 26062}, {\"Country\": \"Italy\", \"Date\": \"2020-03-18T00:00:00\", \"Confirmed\": 35713, \"Deaths\": 2978, \"Recovered\": 4025, \"Active\": 28710}, {\"Country\": \"Italy\", \"Date\": \"2020-03-19T00:00:00\", \"Confirmed\": 41035, \"Deaths\": 3405, \"Recovered\": 4440, \"Active\": 33190}, {\"Country\": \"Italy\", \"Date\": \"2020-03-20T00:00:00\", \"Confirmed\": 47021, \"Deaths\": 4032, \"Recovered\": 4440, \"Active\": 38549}, {\"Country\": \"Italy\", \"Date\": \"2020-03-21T00:00:00\", \"Confirmed\": 53578, \"Deaths\": 4825, \"Recovered\": 6072, \"Active\": 42681}, {\"Country\": \"Italy\", \"Date\": \"2020-03-22T00:00:00\", \"Confirmed\": 59138, \"Deaths\": 5476, \"Recovered\": 7024, \"Active\": 46638}, {\"Country\": \"Italy\", \"Date\": \"2020-03-23T00:00:00\", \"Confirmed\": 63927, \"Deaths\": 6077, \"Recovered\": 7432, \"Active\": 50418}, {\"Country\": \"Italy\", \"Date\": \"2020-03-24T00:00:00\", \"Confirmed\": 69176, \"Deaths\": 6820, \"Recovered\": 8326, \"Active\": 54030}, {\"Country\": \"Italy\", \"Date\": \"2020-03-25T00:00:00\", \"Confirmed\": 74386, \"Deaths\": 7503, \"Recovered\": 9362, \"Active\": 57521}, {\"Country\": \"Italy\", \"Date\": \"2020-03-26T00:00:00\", \"Confirmed\": 80589, \"Deaths\": 8215, \"Recovered\": 10361, \"Active\": 62013}, {\"Country\": \"Italy\", \"Date\": \"2020-03-27T00:00:00\", \"Confirmed\": 86498, \"Deaths\": 9134, \"Recovered\": 10950, \"Active\": 66414}, {\"Country\": \"Italy\", \"Date\": \"2020-03-28T00:00:00\", \"Confirmed\": 92472, \"Deaths\": 10023, \"Recovered\": 12384, \"Active\": 70065}, {\"Country\": \"Italy\", \"Date\": \"2020-03-29T00:00:00\", \"Confirmed\": 97689, \"Deaths\": 10779, \"Recovered\": 13030, \"Active\": 73880}, {\"Country\": \"Italy\", \"Date\": \"2020-03-30T00:00:00\", \"Confirmed\": 101739, \"Deaths\": 11591, \"Recovered\": 14620, \"Active\": 75528}, {\"Country\": \"Italy\", \"Date\": \"2020-03-31T00:00:00\", \"Confirmed\": 105792, \"Deaths\": 12428, \"Recovered\": 15729, \"Active\": 77635}, {\"Country\": \"Italy\", \"Date\": \"2020-04-01T00:00:00\", \"Confirmed\": 110574, \"Deaths\": 13155, \"Recovered\": 16847, \"Active\": 80572}, {\"Country\": \"Italy\", \"Date\": \"2020-04-02T00:00:00\", \"Confirmed\": 115242, \"Deaths\": 13915, \"Recovered\": 18278, \"Active\": 83049}, {\"Country\": \"Italy\", \"Date\": \"2020-04-03T00:00:00\", \"Confirmed\": 119827, \"Deaths\": 14681, \"Recovered\": 19758, \"Active\": 85388}, {\"Country\": \"Italy\", \"Date\": \"2020-04-04T00:00:00\", \"Confirmed\": 124632, \"Deaths\": 15362, \"Recovered\": 20996, \"Active\": 88274}, {\"Country\": \"Italy\", \"Date\": \"2020-04-05T00:00:00\", \"Confirmed\": 128948, \"Deaths\": 15887, \"Recovered\": 21815, \"Active\": 91246}, {\"Country\": \"Italy\", \"Date\": \"2020-04-06T00:00:00\", \"Confirmed\": 132547, \"Deaths\": 16523, \"Recovered\": 22837, \"Active\": 93187}, {\"Country\": \"Italy\", \"Date\": \"2020-04-07T00:00:00\", \"Confirmed\": 135586, \"Deaths\": 17127, \"Recovered\": 24392, \"Active\": 94067}, {\"Country\": \"Italy\", \"Date\": \"2020-04-08T00:00:00\", \"Confirmed\": 139422, \"Deaths\": 17669, \"Recovered\": 26491, \"Active\": 95262}, {\"Country\": \"Italy\", \"Date\": \"2020-04-09T00:00:00\", \"Confirmed\": 143626, \"Deaths\": 18279, \"Recovered\": 28470, \"Active\": 96877}, {\"Country\": \"Italy\", \"Date\": \"2020-04-10T00:00:00\", \"Confirmed\": 147577, \"Deaths\": 18849, \"Recovered\": 30455, \"Active\": 98273}, {\"Country\": \"Italy\", \"Date\": \"2020-04-11T00:00:00\", \"Confirmed\": 152271, \"Deaths\": 19468, \"Recovered\": 32534, \"Active\": 100269}, {\"Country\": \"Italy\", \"Date\": \"2020-04-12T00:00:00\", \"Confirmed\": 156363, \"Deaths\": 19899, \"Recovered\": 34211, \"Active\": 102253}, {\"Country\": \"Italy\", \"Date\": \"2020-04-13T00:00:00\", \"Confirmed\": 159516, \"Deaths\": 20465, \"Recovered\": 35435, \"Active\": 103616}, {\"Country\": \"Italy\", \"Date\": \"2020-04-14T00:00:00\", \"Confirmed\": 162488, \"Deaths\": 21067, \"Recovered\": 37130, \"Active\": 104291}, {\"Country\": \"Italy\", \"Date\": \"2020-04-15T00:00:00\", \"Confirmed\": 165155, \"Deaths\": 21645, \"Recovered\": 38092, \"Active\": 105418}, {\"Country\": \"Italy\", \"Date\": \"2020-04-16T00:00:00\", \"Confirmed\": 168941, \"Deaths\": 22170, \"Recovered\": 40164, \"Active\": 106607}, {\"Country\": \"Italy\", \"Date\": \"2020-04-17T00:00:00\", \"Confirmed\": 172434, \"Deaths\": 22745, \"Recovered\": 42727, \"Active\": 106962}, {\"Country\": \"Spain\", \"Date\": \"2020-02-01T00:00:00\", \"Confirmed\": 1, \"Deaths\": 0, \"Recovered\": 0, \"Active\": 1}, {\"Country\": \"Spain\", \"Date\": \"2020-02-02T00:00:00\", \"Confirmed\": 1, \"Deaths\": 0, \"Recovered\": 0, \"Active\": 1}, {\"Country\": \"Spain\", \"Date\": \"2020-02-03T00:00:00\", \"Confirmed\": 1, \"Deaths\": 0, \"Recovered\": 0, \"Active\": 1}, {\"Country\": \"Spain\", \"Date\": \"2020-02-04T00:00:00\", \"Confirmed\": 1, \"Deaths\": 0, \"Recovered\": 0, \"Active\": 1}, {\"Country\": \"Spain\", \"Date\": \"2020-02-05T00:00:00\", \"Confirmed\": 1, \"Deaths\": 0, \"Recovered\": 0, \"Active\": 1}, {\"Country\": \"Spain\", \"Date\": \"2020-02-06T00:00:00\", \"Confirmed\": 1, \"Deaths\": 0, \"Recovered\": 0, \"Active\": 1}, {\"Country\": \"Spain\", \"Date\": \"2020-02-07T00:00:00\", \"Confirmed\": 1, \"Deaths\": 0, \"Recovered\": 0, \"Active\": 1}, {\"Country\": \"Spain\", \"Date\": \"2020-02-08T00:00:00\", \"Confirmed\": 1, \"Deaths\": 0, \"Recovered\": 0, \"Active\": 1}, {\"Country\": \"Spain\", \"Date\": \"2020-02-09T00:00:00\", \"Confirmed\": 2, \"Deaths\": 0, \"Recovered\": 0, \"Active\": 2}, {\"Country\": \"Spain\", \"Date\": \"2020-02-10T00:00:00\", \"Confirmed\": 2, \"Deaths\": 0, \"Recovered\": 0, \"Active\": 2}, {\"Country\": \"Spain\", \"Date\": \"2020-02-11T00:00:00\", \"Confirmed\": 2, \"Deaths\": 0, \"Recovered\": 0, \"Active\": 2}, {\"Country\": \"Spain\", \"Date\": \"2020-02-12T00:00:00\", \"Confirmed\": 2, \"Deaths\": 0, \"Recovered\": 0, \"Active\": 2}, {\"Country\": \"Spain\", \"Date\": \"2020-02-13T00:00:00\", \"Confirmed\": 2, \"Deaths\": 0, \"Recovered\": 0, \"Active\": 2}, {\"Country\": \"Spain\", \"Date\": \"2020-02-14T00:00:00\", \"Confirmed\": 2, \"Deaths\": 0, \"Recovered\": 0, \"Active\": 2}, {\"Country\": \"Spain\", \"Date\": \"2020-02-15T00:00:00\", \"Confirmed\": 2, \"Deaths\": 0, \"Recovered\": 2, \"Active\": 0}, {\"Country\": \"Spain\", \"Date\": \"2020-02-16T00:00:00\", \"Confirmed\": 2, \"Deaths\": 0, \"Recovered\": 2, \"Active\": 0}, {\"Country\": \"Spain\", \"Date\": \"2020-02-17T00:00:00\", \"Confirmed\": 2, \"Deaths\": 0, \"Recovered\": 2, \"Active\": 0}, {\"Country\": \"Spain\", \"Date\": \"2020-02-18T00:00:00\", \"Confirmed\": 2, \"Deaths\": 0, \"Recovered\": 2, \"Active\": 0}, {\"Country\": \"Spain\", \"Date\": \"2020-02-19T00:00:00\", \"Confirmed\": 2, \"Deaths\": 0, \"Recovered\": 2, \"Active\": 0}, {\"Country\": \"Spain\", \"Date\": \"2020-02-20T00:00:00\", \"Confirmed\": 2, \"Deaths\": 0, \"Recovered\": 2, \"Active\": 0}, {\"Country\": \"Spain\", \"Date\": \"2020-02-21T00:00:00\", \"Confirmed\": 2, \"Deaths\": 0, \"Recovered\": 2, \"Active\": 0}, {\"Country\": \"Spain\", \"Date\": \"2020-02-22T00:00:00\", \"Confirmed\": 2, \"Deaths\": 0, \"Recovered\": 2, \"Active\": 0}, {\"Country\": \"Spain\", \"Date\": \"2020-02-23T00:00:00\", \"Confirmed\": 2, \"Deaths\": 0, \"Recovered\": 2, \"Active\": 0}, {\"Country\": \"Spain\", \"Date\": \"2020-02-24T00:00:00\", \"Confirmed\": 2, \"Deaths\": 0, \"Recovered\": 2, \"Active\": 0}, {\"Country\": \"Spain\", \"Date\": \"2020-02-25T00:00:00\", \"Confirmed\": 6, \"Deaths\": 0, \"Recovered\": 2, \"Active\": 4}, {\"Country\": \"Spain\", \"Date\": \"2020-02-26T00:00:00\", \"Confirmed\": 13, \"Deaths\": 0, \"Recovered\": 2, \"Active\": 11}, {\"Country\": \"Spain\", \"Date\": \"2020-02-27T00:00:00\", \"Confirmed\": 15, \"Deaths\": 0, \"Recovered\": 2, \"Active\": 13}, {\"Country\": \"Spain\", \"Date\": \"2020-02-28T00:00:00\", \"Confirmed\": 32, \"Deaths\": 0, \"Recovered\": 2, \"Active\": 30}, {\"Country\": \"Spain\", \"Date\": \"2020-02-29T00:00:00\", \"Confirmed\": 45, \"Deaths\": 0, \"Recovered\": 2, \"Active\": 43}, {\"Country\": \"Spain\", \"Date\": \"2020-03-01T00:00:00\", \"Confirmed\": 84, \"Deaths\": 0, \"Recovered\": 2, \"Active\": 82}, {\"Country\": \"Spain\", \"Date\": \"2020-03-02T00:00:00\", \"Confirmed\": 120, \"Deaths\": 0, \"Recovered\": 2, \"Active\": 118}, {\"Country\": \"Spain\", \"Date\": \"2020-03-03T00:00:00\", \"Confirmed\": 165, \"Deaths\": 1, \"Recovered\": 2, \"Active\": 162}, {\"Country\": \"Spain\", \"Date\": \"2020-03-04T00:00:00\", \"Confirmed\": 222, \"Deaths\": 2, \"Recovered\": 2, \"Active\": 218}, {\"Country\": \"Spain\", \"Date\": \"2020-03-05T00:00:00\", \"Confirmed\": 259, \"Deaths\": 3, \"Recovered\": 2, \"Active\": 254}, {\"Country\": \"Spain\", \"Date\": \"2020-03-06T00:00:00\", \"Confirmed\": 400, \"Deaths\": 5, \"Recovered\": 2, \"Active\": 393}, {\"Country\": \"Spain\", \"Date\": \"2020-03-07T00:00:00\", \"Confirmed\": 500, \"Deaths\": 10, \"Recovered\": 30, \"Active\": 460}, {\"Country\": \"Spain\", \"Date\": \"2020-03-08T00:00:00\", \"Confirmed\": 673, \"Deaths\": 17, \"Recovered\": 30, \"Active\": 626}, {\"Country\": \"Spain\", \"Date\": \"2020-03-09T00:00:00\", \"Confirmed\": 1073, \"Deaths\": 28, \"Recovered\": 32, \"Active\": 1013}, {\"Country\": \"Spain\", \"Date\": \"2020-03-10T00:00:00\", \"Confirmed\": 1695, \"Deaths\": 35, \"Recovered\": 32, \"Active\": 1628}, {\"Country\": \"Spain\", \"Date\": \"2020-03-11T00:00:00\", \"Confirmed\": 2277, \"Deaths\": 54, \"Recovered\": 183, \"Active\": 2040}, {\"Country\": \"Spain\", \"Date\": \"2020-03-12T00:00:00\", \"Confirmed\": 2277, \"Deaths\": 55, \"Recovered\": 183, \"Active\": 2039}, {\"Country\": \"Spain\", \"Date\": \"2020-03-13T00:00:00\", \"Confirmed\": 5232, \"Deaths\": 133, \"Recovered\": 193, \"Active\": 4906}, {\"Country\": \"Spain\", \"Date\": \"2020-03-14T00:00:00\", \"Confirmed\": 6391, \"Deaths\": 195, \"Recovered\": 517, \"Active\": 5679}, {\"Country\": \"Spain\", \"Date\": \"2020-03-15T00:00:00\", \"Confirmed\": 7798, \"Deaths\": 289, \"Recovered\": 517, \"Active\": 6992}, {\"Country\": \"Spain\", \"Date\": \"2020-03-16T00:00:00\", \"Confirmed\": 9942, \"Deaths\": 342, \"Recovered\": 530, \"Active\": 9070}, {\"Country\": \"Spain\", \"Date\": \"2020-03-17T00:00:00\", \"Confirmed\": 11748, \"Deaths\": 533, \"Recovered\": 1028, \"Active\": 10187}, {\"Country\": \"Spain\", \"Date\": \"2020-03-18T00:00:00\", \"Confirmed\": 13910, \"Deaths\": 623, \"Recovered\": 1081, \"Active\": 12206}, {\"Country\": \"Spain\", \"Date\": \"2020-03-19T00:00:00\", \"Confirmed\": 17963, \"Deaths\": 830, \"Recovered\": 1107, \"Active\": 16026}, {\"Country\": \"Spain\", \"Date\": \"2020-03-20T00:00:00\", \"Confirmed\": 20410, \"Deaths\": 1043, \"Recovered\": 1588, \"Active\": 17779}, {\"Country\": \"Spain\", \"Date\": \"2020-03-21T00:00:00\", \"Confirmed\": 25374, \"Deaths\": 1375, \"Recovered\": 2125, \"Active\": 21874}, {\"Country\": \"Spain\", \"Date\": \"2020-03-22T00:00:00\", \"Confirmed\": 28603, \"Deaths\": 1756, \"Recovered\": 2125, \"Active\": 24722}, {\"Country\": \"Spain\", \"Date\": \"2020-03-23T00:00:00\", \"Confirmed\": 35136, \"Deaths\": 2311, \"Recovered\": 3355, \"Active\": 29470}, {\"Country\": \"Spain\", \"Date\": \"2020-03-24T00:00:00\", \"Confirmed\": 39885, \"Deaths\": 2808, \"Recovered\": 3794, \"Active\": 33283}, {\"Country\": \"Spain\", \"Date\": \"2020-03-25T00:00:00\", \"Confirmed\": 49515, \"Deaths\": 3647, \"Recovered\": 5367, \"Active\": 40501}, {\"Country\": \"Spain\", \"Date\": \"2020-03-26T00:00:00\", \"Confirmed\": 57786, \"Deaths\": 4365, \"Recovered\": 7015, \"Active\": 46406}, {\"Country\": \"Spain\", \"Date\": \"2020-03-27T00:00:00\", \"Confirmed\": 65719, \"Deaths\": 5138, \"Recovered\": 9357, \"Active\": 51224}, {\"Country\": \"Spain\", \"Date\": \"2020-03-28T00:00:00\", \"Confirmed\": 73235, \"Deaths\": 5982, \"Recovered\": 12285, \"Active\": 54968}, {\"Country\": \"Spain\", \"Date\": \"2020-03-29T00:00:00\", \"Confirmed\": 80110, \"Deaths\": 6803, \"Recovered\": 14709, \"Active\": 58598}, {\"Country\": \"Spain\", \"Date\": \"2020-03-30T00:00:00\", \"Confirmed\": 87956, \"Deaths\": 7716, \"Recovered\": 16780, \"Active\": 63460}, {\"Country\": \"Spain\", \"Date\": \"2020-03-31T00:00:00\", \"Confirmed\": 95923, \"Deaths\": 8464, \"Recovered\": 19259, \"Active\": 68200}, {\"Country\": \"Spain\", \"Date\": \"2020-04-01T00:00:00\", \"Confirmed\": 104118, \"Deaths\": 9387, \"Recovered\": 22647, \"Active\": 72084}, {\"Country\": \"Spain\", \"Date\": \"2020-04-02T00:00:00\", \"Confirmed\": 112065, \"Deaths\": 10348, \"Recovered\": 26743, \"Active\": 74974}, {\"Country\": \"Spain\", \"Date\": \"2020-04-03T00:00:00\", \"Confirmed\": 119199, \"Deaths\": 11198, \"Recovered\": 30513, \"Active\": 77488}, {\"Country\": \"Spain\", \"Date\": \"2020-04-04T00:00:00\", \"Confirmed\": 126168, \"Deaths\": 11947, \"Recovered\": 34219, \"Active\": 80002}, {\"Country\": \"Spain\", \"Date\": \"2020-04-05T00:00:00\", \"Confirmed\": 131646, \"Deaths\": 12641, \"Recovered\": 38080, \"Active\": 80925}, {\"Country\": \"Spain\", \"Date\": \"2020-04-06T00:00:00\", \"Confirmed\": 136675, \"Deaths\": 13341, \"Recovered\": 40437, \"Active\": 82897}, {\"Country\": \"Spain\", \"Date\": \"2020-04-07T00:00:00\", \"Confirmed\": 141942, \"Deaths\": 14045, \"Recovered\": 43208, \"Active\": 84689}, {\"Country\": \"Spain\", \"Date\": \"2020-04-08T00:00:00\", \"Confirmed\": 148220, \"Deaths\": 14792, \"Recovered\": 48021, \"Active\": 85407}, {\"Country\": \"Spain\", \"Date\": \"2020-04-09T00:00:00\", \"Confirmed\": 153222, \"Deaths\": 15447, \"Recovered\": 52165, \"Active\": 85610}, {\"Country\": \"Spain\", \"Date\": \"2020-04-10T00:00:00\", \"Confirmed\": 158273, \"Deaths\": 16081, \"Recovered\": 55668, \"Active\": 86524}, {\"Country\": \"Spain\", \"Date\": \"2020-04-11T00:00:00\", \"Confirmed\": 163027, \"Deaths\": 16606, \"Recovered\": 59109, \"Active\": 87312}, {\"Country\": \"Spain\", \"Date\": \"2020-04-12T00:00:00\", \"Confirmed\": 166831, \"Deaths\": 17209, \"Recovered\": 62391, \"Active\": 87231}, {\"Country\": \"Spain\", \"Date\": \"2020-04-13T00:00:00\", \"Confirmed\": 170099, \"Deaths\": 17756, \"Recovered\": 64727, \"Active\": 87616}, {\"Country\": \"Spain\", \"Date\": \"2020-04-14T00:00:00\", \"Confirmed\": 172541, \"Deaths\": 18056, \"Recovered\": 67504, \"Active\": 86981}, {\"Country\": \"Spain\", \"Date\": \"2020-04-15T00:00:00\", \"Confirmed\": 177644, \"Deaths\": 18708, \"Recovered\": 70853, \"Active\": 88083}, {\"Country\": \"Spain\", \"Date\": \"2020-04-16T00:00:00\", \"Confirmed\": 184948, \"Deaths\": 19315, \"Recovered\": 74797, \"Active\": 90836}, {\"Country\": \"Spain\", \"Date\": \"2020-04-17T00:00:00\", \"Confirmed\": 190839, \"Deaths\": 20002, \"Recovered\": 74797, \"Active\": 96040}, {\"Country\": \"Turkey\", \"Date\": \"2020-03-11T00:00:00\", \"Confirmed\": 1, \"Deaths\": 0, \"Recovered\": 0, \"Active\": 1}, {\"Country\": \"Turkey\", \"Date\": \"2020-03-12T00:00:00\", \"Confirmed\": 1, \"Deaths\": 0, \"Recovered\": 0, \"Active\": 1}, {\"Country\": \"Turkey\", \"Date\": \"2020-03-13T00:00:00\", \"Confirmed\": 5, \"Deaths\": 0, \"Recovered\": 0, \"Active\": 5}, {\"Country\": \"Turkey\", \"Date\": \"2020-03-14T00:00:00\", \"Confirmed\": 5, \"Deaths\": 0, \"Recovered\": 0, \"Active\": 5}, {\"Country\": \"Turkey\", \"Date\": \"2020-03-15T00:00:00\", \"Confirmed\": 6, \"Deaths\": 0, \"Recovered\": 0, \"Active\": 6}, {\"Country\": \"Turkey\", \"Date\": \"2020-03-16T00:00:00\", \"Confirmed\": 18, \"Deaths\": 0, \"Recovered\": 0, \"Active\": 18}, {\"Country\": \"Turkey\", \"Date\": \"2020-03-17T00:00:00\", \"Confirmed\": 47, \"Deaths\": 1, \"Recovered\": 0, \"Active\": 46}, {\"Country\": \"Turkey\", \"Date\": \"2020-03-18T00:00:00\", \"Confirmed\": 98, \"Deaths\": 1, \"Recovered\": 0, \"Active\": 97}, {\"Country\": \"Turkey\", \"Date\": \"2020-03-19T00:00:00\", \"Confirmed\": 192, \"Deaths\": 3, \"Recovered\": 0, \"Active\": 189}, {\"Country\": \"Turkey\", \"Date\": \"2020-03-20T00:00:00\", \"Confirmed\": 359, \"Deaths\": 4, \"Recovered\": 0, \"Active\": 355}, {\"Country\": \"Turkey\", \"Date\": \"2020-03-21T00:00:00\", \"Confirmed\": 670, \"Deaths\": 9, \"Recovered\": 0, \"Active\": 661}, {\"Country\": \"Turkey\", \"Date\": \"2020-03-22T00:00:00\", \"Confirmed\": 1236, \"Deaths\": 30, \"Recovered\": 0, \"Active\": 1206}, {\"Country\": \"Turkey\", \"Date\": \"2020-03-23T00:00:00\", \"Confirmed\": 1529, \"Deaths\": 37, \"Recovered\": 0, \"Active\": 1492}, {\"Country\": \"Turkey\", \"Date\": \"2020-03-24T00:00:00\", \"Confirmed\": 1872, \"Deaths\": 44, \"Recovered\": 0, \"Active\": 1828}, {\"Country\": \"Turkey\", \"Date\": \"2020-03-25T00:00:00\", \"Confirmed\": 2433, \"Deaths\": 59, \"Recovered\": 26, \"Active\": 2348}, {\"Country\": \"Turkey\", \"Date\": \"2020-03-26T00:00:00\", \"Confirmed\": 3629, \"Deaths\": 75, \"Recovered\": 26, \"Active\": 3528}, {\"Country\": \"Turkey\", \"Date\": \"2020-03-27T00:00:00\", \"Confirmed\": 5698, \"Deaths\": 92, \"Recovered\": 42, \"Active\": 5564}, {\"Country\": \"Turkey\", \"Date\": \"2020-03-28T00:00:00\", \"Confirmed\": 7402, \"Deaths\": 108, \"Recovered\": 70, \"Active\": 7224}, {\"Country\": \"Turkey\", \"Date\": \"2020-03-29T00:00:00\", \"Confirmed\": 9217, \"Deaths\": 131, \"Recovered\": 105, \"Active\": 8981}, {\"Country\": \"Turkey\", \"Date\": \"2020-03-30T00:00:00\", \"Confirmed\": 10827, \"Deaths\": 168, \"Recovered\": 162, \"Active\": 10497}, {\"Country\": \"Turkey\", \"Date\": \"2020-03-31T00:00:00\", \"Confirmed\": 13531, \"Deaths\": 214, \"Recovered\": 243, \"Active\": 13074}, {\"Country\": \"Turkey\", \"Date\": \"2020-04-01T00:00:00\", \"Confirmed\": 15679, \"Deaths\": 277, \"Recovered\": 333, \"Active\": 15069}, {\"Country\": \"Turkey\", \"Date\": \"2020-04-02T00:00:00\", \"Confirmed\": 18135, \"Deaths\": 356, \"Recovered\": 415, \"Active\": 17364}, {\"Country\": \"Turkey\", \"Date\": \"2020-04-03T00:00:00\", \"Confirmed\": 20921, \"Deaths\": 425, \"Recovered\": 484, \"Active\": 20012}, {\"Country\": \"Turkey\", \"Date\": \"2020-04-04T00:00:00\", \"Confirmed\": 23934, \"Deaths\": 501, \"Recovered\": 786, \"Active\": 22647}, {\"Country\": \"Turkey\", \"Date\": \"2020-04-05T00:00:00\", \"Confirmed\": 27069, \"Deaths\": 574, \"Recovered\": 1042, \"Active\": 25453}, {\"Country\": \"Turkey\", \"Date\": \"2020-04-06T00:00:00\", \"Confirmed\": 30217, \"Deaths\": 649, \"Recovered\": 1326, \"Active\": 28242}, {\"Country\": \"Turkey\", \"Date\": \"2020-04-07T00:00:00\", \"Confirmed\": 34109, \"Deaths\": 725, \"Recovered\": 1582, \"Active\": 31802}, {\"Country\": \"Turkey\", \"Date\": \"2020-04-08T00:00:00\", \"Confirmed\": 38226, \"Deaths\": 812, \"Recovered\": 1846, \"Active\": 35568}, {\"Country\": \"Turkey\", \"Date\": \"2020-04-09T00:00:00\", \"Confirmed\": 42282, \"Deaths\": 908, \"Recovered\": 2142, \"Active\": 39232}, {\"Country\": \"Turkey\", \"Date\": \"2020-04-10T00:00:00\", \"Confirmed\": 47029, \"Deaths\": 1006, \"Recovered\": 2423, \"Active\": 43600}, {\"Country\": \"Turkey\", \"Date\": \"2020-04-11T00:00:00\", \"Confirmed\": 52167, \"Deaths\": 1101, \"Recovered\": 2965, \"Active\": 48101}, {\"Country\": \"Turkey\", \"Date\": \"2020-04-12T00:00:00\", \"Confirmed\": 56956, \"Deaths\": 1198, \"Recovered\": 3446, \"Active\": 52312}, {\"Country\": \"Turkey\", \"Date\": \"2020-04-13T00:00:00\", \"Confirmed\": 61049, \"Deaths\": 1296, \"Recovered\": 3957, \"Active\": 55796}, {\"Country\": \"Turkey\", \"Date\": \"2020-04-14T00:00:00\", \"Confirmed\": 65111, \"Deaths\": 1403, \"Recovered\": 4799, \"Active\": 58909}, {\"Country\": \"Turkey\", \"Date\": \"2020-04-15T00:00:00\", \"Confirmed\": 69392, \"Deaths\": 1518, \"Recovered\": 5674, \"Active\": 62200}, {\"Country\": \"Turkey\", \"Date\": \"2020-04-16T00:00:00\", \"Confirmed\": 74193, \"Deaths\": 1643, \"Recovered\": 7089, \"Active\": 65461}, {\"Country\": \"Turkey\", \"Date\": \"2020-04-17T00:00:00\", \"Confirmed\": 78546, \"Deaths\": 1769, \"Recovered\": 8631, \"Active\": 68146}, {\"Country\": \"US\", \"Date\": \"2020-01-22T00:00:00\", \"Confirmed\": 1, \"Deaths\": 0, \"Recovered\": 0, \"Active\": 1}, {\"Country\": \"US\", \"Date\": \"2020-01-23T00:00:00\", \"Confirmed\": 1, \"Deaths\": 0, \"Recovered\": 0, \"Active\": 1}, {\"Country\": \"US\", \"Date\": \"2020-01-24T00:00:00\", \"Confirmed\": 2, \"Deaths\": 0, \"Recovered\": 0, \"Active\": 2}, {\"Country\": \"US\", \"Date\": \"2020-01-25T00:00:00\", \"Confirmed\": 2, \"Deaths\": 0, \"Recovered\": 0, \"Active\": 2}, {\"Country\": \"US\", \"Date\": \"2020-01-26T00:00:00\", \"Confirmed\": 5, \"Deaths\": 0, \"Recovered\": 0, \"Active\": 5}, {\"Country\": \"US\", \"Date\": \"2020-01-27T00:00:00\", \"Confirmed\": 5, \"Deaths\": 0, \"Recovered\": 0, \"Active\": 5}, {\"Country\": \"US\", \"Date\": \"2020-01-28T00:00:00\", \"Confirmed\": 5, \"Deaths\": 0, \"Recovered\": 0, \"Active\": 5}, {\"Country\": \"US\", \"Date\": \"2020-01-29T00:00:00\", \"Confirmed\": 5, \"Deaths\": 0, \"Recovered\": 0, \"Active\": 5}, {\"Country\": \"US\", \"Date\": \"2020-01-30T00:00:00\", \"Confirmed\": 5, \"Deaths\": 0, \"Recovered\": 0, \"Active\": 5}, {\"Country\": \"US\", \"Date\": \"2020-01-31T00:00:00\", \"Confirmed\": 6, \"Deaths\": 0, \"Recovered\": 0, \"Active\": 6}, {\"Country\": \"US\", \"Date\": \"2020-02-01T00:00:00\", \"Confirmed\": 8, \"Deaths\": 0, \"Recovered\": 0, \"Active\": 8}, {\"Country\": \"US\", \"Date\": \"2020-02-02T00:00:00\", \"Confirmed\": 8, \"Deaths\": 0, \"Recovered\": 0, \"Active\": 8}, {\"Country\": \"US\", \"Date\": \"2020-02-03T00:00:00\", \"Confirmed\": 11, \"Deaths\": 0, \"Recovered\": 0, \"Active\": 11}, {\"Country\": \"US\", \"Date\": \"2020-02-04T00:00:00\", \"Confirmed\": 11, \"Deaths\": 0, \"Recovered\": 0, \"Active\": 11}, {\"Country\": \"US\", \"Date\": \"2020-02-05T00:00:00\", \"Confirmed\": 12, \"Deaths\": 0, \"Recovered\": 0, \"Active\": 12}, {\"Country\": \"US\", \"Date\": \"2020-02-06T00:00:00\", \"Confirmed\": 12, \"Deaths\": 0, \"Recovered\": 0, \"Active\": 12}, {\"Country\": \"US\", \"Date\": \"2020-02-07T00:00:00\", \"Confirmed\": 12, \"Deaths\": 0, \"Recovered\": 0, \"Active\": 12}, {\"Country\": \"US\", \"Date\": \"2020-02-08T00:00:00\", \"Confirmed\": 12, \"Deaths\": 0, \"Recovered\": 0, \"Active\": 12}, {\"Country\": \"US\", \"Date\": \"2020-02-09T00:00:00\", \"Confirmed\": 12, \"Deaths\": 0, \"Recovered\": 3, \"Active\": 9}, {\"Country\": \"US\", \"Date\": \"2020-02-10T00:00:00\", \"Confirmed\": 12, \"Deaths\": 0, \"Recovered\": 3, \"Active\": 9}, {\"Country\": \"US\", \"Date\": \"2020-02-11T00:00:00\", \"Confirmed\": 13, \"Deaths\": 0, \"Recovered\": 3, \"Active\": 10}, {\"Country\": \"US\", \"Date\": \"2020-02-12T00:00:00\", \"Confirmed\": 13, \"Deaths\": 0, \"Recovered\": 3, \"Active\": 10}, {\"Country\": \"US\", \"Date\": \"2020-02-13T00:00:00\", \"Confirmed\": 15, \"Deaths\": 0, \"Recovered\": 3, \"Active\": 12}, {\"Country\": \"US\", \"Date\": \"2020-02-14T00:00:00\", \"Confirmed\": 15, \"Deaths\": 0, \"Recovered\": 3, \"Active\": 12}, {\"Country\": \"US\", \"Date\": \"2020-02-15T00:00:00\", \"Confirmed\": 15, \"Deaths\": 0, \"Recovered\": 3, \"Active\": 12}, {\"Country\": \"US\", \"Date\": \"2020-02-16T00:00:00\", \"Confirmed\": 15, \"Deaths\": 0, \"Recovered\": 3, \"Active\": 12}, {\"Country\": \"US\", \"Date\": \"2020-02-17T00:00:00\", \"Confirmed\": 15, \"Deaths\": 0, \"Recovered\": 3, \"Active\": 12}, {\"Country\": \"US\", \"Date\": \"2020-02-18T00:00:00\", \"Confirmed\": 15, \"Deaths\": 0, \"Recovered\": 3, \"Active\": 12}, {\"Country\": \"US\", \"Date\": \"2020-02-19T00:00:00\", \"Confirmed\": 15, \"Deaths\": 0, \"Recovered\": 3, \"Active\": 12}, {\"Country\": \"US\", \"Date\": \"2020-02-20T00:00:00\", \"Confirmed\": 15, \"Deaths\": 0, \"Recovered\": 3, \"Active\": 12}, {\"Country\": \"US\", \"Date\": \"2020-02-21T00:00:00\", \"Confirmed\": 35, \"Deaths\": 0, \"Recovered\": 5, \"Active\": 30}, {\"Country\": \"US\", \"Date\": \"2020-02-22T00:00:00\", \"Confirmed\": 35, \"Deaths\": 0, \"Recovered\": 5, \"Active\": 30}, {\"Country\": \"US\", \"Date\": \"2020-02-23T00:00:00\", \"Confirmed\": 35, \"Deaths\": 0, \"Recovered\": 5, \"Active\": 30}, {\"Country\": \"US\", \"Date\": \"2020-02-24T00:00:00\", \"Confirmed\": 53, \"Deaths\": 0, \"Recovered\": 5, \"Active\": 48}, {\"Country\": \"US\", \"Date\": \"2020-02-25T00:00:00\", \"Confirmed\": 53, \"Deaths\": 0, \"Recovered\": 6, \"Active\": 47}, {\"Country\": \"US\", \"Date\": \"2020-02-26T00:00:00\", \"Confirmed\": 59, \"Deaths\": 0, \"Recovered\": 6, \"Active\": 53}, {\"Country\": \"US\", \"Date\": \"2020-02-27T00:00:00\", \"Confirmed\": 60, \"Deaths\": 0, \"Recovered\": 6, \"Active\": 54}, {\"Country\": \"US\", \"Date\": \"2020-02-28T00:00:00\", \"Confirmed\": 62, \"Deaths\": 0, \"Recovered\": 7, \"Active\": 55}, {\"Country\": \"US\", \"Date\": \"2020-02-29T00:00:00\", \"Confirmed\": 70, \"Deaths\": 1, \"Recovered\": 7, \"Active\": 62}, {\"Country\": \"US\", \"Date\": \"2020-03-01T00:00:00\", \"Confirmed\": 76, \"Deaths\": 1, \"Recovered\": 7, \"Active\": 68}, {\"Country\": \"US\", \"Date\": \"2020-03-02T00:00:00\", \"Confirmed\": 101, \"Deaths\": 6, \"Recovered\": 7, \"Active\": 88}, {\"Country\": \"US\", \"Date\": \"2020-03-03T00:00:00\", \"Confirmed\": 122, \"Deaths\": 7, \"Recovered\": 8, \"Active\": 107}, {\"Country\": \"US\", \"Date\": \"2020-03-04T00:00:00\", \"Confirmed\": 153, \"Deaths\": 11, \"Recovered\": 8, \"Active\": 134}, {\"Country\": \"US\", \"Date\": \"2020-03-05T00:00:00\", \"Confirmed\": 221, \"Deaths\": 12, \"Recovered\": 8, \"Active\": 201}, {\"Country\": \"US\", \"Date\": \"2020-03-06T00:00:00\", \"Confirmed\": 278, \"Deaths\": 14, \"Recovered\": 8, \"Active\": 256}, {\"Country\": \"US\", \"Date\": \"2020-03-07T00:00:00\", \"Confirmed\": 417, \"Deaths\": 17, \"Recovered\": 8, \"Active\": 392}, {\"Country\": \"US\", \"Date\": \"2020-03-08T00:00:00\", \"Confirmed\": 537, \"Deaths\": 21, \"Recovered\": 8, \"Active\": 508}, {\"Country\": \"US\", \"Date\": \"2020-03-09T00:00:00\", \"Confirmed\": 605, \"Deaths\": 22, \"Recovered\": 8, \"Active\": 575}, {\"Country\": \"US\", \"Date\": \"2020-03-10T00:00:00\", \"Confirmed\": 959, \"Deaths\": 28, \"Recovered\": 8, \"Active\": 923}, {\"Country\": \"US\", \"Date\": \"2020-03-11T00:00:00\", \"Confirmed\": 1281, \"Deaths\": 36, \"Recovered\": 8, \"Active\": 1237}, {\"Country\": \"US\", \"Date\": \"2020-03-12T00:00:00\", \"Confirmed\": 1663, \"Deaths\": 40, \"Recovered\": 12, \"Active\": 1611}, {\"Country\": \"US\", \"Date\": \"2020-03-13T00:00:00\", \"Confirmed\": 2179, \"Deaths\": 47, \"Recovered\": 12, \"Active\": 2120}, {\"Country\": \"US\", \"Date\": \"2020-03-14T00:00:00\", \"Confirmed\": 2726, \"Deaths\": 54, \"Recovered\": 12, \"Active\": 2660}, {\"Country\": \"US\", \"Date\": \"2020-03-15T00:00:00\", \"Confirmed\": 3499, \"Deaths\": 63, \"Recovered\": 12, \"Active\": 3424}, {\"Country\": \"US\", \"Date\": \"2020-03-16T00:00:00\", \"Confirmed\": 4632, \"Deaths\": 85, \"Recovered\": 17, \"Active\": 4530}, {\"Country\": \"US\", \"Date\": \"2020-03-17T00:00:00\", \"Confirmed\": 6421, \"Deaths\": 108, \"Recovered\": 17, \"Active\": 6296}, {\"Country\": \"US\", \"Date\": \"2020-03-18T00:00:00\", \"Confirmed\": 7786, \"Deaths\": 118, \"Recovered\": 106, \"Active\": 7562}, {\"Country\": \"US\", \"Date\": \"2020-03-19T00:00:00\", \"Confirmed\": 13680, \"Deaths\": 200, \"Recovered\": 108, \"Active\": 13372}, {\"Country\": \"US\", \"Date\": \"2020-03-20T00:00:00\", \"Confirmed\": 19101, \"Deaths\": 244, \"Recovered\": 147, \"Active\": 18710}, {\"Country\": \"US\", \"Date\": \"2020-03-21T00:00:00\", \"Confirmed\": 25514, \"Deaths\": 307, \"Recovered\": 171, \"Active\": 25036}, {\"Country\": \"US\", \"Date\": \"2020-03-22T00:00:00\", \"Confirmed\": 33848, \"Deaths\": 427, \"Recovered\": 0, \"Active\": 33421}, {\"Country\": \"US\", \"Date\": \"2020-03-23T00:00:00\", \"Confirmed\": 43663, \"Deaths\": 552, \"Recovered\": 0, \"Active\": 43111}, {\"Country\": \"US\", \"Date\": \"2020-03-24T00:00:00\", \"Confirmed\": 53736, \"Deaths\": 706, \"Recovered\": 348, \"Active\": 52682}, {\"Country\": \"US\", \"Date\": \"2020-03-25T00:00:00\", \"Confirmed\": 65778, \"Deaths\": 942, \"Recovered\": 361, \"Active\": 64475}, {\"Country\": \"US\", \"Date\": \"2020-03-26T00:00:00\", \"Confirmed\": 83836, \"Deaths\": 1209, \"Recovered\": 681, \"Active\": 81946}, {\"Country\": \"US\", \"Date\": \"2020-03-27T00:00:00\", \"Confirmed\": 101657, \"Deaths\": 1581, \"Recovered\": 869, \"Active\": 99207}, {\"Country\": \"US\", \"Date\": \"2020-03-28T00:00:00\", \"Confirmed\": 121465, \"Deaths\": 2026, \"Recovered\": 1072, \"Active\": 118367}, {\"Country\": \"US\", \"Date\": \"2020-03-29T00:00:00\", \"Confirmed\": 140909, \"Deaths\": 2467, \"Recovered\": 2665, \"Active\": 135777}, {\"Country\": \"US\", \"Date\": \"2020-03-30T00:00:00\", \"Confirmed\": 161831, \"Deaths\": 2978, \"Recovered\": 5644, \"Active\": 153209}, {\"Country\": \"US\", \"Date\": \"2020-03-31T00:00:00\", \"Confirmed\": 188172, \"Deaths\": 3873, \"Recovered\": 7024, \"Active\": 177275}, {\"Country\": \"US\", \"Date\": \"2020-04-01T00:00:00\", \"Confirmed\": 213372, \"Deaths\": 4757, \"Recovered\": 8474, \"Active\": 200141}, {\"Country\": \"US\", \"Date\": \"2020-04-02T00:00:00\", \"Confirmed\": 243599, \"Deaths\": 5926, \"Recovered\": 9001, \"Active\": 228672}, {\"Country\": \"US\", \"Date\": \"2020-04-03T00:00:00\", \"Confirmed\": 275586, \"Deaths\": 7087, \"Recovered\": 9707, \"Active\": 258792}, {\"Country\": \"US\", \"Date\": \"2020-04-04T00:00:00\", \"Confirmed\": 308853, \"Deaths\": 8407, \"Recovered\": 14652, \"Active\": 285794}, {\"Country\": \"US\", \"Date\": \"2020-04-05T00:00:00\", \"Confirmed\": 337072, \"Deaths\": 9619, \"Recovered\": 17448, \"Active\": 310005}, {\"Country\": \"US\", \"Date\": \"2020-04-06T00:00:00\", \"Confirmed\": 366667, \"Deaths\": 10783, \"Recovered\": 19581, \"Active\": 336303}, {\"Country\": \"US\", \"Date\": \"2020-04-07T00:00:00\", \"Confirmed\": 396223, \"Deaths\": 12722, \"Recovered\": 21763, \"Active\": 361738}, {\"Country\": \"US\", \"Date\": \"2020-04-08T00:00:00\", \"Confirmed\": 429052, \"Deaths\": 14695, \"Recovered\": 23559, \"Active\": 390798}, {\"Country\": \"US\", \"Date\": \"2020-04-09T00:00:00\", \"Confirmed\": 461437, \"Deaths\": 16478, \"Recovered\": 25410, \"Active\": 419549}, {\"Country\": \"US\", \"Date\": \"2020-04-10T00:00:00\", \"Confirmed\": 496535, \"Deaths\": 18586, \"Recovered\": 28790, \"Active\": 449159}, {\"Country\": \"US\", \"Date\": \"2020-04-11T00:00:00\", \"Confirmed\": 526396, \"Deaths\": 20462, \"Recovered\": 31270, \"Active\": 474664}, {\"Country\": \"US\", \"Date\": \"2020-04-12T00:00:00\", \"Confirmed\": 555313, \"Deaths\": 22019, \"Recovered\": 32988, \"Active\": 500306}, {\"Country\": \"US\", \"Date\": \"2020-04-13T00:00:00\", \"Confirmed\": 580619, \"Deaths\": 23528, \"Recovered\": 43482, \"Active\": 513609}, {\"Country\": \"US\", \"Date\": \"2020-04-14T00:00:00\", \"Confirmed\": 607670, \"Deaths\": 25831, \"Recovered\": 47763, \"Active\": 534076}, {\"Country\": \"US\", \"Date\": \"2020-04-15T00:00:00\", \"Confirmed\": 636350, \"Deaths\": 28325, \"Recovered\": 52096, \"Active\": 555929}, {\"Country\": \"US\", \"Date\": \"2020-04-16T00:00:00\", \"Confirmed\": 667801, \"Deaths\": 32916, \"Recovered\": 54703, \"Active\": 580182}, {\"Country\": \"US\", \"Date\": \"2020-04-17T00:00:00\", \"Confirmed\": 699706, \"Deaths\": 36773, \"Recovered\": 58545, \"Active\": 604388}, {\"Country\": \"United Kingdom\", \"Date\": \"2020-03-11T00:00:00\", \"Confirmed\": 459, \"Deaths\": 8, \"Recovered\": 19, \"Active\": 432}, {\"Country\": \"United Kingdom\", \"Date\": \"2020-03-12T00:00:00\", \"Confirmed\": 459, \"Deaths\": 8, \"Recovered\": 19, \"Active\": 432}, {\"Country\": \"United Kingdom\", \"Date\": \"2020-03-13T00:00:00\", \"Confirmed\": 801, \"Deaths\": 8, \"Recovered\": 19, \"Active\": 774}, {\"Country\": \"United Kingdom\", \"Date\": \"2020-03-14T00:00:00\", \"Confirmed\": 1143, \"Deaths\": 21, \"Recovered\": 19, \"Active\": 1103}, {\"Country\": \"United Kingdom\", \"Date\": \"2020-03-15T00:00:00\", \"Confirmed\": 1144, \"Deaths\": 21, \"Recovered\": 19, \"Active\": 1104}, {\"Country\": \"United Kingdom\", \"Date\": \"2020-03-16T00:00:00\", \"Confirmed\": 1551, \"Deaths\": 56, \"Recovered\": 21, \"Active\": 1474}, {\"Country\": \"United Kingdom\", \"Date\": \"2020-03-17T00:00:00\", \"Confirmed\": 1960, \"Deaths\": 56, \"Recovered\": 53, \"Active\": 1851}, {\"Country\": \"United Kingdom\", \"Date\": \"2020-03-18T00:00:00\", \"Confirmed\": 2642, \"Deaths\": 72, \"Recovered\": 67, \"Active\": 2503}, {\"Country\": \"United Kingdom\", \"Date\": \"2020-03-19T00:00:00\", \"Confirmed\": 2716, \"Deaths\": 138, \"Recovered\": 67, \"Active\": 2511}, {\"Country\": \"United Kingdom\", \"Date\": \"2020-03-20T00:00:00\", \"Confirmed\": 4014, \"Deaths\": 178, \"Recovered\": 67, \"Active\": 3769}, {\"Country\": \"United Kingdom\", \"Date\": \"2020-03-21T00:00:00\", \"Confirmed\": 5067, \"Deaths\": 234, \"Recovered\": 67, \"Active\": 4766}, {\"Country\": \"United Kingdom\", \"Date\": \"2020-03-22T00:00:00\", \"Confirmed\": 5741, \"Deaths\": 282, \"Recovered\": 95, \"Active\": 5364}, {\"Country\": \"United Kingdom\", \"Date\": \"2020-03-23T00:00:00\", \"Confirmed\": 6726, \"Deaths\": 336, \"Recovered\": 140, \"Active\": 6250}, {\"Country\": \"United Kingdom\", \"Date\": \"2020-03-24T00:00:00\", \"Confirmed\": 8164, \"Deaths\": 423, \"Recovered\": 140, \"Active\": 7601}, {\"Country\": \"United Kingdom\", \"Date\": \"2020-03-25T00:00:00\", \"Confirmed\": 9640, \"Deaths\": 466, \"Recovered\": 140, \"Active\": 9034}, {\"Country\": \"United Kingdom\", \"Date\": \"2020-03-26T00:00:00\", \"Confirmed\": 11812, \"Deaths\": 580, \"Recovered\": 150, \"Active\": 11082}, {\"Country\": \"United Kingdom\", \"Date\": \"2020-03-27T00:00:00\", \"Confirmed\": 14745, \"Deaths\": 761, \"Recovered\": 151, \"Active\": 13833}, {\"Country\": \"United Kingdom\", \"Date\": \"2020-03-28T00:00:00\", \"Confirmed\": 17312, \"Deaths\": 1021, \"Recovered\": 151, \"Active\": 16140}, {\"Country\": \"United Kingdom\", \"Date\": \"2020-03-29T00:00:00\", \"Confirmed\": 19780, \"Deaths\": 1231, \"Recovered\": 151, \"Active\": 18398}, {\"Country\": \"United Kingdom\", \"Date\": \"2020-03-30T00:00:00\", \"Confirmed\": 22453, \"Deaths\": 1411, \"Recovered\": 171, \"Active\": 20871}, {\"Country\": \"United Kingdom\", \"Date\": \"2020-03-31T00:00:00\", \"Confirmed\": 25481, \"Deaths\": 1793, \"Recovered\": 179, \"Active\": 23509}, {\"Country\": \"United Kingdom\", \"Date\": \"2020-04-01T00:00:00\", \"Confirmed\": 29865, \"Deaths\": 2357, \"Recovered\": 179, \"Active\": 27329}, {\"Country\": \"United Kingdom\", \"Date\": \"2020-04-02T00:00:00\", \"Confirmed\": 34173, \"Deaths\": 2926, \"Recovered\": 192, \"Active\": 31055}, {\"Country\": \"United Kingdom\", \"Date\": \"2020-04-03T00:00:00\", \"Confirmed\": 38689, \"Deaths\": 3611, \"Recovered\": 208, \"Active\": 34870}, {\"Country\": \"United Kingdom\", \"Date\": \"2020-04-04T00:00:00\", \"Confirmed\": 42477, \"Deaths\": 4320, \"Recovered\": 215, \"Active\": 37942}, {\"Country\": \"United Kingdom\", \"Date\": \"2020-04-05T00:00:00\", \"Confirmed\": 48436, \"Deaths\": 4943, \"Recovered\": 229, \"Active\": 43264}, {\"Country\": \"United Kingdom\", \"Date\": \"2020-04-06T00:00:00\", \"Confirmed\": 52279, \"Deaths\": 5385, \"Recovered\": 287, \"Active\": 46607}, {\"Country\": \"United Kingdom\", \"Date\": \"2020-04-07T00:00:00\", \"Confirmed\": 55949, \"Deaths\": 6171, \"Recovered\": 325, \"Active\": 49453}, {\"Country\": \"United Kingdom\", \"Date\": \"2020-04-08T00:00:00\", \"Confirmed\": 61474, \"Deaths\": 7111, \"Recovered\": 345, \"Active\": 54018}, {\"Country\": \"United Kingdom\", \"Date\": \"2020-04-09T00:00:00\", \"Confirmed\": 65872, \"Deaths\": 7993, \"Recovered\": 359, \"Active\": 57520}, {\"Country\": \"United Kingdom\", \"Date\": \"2020-04-10T00:00:00\", \"Confirmed\": 74605, \"Deaths\": 8974, \"Recovered\": 588, \"Active\": 65043}, {\"Country\": \"United Kingdom\", \"Date\": \"2020-04-11T00:00:00\", \"Confirmed\": 79874, \"Deaths\": 9892, \"Recovered\": 622, \"Active\": 69360}, {\"Country\": \"United Kingdom\", \"Date\": \"2020-04-12T00:00:00\", \"Confirmed\": 85206, \"Deaths\": 10629, \"Recovered\": 626, \"Active\": 73951}, {\"Country\": \"United Kingdom\", \"Date\": \"2020-04-13T00:00:00\", \"Confirmed\": 89570, \"Deaths\": 11347, \"Recovered\": 304, \"Active\": 77919}, {\"Country\": \"United Kingdom\", \"Date\": \"2020-04-14T00:00:00\", \"Confirmed\": 94845, \"Deaths\": 12129, \"Recovered\": 323, \"Active\": 82393}, {\"Country\": \"United Kingdom\", \"Date\": \"2020-04-15T00:00:00\", \"Confirmed\": 99483, \"Deaths\": 12894, \"Recovered\": 368, \"Active\": 86221}, {\"Country\": \"United Kingdom\", \"Date\": \"2020-04-16T00:00:00\", \"Confirmed\": 104145, \"Deaths\": 13759, \"Recovered\": 375, \"Active\": 90011}, {\"Country\": \"United Kingdom\", \"Date\": \"2020-04-17T00:00:00\", \"Confirmed\": 109769, \"Deaths\": 14607, \"Recovered\": 394, \"Active\": 94768}]}}, {\"mode\": \"vega-lite\"});\n",
              "</script>"
            ]
          },
          "metadata": {
            "tags": []
          }
        }
      ]
    },
    {
      "cell_type": "markdown",
      "metadata": {
        "id": "LeDCJznmfX9x",
        "colab_type": "text"
      },
      "source": [
        "## Exporting plots"
      ]
    },
    {
      "cell_type": "code",
      "metadata": {
        "id": "72zDq_b-ffp8",
        "colab_type": "code",
        "colab": {}
      },
      "source": [
        "from google.colab import files\n",
        "\n",
        "def enableExports():\n",
        "\n",
        "  !pip install -q  altair_saver\n",
        "  import altair_saver\n",
        "  from altair_saver import save\n",
        "\n",
        "  !pip install selenium\n",
        "  !apt-get update\n",
        "  !apt-get install chromium-chromedriver\n",
        "\n",
        "\n",
        "def exportPlots():\n",
        "\n",
        "  nordicMulti = getMultiPlots(getCountriesNordic())\n",
        "  nLargestMulti = getMultiPlots(getCountriesNLargest())\n",
        "\n",
        "  nordic_countries = ['Denmark', 'Finland', 'Iceland', 'Norway', 'Sweden' ]\n",
        "\n",
        "  n = getCountriesNordic()\n",
        "  nordicCountry = [ getCountryPlots(n, 0), getCountryPlots(n, 1), getCountryPlots(n, 2), getCountryPlots(n, 3), getCountryPlots(n, 4) ]\n",
        "  nLargestCountry = getCountryPlots(getCountriesNLargest())\n",
        "\n",
        "  types = [ 'json', 'svg', 'png', 'html' ]\n",
        "\n",
        "  !rm *.json *.svg *.png *.html\n",
        "\n",
        "  for suffix in types:\n",
        "    nordicMulti.save('nordic_multi_plots.' + suffix)\n",
        "    nLargestMulti.save('nlargest_multi_plots.' + suffix)\n",
        "\n",
        "    for i, c in enumerate(nordicCountry):\n",
        "      c.save(nordic_countries[i].lower() + '_country_plots.' + suffix)\n",
        "\n",
        "    nLargestCountry.save('nlargest_country_plots.' + suffix)\n",
        "\n",
        "  !ls\n",
        "\n",
        "  !rm plots.zip\n",
        "  !zip plots.zip *.json *.svg *.png *.html\n",
        "  files.download('plots.zip')\n"
      ],
      "execution_count": 0,
      "outputs": []
    },
    {
      "cell_type": "code",
      "metadata": {
        "id": "n2BrI04g7GQp",
        "colab_type": "code",
        "colab": {
          "base_uri": "https://localhost:8080/",
          "height": 111
        },
        "outputId": "5c0bdbfd-5f56-4254-bd28-fcafe01e18e3"
      },
      "source": [
        "nordic_countries = ['Denmark', 'Finland', 'Iceland', 'Norway', 'Sweden' ]\n",
        "for i, c in enumerate(nordic_countries):\n",
        "  print(nordic_countries[i].lower())"
      ],
      "execution_count": 64,
      "outputs": [
        {
          "output_type": "stream",
          "text": [
            "denmark\n",
            "finland\n",
            "iceland\n",
            "norway\n",
            "sweden\n"
          ],
          "name": "stdout"
        }
      ]
    },
    {
      "cell_type": "code",
      "metadata": {
        "id": "Xqjb9DnwfhYB",
        "colab_type": "code",
        "outputId": "c330b54d-b41d-42a2-90e1-3a1bb523a164",
        "colab": {
          "base_uri": "https://localhost:8080/",
          "height": 1000
        }
      },
      "source": [
        "enableExports()"
      ],
      "execution_count": 52,
      "outputs": [
        {
          "output_type": "stream",
          "text": [
            "\u001b[K     |████████████████████████████████| 92kB 3.5MB/s \n",
            "\u001b[K     |████████████████████████████████| 563kB 13.5MB/s \n",
            "\u001b[K     |████████████████████████████████| 911kB 17.1MB/s \n",
            "\u001b[?25hRequirement already satisfied: selenium in /usr/local/lib/python3.6/dist-packages (3.141.0)\n",
            "Requirement already satisfied: urllib3 in /usr/local/lib/python3.6/dist-packages (from selenium) (1.24.3)\n",
            "Get:1 https://cloud.r-project.org/bin/linux/ubuntu bionic-cran35/ InRelease [3,626 B]\n",
            "Ign:2 https://developer.download.nvidia.com/compute/cuda/repos/ubuntu1804/x86_64  InRelease\n",
            "Ign:3 https://developer.download.nvidia.com/compute/machine-learning/repos/ubuntu1804/x86_64  InRelease\n",
            "Hit:4 https://developer.download.nvidia.com/compute/cuda/repos/ubuntu1804/x86_64  Release\n",
            "Hit:5 https://developer.download.nvidia.com/compute/machine-learning/repos/ubuntu1804/x86_64  Release\n",
            "Get:6 http://security.ubuntu.com/ubuntu bionic-security InRelease [88.7 kB]\n",
            "Get:7 http://ppa.launchpad.net/graphics-drivers/ppa/ubuntu bionic InRelease [21.3 kB]\n",
            "Hit:8 http://archive.ubuntu.com/ubuntu bionic InRelease\n",
            "Get:9 https://cloud.r-project.org/bin/linux/ubuntu bionic-cran35/ Packages [88.1 kB]\n",
            "Get:10 http://archive.ubuntu.com/ubuntu bionic-updates InRelease [88.7 kB]\n",
            "Get:13 http://ppa.launchpad.net/marutter/c2d4u3.5/ubuntu bionic InRelease [15.4 kB]\n",
            "Get:14 http://archive.ubuntu.com/ubuntu bionic-backports InRelease [74.6 kB]\n",
            "Get:15 http://ppa.launchpad.net/graphics-drivers/ppa/ubuntu bionic/main amd64 Packages [37.4 kB]\n",
            "Get:16 http://security.ubuntu.com/ubuntu bionic-security/main amd64 Packages [889 kB]\n",
            "Get:17 http://ppa.launchpad.net/marutter/c2d4u3.5/ubuntu bionic/main Sources [1,811 kB]\n",
            "Get:18 http://archive.ubuntu.com/ubuntu bionic-updates/main amd64 Packages [1,183 kB]\n",
            "Get:19 http://security.ubuntu.com/ubuntu bionic-security/restricted amd64 Packages [44.6 kB]\n",
            "Get:20 http://security.ubuntu.com/ubuntu bionic-security/multiverse amd64 Packages [8,213 B]\n",
            "Get:21 http://security.ubuntu.com/ubuntu bionic-security/universe amd64 Packages [839 kB]\n",
            "Get:22 http://archive.ubuntu.com/ubuntu bionic-updates/restricted amd64 Packages [59.0 kB]\n",
            "Get:23 http://archive.ubuntu.com/ubuntu bionic-updates/universe amd64 Packages [1,372 kB]\n",
            "Get:24 http://archive.ubuntu.com/ubuntu bionic-updates/multiverse amd64 Packages [12.6 kB]\n",
            "Get:25 http://ppa.launchpad.net/marutter/c2d4u3.5/ubuntu bionic/main amd64 Packages [874 kB]\n",
            "Fetched 7,510 kB in 4s (1,803 kB/s)\n",
            "Reading package lists... Done\n",
            "Reading package lists... Done\n",
            "Building dependency tree       \n",
            "Reading state information... Done\n",
            "The following additional packages will be installed:\n",
            "  chromium-browser chromium-browser-l10n chromium-codecs-ffmpeg-extra\n",
            "Suggested packages:\n",
            "  webaccounts-chromium-extension unity-chromium-extension adobe-flashplugin\n",
            "The following NEW packages will be installed:\n",
            "  chromium-browser chromium-browser-l10n chromium-chromedriver\n",
            "  chromium-codecs-ffmpeg-extra\n",
            "0 upgraded, 4 newly installed, 0 to remove and 62 not upgraded.\n",
            "Need to get 74.4 MB of archives.\n",
            "After this operation, 264 MB of additional disk space will be used.\n",
            "Get:1 http://archive.ubuntu.com/ubuntu bionic-updates/universe amd64 chromium-codecs-ffmpeg-extra amd64 80.0.3987.163-0ubuntu0.18.04.1 [1,095 kB]\n",
            "Get:2 http://archive.ubuntu.com/ubuntu bionic-updates/universe amd64 chromium-browser amd64 80.0.3987.163-0ubuntu0.18.04.1 [66.1 MB]\n",
            "Get:3 http://archive.ubuntu.com/ubuntu bionic-updates/universe amd64 chromium-browser-l10n all 80.0.3987.163-0ubuntu0.18.04.1 [3,160 kB]\n",
            "Get:4 http://archive.ubuntu.com/ubuntu bionic-updates/universe amd64 chromium-chromedriver amd64 80.0.3987.163-0ubuntu0.18.04.1 [4,045 kB]\n",
            "Fetched 74.4 MB in 5s (14.9 MB/s)\n",
            "Selecting previously unselected package chromium-codecs-ffmpeg-extra.\n",
            "(Reading database ... 144568 files and directories currently installed.)\n",
            "Preparing to unpack .../chromium-codecs-ffmpeg-extra_80.0.3987.163-0ubuntu0.18.04.1_amd64.deb ...\n",
            "Unpacking chromium-codecs-ffmpeg-extra (80.0.3987.163-0ubuntu0.18.04.1) ...\n",
            "Selecting previously unselected package chromium-browser.\n",
            "Preparing to unpack .../chromium-browser_80.0.3987.163-0ubuntu0.18.04.1_amd64.deb ...\n",
            "Unpacking chromium-browser (80.0.3987.163-0ubuntu0.18.04.1) ...\n",
            "Selecting previously unselected package chromium-browser-l10n.\n",
            "Preparing to unpack .../chromium-browser-l10n_80.0.3987.163-0ubuntu0.18.04.1_all.deb ...\n",
            "Unpacking chromium-browser-l10n (80.0.3987.163-0ubuntu0.18.04.1) ...\n",
            "Selecting previously unselected package chromium-chromedriver.\n",
            "Preparing to unpack .../chromium-chromedriver_80.0.3987.163-0ubuntu0.18.04.1_amd64.deb ...\n",
            "Unpacking chromium-chromedriver (80.0.3987.163-0ubuntu0.18.04.1) ...\n",
            "Setting up chromium-codecs-ffmpeg-extra (80.0.3987.163-0ubuntu0.18.04.1) ...\n",
            "Setting up chromium-browser (80.0.3987.163-0ubuntu0.18.04.1) ...\n",
            "update-alternatives: using /usr/bin/chromium-browser to provide /usr/bin/x-www-browser (x-www-browser) in auto mode\n",
            "update-alternatives: using /usr/bin/chromium-browser to provide /usr/bin/gnome-www-browser (gnome-www-browser) in auto mode\n",
            "Setting up chromium-chromedriver (80.0.3987.163-0ubuntu0.18.04.1) ...\n",
            "Setting up chromium-browser-l10n (80.0.3987.163-0ubuntu0.18.04.1) ...\n",
            "Processing triggers for hicolor-icon-theme (0.17-2) ...\n",
            "Processing triggers for mime-support (3.60ubuntu1) ...\n",
            "Processing triggers for man-db (2.8.3-2ubuntu0.1) ...\n"
          ],
          "name": "stdout"
        }
      ]
    },
    {
      "cell_type": "code",
      "metadata": {
        "id": "eUgTxQeTpdvf",
        "colab_type": "code",
        "outputId": "14cf9090-72d0-411c-a26d-e8313c438b5e",
        "colab": {
          "base_uri": "https://localhost:8080/",
          "height": 1000
        }
      },
      "source": [
        "exportPlots()"
      ],
      "execution_count": 75,
      "outputs": [
        {
          "output_type": "stream",
          "text": [
            "Data last updated on 2020-04-17\n",
            "Data last updated on 2020-04-17\n",
            "archived_data\t\t     nlargest_multi_plots.json\n",
            "csse_covid_19_data\t     nlargest_multi_plots.png\n",
            "denmark_country_plots.html   nlargest_multi_plots.svg\n",
            "denmark_country_plots.json   nordic_multi_plots.html\n",
            "denmark_country_plots.png    nordic_multi_plots.json\n",
            "denmark_country_plots.svg    nordic_multi_plots.png\n",
            "finland_country_plots.html   nordic_multi_plots.svg\n",
            "finland_country_plots.json   norway_country_plots.html\n",
            "finland_country_plots.png    norway_country_plots.json\n",
            "finland_country_plots.svg    norway_country_plots.png\n",
            "iceland_country_plots.html   norway_country_plots.svg\n",
            "iceland_country_plots.json   plots.zip\n",
            "iceland_country_plots.png    README.md\n",
            "iceland_country_plots.svg    sweden_country_plots.html\n",
            "nlargest_country_plots.html  sweden_country_plots.json\n",
            "nlargest_country_plots.json  sweden_country_plots.png\n",
            "nlargest_country_plots.png   sweden_country_plots.svg\n",
            "nlargest_country_plots.svg   who_covid_19_situation_reports\n",
            "nlargest_multi_plots.html\n",
            "  adding: denmark_country_plots.json (deflated 89%)\n",
            "  adding: finland_country_plots.json (deflated 89%)\n",
            "  adding: iceland_country_plots.json (deflated 89%)\n",
            "  adding: nlargest_country_plots.json (deflated 87%)\n",
            "  adding: nlargest_multi_plots.json (deflated 88%)\n",
            "  adding: nordic_multi_plots.json (deflated 90%)\n",
            "  adding: norway_country_plots.json (deflated 89%)\n",
            "  adding: sweden_country_plots.json (deflated 89%)\n",
            "  adding: denmark_country_plots.svg (deflated 85%)\n",
            "  adding: finland_country_plots.svg (deflated 87%)\n",
            "  adding: iceland_country_plots.svg (deflated 87%)\n",
            "  adding: nlargest_country_plots.svg (deflated 86%)\n",
            "  adding: nlargest_multi_plots.svg (deflated 86%)\n",
            "  adding: nordic_multi_plots.svg (deflated 90%)\n",
            "  adding: norway_country_plots.svg (deflated 87%)\n",
            "  adding: sweden_country_plots.svg (deflated 87%)\n",
            "  adding: denmark_country_plots.png (deflated 4%)\n",
            "  adding: finland_country_plots.png (deflated 5%)\n",
            "  adding: iceland_country_plots.png (deflated 3%)\n",
            "  adding: nlargest_country_plots.png (deflated 7%)\n",
            "  adding: nlargest_multi_plots.png (deflated 4%)\n",
            "  adding: nordic_multi_plots.png (deflated 6%)\n",
            "  adding: norway_country_plots.png (deflated 5%)\n",
            "  adding: sweden_country_plots.png (deflated 6%)\n",
            "  adding: denmark_country_plots.html (deflated 88%)\n",
            "  adding: finland_country_plots.html (deflated 88%)\n",
            "  adding: iceland_country_plots.html (deflated 88%)\n",
            "  adding: nlargest_country_plots.html (deflated 87%)\n",
            "  adding: nlargest_multi_plots.html (deflated 87%)\n",
            "  adding: nordic_multi_plots.html (deflated 88%)\n",
            "  adding: norway_country_plots.html (deflated 88%)\n",
            "  adding: sweden_country_plots.html (deflated 88%)\n"
          ],
          "name": "stdout"
        }
      ]
    }
  ]
}